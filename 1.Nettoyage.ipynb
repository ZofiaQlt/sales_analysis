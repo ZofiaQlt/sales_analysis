{
 "cells": [
  {
   "cell_type": "markdown",
   "id": "d87ac577",
   "metadata": {
    "canvas": {
     "comments": [],
     "componentType": "CodeCell",
     "copiedOriginId": null,
     "diskcache": false,
     "headerColor": "none",
     "id": "86282c1c-f506-44fc-8e89-dba79f089ea4",
     "isComponent": false,
     "name": "",
     "parents": []
    },
    "tags": []
   },
   "source": [
    "<img src=\"img/logo.png\">"
   ]
  },
  {
   "cell_type": "markdown",
   "id": "0eba6a53",
   "metadata": {
    "canvas": {
     "comments": [],
     "componentType": "CodeCell",
     "copiedOriginId": null,
     "diskcache": false,
     "headerColor": "none",
     "id": "dd28416d-6089-4304-b046-c302e1461dae",
     "isComponent": false,
     "name": "",
     "parents": []
    }
   },
   "source": [
    "# Chargement des librairies"
   ]
  },
  {
   "cell_type": "code",
   "execution_count": 1,
   "id": "68920839",
   "metadata": {
    "canvas": {
     "comments": [],
     "componentType": "CodeCell",
     "copiedOriginId": null,
     "diskcache": false,
     "headerColor": "none",
     "id": "9d0bd70a-9087-45cf-b76e-577e30e1c78e",
     "isComponent": false,
     "name": "",
     "parents": []
    }
   },
   "outputs": [
    {
     "name": "stdout",
     "output_type": "stream",
     "text": [
      "Version numpy : 1.23.5\n",
      "Version pandas : 1.4.4\n"
     ]
    }
   ],
   "source": [
    "import numpy as np\n",
    "import pandas as pd\n",
    "from mylib.fonction_exploration import exploration\n",
    "from mylib.fonction_pk import test_pk\n",
    "import warnings\n",
    "warnings.filterwarnings('ignore')\n",
    "\n",
    "print(\"Version numpy : \" + np.__version__)\n",
    "print(\"Version pandas : \" + pd.__version__)\n",
    "\n",
    "bold = \"\\033[1m\"\n",
    "red = \"\\033[31m\"\n",
    "end = \"\\033[0;0m\"\n",
    "\n",
    "chemin_erp = 'src/erp.xlsx'\n",
    "chemin_liaison = 'src/liaison.xlsx'\n",
    "chemin_web = 'src/web.xlsx'"
   ]
  },
  {
   "cell_type": "markdown",
   "id": "1d8ba424",
   "metadata": {
    "canvas": {
     "comments": [],
     "componentType": "CodeCell",
     "copiedOriginId": null,
     "diskcache": false,
     "headerColor": "none",
     "id": "a862d6b9-ab94-43f8-88ac-299a1f862a86",
     "isComponent": false,
     "name": "",
     "parents": []
    }
   },
   "source": [
    "# Chargement des fichiers"
   ]
  },
  {
   "cell_type": "code",
   "execution_count": 2,
   "id": "50e8450c",
   "metadata": {
    "canvas": {
     "comments": [],
     "componentType": "CodeCell",
     "copiedOriginId": null,
     "diskcache": false,
     "headerColor": "none",
     "id": "7ccb86b8-836a-4b5c-ab14-02cfd180d580",
     "isComponent": false,
     "name": "",
     "parents": []
    }
   },
   "outputs": [],
   "source": [
    "erp = pd.read_excel(chemin_erp)\n",
    "liaison = pd.read_excel(chemin_liaison)\n",
    "web = pd.read_excel(chemin_web)"
   ]
  },
  {
   "cell_type": "markdown",
   "id": "ffb9d0d2",
   "metadata": {
    "canvas": {
     "comments": [],
     "componentType": "CodeCell",
     "copiedOriginId": null,
     "diskcache": false,
     "headerColor": "none",
     "id": "04b2fd3d-0e88-4208-9af0-f193732e2249",
     "isComponent": false,
     "name": "",
     "parents": []
    }
   },
   "source": [
    "# **Erp**"
   ]
  },
  {
   "cell_type": "markdown",
   "id": "a47cbceb",
   "metadata": {
    "canvas": {
     "comments": [],
     "componentType": "CodeCell",
     "copiedOriginId": null,
     "diskcache": false,
     "headerColor": "none",
     "id": "b4d61d5d-0744-402d-b4f3-362955e3960b",
     "isComponent": false,
     "name": "",
     "parents": []
    }
   },
   "source": [
    "Le fichier ne nécessite pas de nettoyage, il est prêt à l'emploi "
   ]
  },
  {
   "cell_type": "markdown",
   "id": "02aec55b",
   "metadata": {
    "canvas": {
     "comments": [],
     "componentType": "CodeCell",
     "copiedOriginId": null,
     "diskcache": false,
     "headerColor": "none",
     "id": "11ee6916-5cb3-42c0-a634-557197dd662b",
     "isComponent": false,
     "name": "",
     "parents": []
    }
   },
   "source": [
    "# **Liaison**"
   ]
  },
  {
   "cell_type": "markdown",
   "id": "8138d610",
   "metadata": {
    "canvas": {
     "comments": [],
     "componentType": "CodeCell",
     "copiedOriginId": null,
     "diskcache": false,
     "headerColor": "none",
     "id": "a1ca864d-8c58-48bc-a40e-d68c6eed4a5e",
     "isComponent": false,
     "name": "",
     "parents": []
    }
   },
   "source": [
    "## Au vue des futures jointures renommage des colonnes"
   ]
  },
  {
   "cell_type": "code",
   "execution_count": 3,
   "id": "12e1a2be",
   "metadata": {
    "canvas": {
     "comments": [],
     "componentType": "CodeCell",
     "copiedOriginId": null,
     "diskcache": false,
     "headerColor": "none",
     "id": "916f3364-1243-4e22-8a9e-a81191a61e5a",
     "isComponent": false,
     "name": "",
     "parents": []
    }
   },
   "outputs": [],
   "source": [
    "liaison.rename(columns = {'id_web': 'sku'}, inplace=True)"
   ]
  },
  {
   "cell_type": "markdown",
   "id": "a3c65212",
   "metadata": {
    "canvas": {
     "comments": [],
     "componentType": "CodeCell",
     "copiedOriginId": null,
     "diskcache": false,
     "headerColor": "none",
     "id": "b4f30cd8-81ad-4ddc-b903-d9327d44a0ae",
     "isComponent": false,
     "name": "",
     "parents": []
    }
   },
   "source": [
    "## Affichage des Nan dans la colonne \"sku\""
   ]
  },
  {
   "cell_type": "code",
   "execution_count": 4,
   "id": "a3101334",
   "metadata": {
    "canvas": {
     "comments": [],
     "componentType": "CodeCell",
     "copiedOriginId": null,
     "diskcache": false,
     "headerColor": "none",
     "id": "1e59b06e-e88e-43bc-86f5-671a801cd4aa",
     "isComponent": false,
     "name": "",
     "parents": []
    }
   },
   "outputs": [],
   "source": [
    "pd.options.display.max_rows = None"
   ]
  },
  {
   "cell_type": "code",
   "execution_count": 5,
   "id": "e953b9e7",
   "metadata": {
    "canvas": {
     "comments": [],
     "componentType": "CodeCell",
     "copiedOriginId": null,
     "diskcache": false,
     "headerColor": "none",
     "id": "7bc98358-e259-4b4e-aa4a-3d5d6dda1a3c",
     "isComponent": false,
     "name": "",
     "parents": []
    }
   },
   "outputs": [
    {
     "name": "stdout",
     "output_type": "stream",
     "text": [
      "\u001b[1m\u001b[31m\n",
      "Au départ, il y a 91 NaN dans la colonne 'sku' :\u001b[0;0m\n"
     ]
    },
    {
     "data": {
      "text/html": [
       "<div>\n",
       "<style scoped>\n",
       "    .dataframe tbody tr th:only-of-type {\n",
       "        vertical-align: middle;\n",
       "    }\n",
       "\n",
       "    .dataframe tbody tr th {\n",
       "        vertical-align: top;\n",
       "    }\n",
       "\n",
       "    .dataframe thead th {\n",
       "        text-align: right;\n",
       "    }\n",
       "</style>\n",
       "<table border=\"1\" class=\"dataframe\">\n",
       "  <thead>\n",
       "    <tr style=\"text-align: right;\">\n",
       "      <th></th>\n",
       "      <th>product_id</th>\n",
       "      <th>sku</th>\n",
       "    </tr>\n",
       "  </thead>\n",
       "  <tbody>\n",
       "    <tr>\n",
       "      <th>19</th>\n",
       "      <td>4055</td>\n",
       "      <td>NaN</td>\n",
       "    </tr>\n",
       "    <tr>\n",
       "      <th>49</th>\n",
       "      <td>4090</td>\n",
       "      <td>NaN</td>\n",
       "    </tr>\n",
       "    <tr>\n",
       "      <th>50</th>\n",
       "      <td>4092</td>\n",
       "      <td>NaN</td>\n",
       "    </tr>\n",
       "    <tr>\n",
       "      <th>119</th>\n",
       "      <td>4195</td>\n",
       "      <td>NaN</td>\n",
       "    </tr>\n",
       "    <tr>\n",
       "      <th>131</th>\n",
       "      <td>4209</td>\n",
       "      <td>NaN</td>\n",
       "    </tr>\n",
       "  </tbody>\n",
       "</table>\n",
       "</div>"
      ],
      "text/plain": [
       "     product_id  sku\n",
       "19         4055  NaN\n",
       "49         4090  NaN\n",
       "50         4092  NaN\n",
       "119        4195  NaN\n",
       "131        4209  NaN"
      ]
     },
     "execution_count": 5,
     "metadata": {},
     "output_type": "execute_result"
    }
   ],
   "source": [
    "nb_nan = liaison['sku'].isna().sum()\n",
    "print(bold + red + f\"\\nAu départ, il y a {nb_nan} NaN dans la colonne 'sku' :\" + end)\n",
    "liaison[liaison['sku'].isna()].head() #pour voir la liste complète des 91 doublons supprimer .head()"
   ]
  },
  {
   "cell_type": "markdown",
   "id": "f97bccd5",
   "metadata": {
    "canvas": {
     "comments": [],
     "componentType": "CodeCell",
     "copiedOriginId": null,
     "diskcache": false,
     "headerColor": "none",
     "id": "1ce1dd02-9851-43f0-96ce-7d9ad4a14325",
     "isComponent": false,
     "name": "",
     "parents": []
    }
   },
   "source": [
    "## Pour une meilleure lisibilité suppression des valeurs NaN dans la colonne \"sku\""
   ]
  },
  {
   "cell_type": "code",
   "execution_count": 6,
   "id": "50513274",
   "metadata": {
    "canvas": {
     "comments": [],
     "componentType": "CodeCell",
     "copiedOriginId": null,
     "diskcache": false,
     "headerColor": "none",
     "id": "8f2e2256-3078-49d6-8f3d-7c6bfff7d875",
     "isComponent": false,
     "name": "",
     "parents": []
    }
   },
   "outputs": [],
   "source": [
    "liaison = liaison.dropna()"
   ]
  },
  {
   "cell_type": "code",
   "execution_count": 7,
   "id": "ed18176a",
   "metadata": {
    "canvas": {
     "comments": [],
     "componentType": "CodeCell",
     "copiedOriginId": null,
     "diskcache": false,
     "headerColor": "none",
     "id": "b6e77837-0ebe-4d00-9e25-ac072e16484e",
     "isComponent": false,
     "name": "",
     "parents": []
    }
   },
   "outputs": [
    {
     "name": "stdout",
     "output_type": "stream",
     "text": [
      "\u001b[1m\u001b[31m\n",
      "Après nettoyage, il y a 0 NaN dans la colonne 'sku' :\u001b[0;0m\n"
     ]
    },
    {
     "data": {
      "text/html": [
       "<div>\n",
       "<style scoped>\n",
       "    .dataframe tbody tr th:only-of-type {\n",
       "        vertical-align: middle;\n",
       "    }\n",
       "\n",
       "    .dataframe tbody tr th {\n",
       "        vertical-align: top;\n",
       "    }\n",
       "\n",
       "    .dataframe thead th {\n",
       "        text-align: right;\n",
       "    }\n",
       "</style>\n",
       "<table border=\"1\" class=\"dataframe\">\n",
       "  <thead>\n",
       "    <tr style=\"text-align: right;\">\n",
       "      <th></th>\n",
       "      <th>product_id</th>\n",
       "      <th>sku</th>\n",
       "    </tr>\n",
       "  </thead>\n",
       "  <tbody>\n",
       "  </tbody>\n",
       "</table>\n",
       "</div>"
      ],
      "text/plain": [
       "Empty DataFrame\n",
       "Columns: [product_id, sku]\n",
       "Index: []"
      ]
     },
     "execution_count": 7,
     "metadata": {},
     "output_type": "execute_result"
    }
   ],
   "source": [
    "nb_nan = liaison['sku'].isna().sum()\n",
    "print(bold + red + f\"\\nAprès nettoyage, il y a {nb_nan} NaN dans la colonne 'sku' :\" + end)\n",
    "liaison[liaison['sku'].isna()]"
   ]
  },
  {
   "cell_type": "markdown",
   "id": "b392ed3e",
   "metadata": {
    "canvas": {
     "comments": [],
     "componentType": "CodeCell",
     "copiedOriginId": null,
     "diskcache": false,
     "headerColor": "none",
     "id": "108b28c3-8647-48e3-ae82-245fce2827ba",
     "isComponent": false,
     "name": "",
     "parents": []
    }
   },
   "source": [
    "# **Web**"
   ]
  },
  {
   "cell_type": "markdown",
   "id": "659de198",
   "metadata": {
    "canvas": {
     "comments": [],
     "componentType": "CodeCell",
     "copiedOriginId": null,
     "diskcache": false,
     "headerColor": "none",
     "id": "49f857fc-c2cf-43ef-aeb9-230ab90be531",
     "isComponent": false,
     "name": "",
     "parents": []
    }
   },
   "source": [
    "## Suppression des doublons"
   ]
  },
  {
   "cell_type": "code",
   "execution_count": 8,
   "id": "f8bb44d0",
   "metadata": {
    "canvas": {
     "comments": [],
     "componentType": "CodeCell",
     "copiedOriginId": null,
     "diskcache": false,
     "headerColor": "none",
     "id": "e6517340-0607-43c6-94bc-a935895844df",
     "isComponent": false,
     "name": "",
     "parents": []
    }
   },
   "outputs": [
    {
     "name": "stdout",
     "output_type": "stream",
     "text": [
      "\u001b[1m\u001b[31m\n",
      "Au départ, le fichier contient les 82 doublons suivants :\u001b[0;0m\n"
     ]
    },
    {
     "data": {
      "text/html": [
       "<div>\n",
       "<style scoped>\n",
       "    .dataframe tbody tr th:only-of-type {\n",
       "        vertical-align: middle;\n",
       "    }\n",
       "\n",
       "    .dataframe tbody tr th {\n",
       "        vertical-align: top;\n",
       "    }\n",
       "\n",
       "    .dataframe thead th {\n",
       "        text-align: right;\n",
       "    }\n",
       "</style>\n",
       "<table border=\"1\" class=\"dataframe\">\n",
       "  <thead>\n",
       "    <tr style=\"text-align: right;\">\n",
       "      <th></th>\n",
       "      <th>sku</th>\n",
       "      <th>virtual</th>\n",
       "      <th>downloadable</th>\n",
       "      <th>rating_count</th>\n",
       "      <th>average_rating</th>\n",
       "      <th>total_sales</th>\n",
       "      <th>tax_status</th>\n",
       "      <th>tax_class</th>\n",
       "      <th>post_author</th>\n",
       "      <th>post_date</th>\n",
       "      <th>...</th>\n",
       "      <th>post_name</th>\n",
       "      <th>post_modified</th>\n",
       "      <th>post_modified_gmt</th>\n",
       "      <th>post_content_filtered</th>\n",
       "      <th>post_parent</th>\n",
       "      <th>guid</th>\n",
       "      <th>menu_order</th>\n",
       "      <th>post_type</th>\n",
       "      <th>post_mime_type</th>\n",
       "      <th>comment_count</th>\n",
       "    </tr>\n",
       "  </thead>\n",
       "  <tbody>\n",
       "    <tr>\n",
       "      <th>179</th>\n",
       "      <td>NaN</td>\n",
       "      <td>0</td>\n",
       "      <td>0</td>\n",
       "      <td>0</td>\n",
       "      <td>NaN</td>\n",
       "      <td>NaN</td>\n",
       "      <td>NaN</td>\n",
       "      <td>NaN</td>\n",
       "      <td>NaN</td>\n",
       "      <td>NaT</td>\n",
       "      <td>...</td>\n",
       "      <td>NaN</td>\n",
       "      <td>NaT</td>\n",
       "      <td>NaT</td>\n",
       "      <td>NaN</td>\n",
       "      <td>NaN</td>\n",
       "      <td>NaN</td>\n",
       "      <td>NaN</td>\n",
       "      <td>NaN</td>\n",
       "      <td>NaN</td>\n",
       "      <td>NaN</td>\n",
       "    </tr>\n",
       "    <tr>\n",
       "      <th>227</th>\n",
       "      <td>NaN</td>\n",
       "      <td>0</td>\n",
       "      <td>0</td>\n",
       "      <td>0</td>\n",
       "      <td>NaN</td>\n",
       "      <td>NaN</td>\n",
       "      <td>NaN</td>\n",
       "      <td>NaN</td>\n",
       "      <td>NaN</td>\n",
       "      <td>NaT</td>\n",
       "      <td>...</td>\n",
       "      <td>NaN</td>\n",
       "      <td>NaT</td>\n",
       "      <td>NaT</td>\n",
       "      <td>NaN</td>\n",
       "      <td>NaN</td>\n",
       "      <td>NaN</td>\n",
       "      <td>NaN</td>\n",
       "      <td>NaN</td>\n",
       "      <td>NaN</td>\n",
       "      <td>NaN</td>\n",
       "    </tr>\n",
       "    <tr>\n",
       "      <th>230</th>\n",
       "      <td>NaN</td>\n",
       "      <td>0</td>\n",
       "      <td>0</td>\n",
       "      <td>0</td>\n",
       "      <td>NaN</td>\n",
       "      <td>NaN</td>\n",
       "      <td>NaN</td>\n",
       "      <td>NaN</td>\n",
       "      <td>NaN</td>\n",
       "      <td>NaT</td>\n",
       "      <td>...</td>\n",
       "      <td>NaN</td>\n",
       "      <td>NaT</td>\n",
       "      <td>NaT</td>\n",
       "      <td>NaN</td>\n",
       "      <td>NaN</td>\n",
       "      <td>NaN</td>\n",
       "      <td>NaN</td>\n",
       "      <td>NaN</td>\n",
       "      <td>NaN</td>\n",
       "      <td>NaN</td>\n",
       "    </tr>\n",
       "    <tr>\n",
       "      <th>231</th>\n",
       "      <td>NaN</td>\n",
       "      <td>0</td>\n",
       "      <td>0</td>\n",
       "      <td>0</td>\n",
       "      <td>NaN</td>\n",
       "      <td>NaN</td>\n",
       "      <td>NaN</td>\n",
       "      <td>NaN</td>\n",
       "      <td>NaN</td>\n",
       "      <td>NaT</td>\n",
       "      <td>...</td>\n",
       "      <td>NaN</td>\n",
       "      <td>NaT</td>\n",
       "      <td>NaT</td>\n",
       "      <td>NaN</td>\n",
       "      <td>NaN</td>\n",
       "      <td>NaN</td>\n",
       "      <td>NaN</td>\n",
       "      <td>NaN</td>\n",
       "      <td>NaN</td>\n",
       "      <td>NaN</td>\n",
       "    </tr>\n",
       "    <tr>\n",
       "      <th>233</th>\n",
       "      <td>NaN</td>\n",
       "      <td>0</td>\n",
       "      <td>0</td>\n",
       "      <td>0</td>\n",
       "      <td>NaN</td>\n",
       "      <td>NaN</td>\n",
       "      <td>NaN</td>\n",
       "      <td>NaN</td>\n",
       "      <td>NaN</td>\n",
       "      <td>NaT</td>\n",
       "      <td>...</td>\n",
       "      <td>NaN</td>\n",
       "      <td>NaT</td>\n",
       "      <td>NaT</td>\n",
       "      <td>NaN</td>\n",
       "      <td>NaN</td>\n",
       "      <td>NaN</td>\n",
       "      <td>NaN</td>\n",
       "      <td>NaN</td>\n",
       "      <td>NaN</td>\n",
       "      <td>NaN</td>\n",
       "    </tr>\n",
       "  </tbody>\n",
       "</table>\n",
       "<p>5 rows × 28 columns</p>\n",
       "</div>"
      ],
      "text/plain": [
       "     sku  virtual  downloadable  rating_count  average_rating  total_sales  \\\n",
       "179  NaN        0             0             0             NaN          NaN   \n",
       "227  NaN        0             0             0             NaN          NaN   \n",
       "230  NaN        0             0             0             NaN          NaN   \n",
       "231  NaN        0             0             0             NaN          NaN   \n",
       "233  NaN        0             0             0             NaN          NaN   \n",
       "\n",
       "    tax_status  tax_class  post_author post_date  ... post_name  \\\n",
       "179        NaN        NaN          NaN       NaT  ...       NaN   \n",
       "227        NaN        NaN          NaN       NaT  ...       NaN   \n",
       "230        NaN        NaN          NaN       NaT  ...       NaN   \n",
       "231        NaN        NaN          NaN       NaT  ...       NaN   \n",
       "233        NaN        NaN          NaN       NaT  ...       NaN   \n",
       "\n",
       "     post_modified post_modified_gmt post_content_filtered post_parent guid  \\\n",
       "179            NaT               NaT                   NaN         NaN  NaN   \n",
       "227            NaT               NaT                   NaN         NaN  NaN   \n",
       "230            NaT               NaT                   NaN         NaN  NaN   \n",
       "231            NaT               NaT                   NaN         NaN  NaN   \n",
       "233            NaT               NaT                   NaN         NaN  NaN   \n",
       "\n",
       "    menu_order  post_type post_mime_type comment_count  \n",
       "179        NaN        NaN            NaN           NaN  \n",
       "227        NaN        NaN            NaN           NaN  \n",
       "230        NaN        NaN            NaN           NaN  \n",
       "231        NaN        NaN            NaN           NaN  \n",
       "233        NaN        NaN            NaN           NaN  \n",
       "\n",
       "[5 rows x 28 columns]"
      ]
     },
     "execution_count": 8,
     "metadata": {},
     "output_type": "execute_result"
    }
   ],
   "source": [
    "duplicates_before = web.duplicated().sum()\n",
    "print(bold + red + f\"\\nAu départ, le fichier contient les {duplicates_before} doublons suivants :\" + end)\n",
    "web[web.duplicated()].head() #pour voir la liste complète des 82 doublons supprimer .head()"
   ]
  },
  {
   "cell_type": "code",
   "execution_count": 9,
   "id": "6962eb85",
   "metadata": {
    "canvas": {
     "comments": [],
     "componentType": "CodeCell",
     "copiedOriginId": null,
     "diskcache": false,
     "headerColor": "none",
     "id": "062847ef-2a62-4883-8a5d-e1f1877bc119",
     "isComponent": false,
     "name": "",
     "parents": []
    }
   },
   "outputs": [
    {
     "name": "stdout",
     "output_type": "stream",
     "text": [
      "\u001b[1m\u001b[31m\n",
      "Après nettoyage, le fichier contient 0 doublon :\u001b[0;0m\n"
     ]
    },
    {
     "data": {
      "text/html": [
       "<div>\n",
       "<style scoped>\n",
       "    .dataframe tbody tr th:only-of-type {\n",
       "        vertical-align: middle;\n",
       "    }\n",
       "\n",
       "    .dataframe tbody tr th {\n",
       "        vertical-align: top;\n",
       "    }\n",
       "\n",
       "    .dataframe thead th {\n",
       "        text-align: right;\n",
       "    }\n",
       "</style>\n",
       "<table border=\"1\" class=\"dataframe\">\n",
       "  <thead>\n",
       "    <tr style=\"text-align: right;\">\n",
       "      <th></th>\n",
       "      <th>sku</th>\n",
       "      <th>virtual</th>\n",
       "      <th>downloadable</th>\n",
       "      <th>rating_count</th>\n",
       "      <th>average_rating</th>\n",
       "      <th>total_sales</th>\n",
       "      <th>tax_status</th>\n",
       "      <th>tax_class</th>\n",
       "      <th>post_author</th>\n",
       "      <th>post_date</th>\n",
       "      <th>...</th>\n",
       "      <th>post_name</th>\n",
       "      <th>post_modified</th>\n",
       "      <th>post_modified_gmt</th>\n",
       "      <th>post_content_filtered</th>\n",
       "      <th>post_parent</th>\n",
       "      <th>guid</th>\n",
       "      <th>menu_order</th>\n",
       "      <th>post_type</th>\n",
       "      <th>post_mime_type</th>\n",
       "      <th>comment_count</th>\n",
       "    </tr>\n",
       "  </thead>\n",
       "  <tbody>\n",
       "  </tbody>\n",
       "</table>\n",
       "<p>0 rows × 28 columns</p>\n",
       "</div>"
      ],
      "text/plain": [
       "Empty DataFrame\n",
       "Columns: [sku, virtual, downloadable, rating_count, average_rating, total_sales, tax_status, tax_class, post_author, post_date, post_date_gmt, post_content, post_title, post_excerpt, post_status, comment_status, ping_status, post_password, post_name, post_modified, post_modified_gmt, post_content_filtered, post_parent, guid, menu_order, post_type, post_mime_type, comment_count]\n",
       "Index: []\n",
       "\n",
       "[0 rows x 28 columns]"
      ]
     },
     "execution_count": 9,
     "metadata": {},
     "output_type": "execute_result"
    }
   ],
   "source": [
    "web = web.drop_duplicates()\n",
    "duplicates_after = web.duplicated().sum()\n",
    "print(bold + red + f\"\\nAprès nettoyage, le fichier contient {duplicates_after} doublon :\" + end)\n",
    "web[web.duplicated()]"
   ]
  },
  {
   "cell_type": "markdown",
   "id": "d352f1a9",
   "metadata": {
    "canvas": {
     "comments": [],
     "componentType": "CodeCell",
     "copiedOriginId": null,
     "diskcache": false,
     "headerColor": "none",
     "id": "d86987ce-893d-4878-8a0b-71e103e5a2ed",
     "isComponent": false,
     "name": "",
     "parents": []
    }
   },
   "source": [
    "## Suppression des colonnes vides"
   ]
  },
  {
   "cell_type": "code",
   "execution_count": 10,
   "id": "3db68bee",
   "metadata": {
    "canvas": {
     "comments": [],
     "componentType": "CodeCell",
     "copiedOriginId": null,
     "diskcache": false,
     "headerColor": "none",
     "id": "5f6960fd-2922-47d3-a0d7-dd4828938ab4",
     "isComponent": false,
     "name": "",
     "parents": []
    }
   },
   "outputs": [
    {
     "name": "stdout",
     "output_type": "stream",
     "text": [
      "\u001b[1m\u001b[31m\n",
      "Au départ, le fichier contient 28 colonnes dont 4 vides :\u001b[0;0m\n"
     ]
    },
    {
     "data": {
      "text/html": [
       "<div>\n",
       "<style scoped>\n",
       "    .dataframe tbody tr th:only-of-type {\n",
       "        vertical-align: middle;\n",
       "    }\n",
       "\n",
       "    .dataframe tbody tr th {\n",
       "        vertical-align: top;\n",
       "    }\n",
       "\n",
       "    .dataframe thead th {\n",
       "        text-align: right;\n",
       "    }\n",
       "</style>\n",
       "<table border=\"1\" class=\"dataframe\">\n",
       "  <thead>\n",
       "    <tr style=\"text-align: right;\">\n",
       "      <th></th>\n",
       "      <th>tax_class</th>\n",
       "      <th>post_content</th>\n",
       "      <th>post_password</th>\n",
       "      <th>post_content_filtered</th>\n",
       "    </tr>\n",
       "  </thead>\n",
       "  <tbody>\n",
       "    <tr>\n",
       "      <th>0</th>\n",
       "      <td>NaN</td>\n",
       "      <td>NaN</td>\n",
       "      <td>NaN</td>\n",
       "      <td>NaN</td>\n",
       "    </tr>\n",
       "    <tr>\n",
       "      <th>1</th>\n",
       "      <td>NaN</td>\n",
       "      <td>NaN</td>\n",
       "      <td>NaN</td>\n",
       "      <td>NaN</td>\n",
       "    </tr>\n",
       "    <tr>\n",
       "      <th>2</th>\n",
       "      <td>NaN</td>\n",
       "      <td>NaN</td>\n",
       "      <td>NaN</td>\n",
       "      <td>NaN</td>\n",
       "    </tr>\n",
       "    <tr>\n",
       "      <th>3</th>\n",
       "      <td>NaN</td>\n",
       "      <td>NaN</td>\n",
       "      <td>NaN</td>\n",
       "      <td>NaN</td>\n",
       "    </tr>\n",
       "    <tr>\n",
       "      <th>4</th>\n",
       "      <td>NaN</td>\n",
       "      <td>NaN</td>\n",
       "      <td>NaN</td>\n",
       "      <td>NaN</td>\n",
       "    </tr>\n",
       "  </tbody>\n",
       "</table>\n",
       "</div>"
      ],
      "text/plain": [
       "   tax_class  post_content  post_password  post_content_filtered\n",
       "0        NaN           NaN            NaN                    NaN\n",
       "1        NaN           NaN            NaN                    NaN\n",
       "2        NaN           NaN            NaN                    NaN\n",
       "3        NaN           NaN            NaN                    NaN\n",
       "4        NaN           NaN            NaN                    NaN"
      ]
     },
     "execution_count": 10,
     "metadata": {},
     "output_type": "execute_result"
    }
   ],
   "source": [
    "cols_before = len(web.axes[1])\n",
    "print(bold + red + f\"\\nAu départ, le fichier contient {cols_before} colonnes dont 4 vides :\" + end)\n",
    "web[['tax_class', 'post_content', 'post_password', 'post_content_filtered']].head() "
   ]
  },
  {
   "cell_type": "code",
   "execution_count": 11,
   "id": "5c593321",
   "metadata": {
    "canvas": {
     "comments": [],
     "componentType": "CodeCell",
     "copiedOriginId": null,
     "diskcache": false,
     "headerColor": "none",
     "id": "5801fe1f-103c-461b-bbff-8d547d06150d",
     "isComponent": false,
     "name": "",
     "parents": []
    }
   },
   "outputs": [
    {
     "name": "stdout",
     "output_type": "stream",
     "text": [
      "\u001b[1m\u001b[31m\n",
      "Après nettoyage, le fichier contient les 24 colonnes suivantes :\u001b[0;0m\n"
     ]
    },
    {
     "data": {
      "text/plain": [
       "Index(['sku', 'virtual', 'downloadable', 'rating_count', 'average_rating',\n",
       "       'total_sales', 'tax_status', 'post_author', 'post_date',\n",
       "       'post_date_gmt', 'post_title', 'post_excerpt', 'post_status',\n",
       "       'comment_status', 'ping_status', 'post_name', 'post_modified',\n",
       "       'post_modified_gmt', 'post_parent', 'guid', 'menu_order', 'post_type',\n",
       "       'post_mime_type', 'comment_count'],\n",
       "      dtype='object')"
      ]
     },
     "execution_count": 11,
     "metadata": {},
     "output_type": "execute_result"
    }
   ],
   "source": [
    "web = web.drop(columns=['tax_class', 'post_content', 'post_password', 'post_content_filtered'])\n",
    "cols_after = len(web.axes[1])\n",
    "print(bold + red + f\"\\nAprès nettoyage, le fichier contient les {cols_after} colonnes suivantes :\" + end)\n",
    "web.columns"
   ]
  },
  {
   "cell_type": "markdown",
   "id": "456df2a8",
   "metadata": {
    "canvas": {
     "comments": [],
     "componentType": "CodeCell",
     "copiedOriginId": null,
     "diskcache": false,
     "headerColor": "none",
     "id": "8de67bed-5f2f-40bb-b40c-0e9d9b48633b",
     "isComponent": false,
     "name": "",
     "parents": []
    }
   },
   "source": [
    "## Suppression des lignes en double de la colonne \"sku\" (restent celles avec le post_type 'product')"
   ]
  },
  {
   "cell_type": "code",
   "execution_count": 12,
   "id": "8099ff72",
   "metadata": {
    "canvas": {
     "comments": [],
     "componentType": "CodeCell",
     "copiedOriginId": null,
     "diskcache": false,
     "headerColor": "none",
     "id": "655f0760-b78b-4469-a34f-fb72ea40e7c0",
     "isComponent": false,
     "name": "",
     "parents": []
    }
   },
   "outputs": [
    {
     "name": "stdout",
     "output_type": "stream",
     "text": [
      "\u001b[1m\u001b[31m\n",
      "Au départ, la colonne 'sku' contient les 716 doublons suivants :\u001b[0;0m\n"
     ]
    },
    {
     "data": {
      "text/html": [
       "<div>\n",
       "<style scoped>\n",
       "    .dataframe tbody tr th:only-of-type {\n",
       "        vertical-align: middle;\n",
       "    }\n",
       "\n",
       "    .dataframe tbody tr th {\n",
       "        vertical-align: top;\n",
       "    }\n",
       "\n",
       "    .dataframe thead th {\n",
       "        text-align: right;\n",
       "    }\n",
       "</style>\n",
       "<table border=\"1\" class=\"dataframe\">\n",
       "  <thead>\n",
       "    <tr style=\"text-align: right;\">\n",
       "      <th></th>\n",
       "      <th>sku</th>\n",
       "      <th>virtual</th>\n",
       "      <th>downloadable</th>\n",
       "      <th>rating_count</th>\n",
       "      <th>average_rating</th>\n",
       "      <th>total_sales</th>\n",
       "      <th>tax_status</th>\n",
       "      <th>post_author</th>\n",
       "      <th>post_date</th>\n",
       "      <th>post_date_gmt</th>\n",
       "      <th>...</th>\n",
       "      <th>ping_status</th>\n",
       "      <th>post_name</th>\n",
       "      <th>post_modified</th>\n",
       "      <th>post_modified_gmt</th>\n",
       "      <th>post_parent</th>\n",
       "      <th>guid</th>\n",
       "      <th>menu_order</th>\n",
       "      <th>post_type</th>\n",
       "      <th>post_mime_type</th>\n",
       "      <th>comment_count</th>\n",
       "    </tr>\n",
       "  </thead>\n",
       "  <tbody>\n",
       "    <tr>\n",
       "      <th>470</th>\n",
       "      <td>NaN</td>\n",
       "      <td>0</td>\n",
       "      <td>0</td>\n",
       "      <td>0</td>\n",
       "      <td>0.0</td>\n",
       "      <td>0.0</td>\n",
       "      <td>taxable</td>\n",
       "      <td>2.0</td>\n",
       "      <td>2018-07-31 12:07:23</td>\n",
       "      <td>2018-07-31 10:07:23</td>\n",
       "      <td>...</td>\n",
       "      <td>closed</td>\n",
       "      <td>pierre-jean-villa-cote-rotie-fongeant-2017</td>\n",
       "      <td>2019-11-02 13:24:15</td>\n",
       "      <td>2019-11-02 12:24:15</td>\n",
       "      <td>0.0</td>\n",
       "      <td>https://www.bottle-neck.fr/?post_type=product&amp;...</td>\n",
       "      <td>0.0</td>\n",
       "      <td>product</td>\n",
       "      <td>NaN</td>\n",
       "      <td>0.0</td>\n",
       "    </tr>\n",
       "    <tr>\n",
       "      <th>471</th>\n",
       "      <td>NaN</td>\n",
       "      <td>0</td>\n",
       "      <td>0</td>\n",
       "      <td>0</td>\n",
       "      <td>0.0</td>\n",
       "      <td>0.0</td>\n",
       "      <td>taxable</td>\n",
       "      <td>2.0</td>\n",
       "      <td>2018-08-08 11:23:43</td>\n",
       "      <td>2018-08-08 09:23:43</td>\n",
       "      <td>...</td>\n",
       "      <td>closed</td>\n",
       "      <td>pierre-jean-villa-condrieu-suspendu-2018</td>\n",
       "      <td>2019-11-02 13:24:01</td>\n",
       "      <td>2019-11-02 12:24:01</td>\n",
       "      <td>0.0</td>\n",
       "      <td>https://www.bottle-neck.fr/?post_type=product&amp;...</td>\n",
       "      <td>0.0</td>\n",
       "      <td>product</td>\n",
       "      <td>NaN</td>\n",
       "      <td>0.0</td>\n",
       "    </tr>\n",
       "    <tr>\n",
       "      <th>799</th>\n",
       "      <td>15298</td>\n",
       "      <td>0</td>\n",
       "      <td>0</td>\n",
       "      <td>0</td>\n",
       "      <td>0.0</td>\n",
       "      <td>6.0</td>\n",
       "      <td>NaN</td>\n",
       "      <td>2.0</td>\n",
       "      <td>2018-02-08 12:58:52</td>\n",
       "      <td>2018-02-08 11:58:52</td>\n",
       "      <td>...</td>\n",
       "      <td>closed</td>\n",
       "      <td>pierre-jean-villa-saint-joseph-preface-2018</td>\n",
       "      <td>2019-12-30 09:30:29</td>\n",
       "      <td>2019-12-30 08:30:29</td>\n",
       "      <td>0.0</td>\n",
       "      <td>https://www.bottle-neck.fr/wp-content/uploads/...</td>\n",
       "      <td>0.0</td>\n",
       "      <td>attachment</td>\n",
       "      <td>image/jpeg</td>\n",
       "      <td>0.0</td>\n",
       "    </tr>\n",
       "  </tbody>\n",
       "</table>\n",
       "<p>3 rows × 24 columns</p>\n",
       "</div>"
      ],
      "text/plain": [
       "       sku  virtual  downloadable  rating_count  average_rating  total_sales  \\\n",
       "470    NaN        0             0             0             0.0          0.0   \n",
       "471    NaN        0             0             0             0.0          0.0   \n",
       "799  15298        0             0             0             0.0          6.0   \n",
       "\n",
       "    tax_status  post_author           post_date       post_date_gmt  ...  \\\n",
       "470    taxable          2.0 2018-07-31 12:07:23 2018-07-31 10:07:23  ...   \n",
       "471    taxable          2.0 2018-08-08 11:23:43 2018-08-08 09:23:43  ...   \n",
       "799        NaN          2.0 2018-02-08 12:58:52 2018-02-08 11:58:52  ...   \n",
       "\n",
       "    ping_status                                    post_name  \\\n",
       "470      closed   pierre-jean-villa-cote-rotie-fongeant-2017   \n",
       "471      closed     pierre-jean-villa-condrieu-suspendu-2018   \n",
       "799      closed  pierre-jean-villa-saint-joseph-preface-2018   \n",
       "\n",
       "          post_modified   post_modified_gmt post_parent  \\\n",
       "470 2019-11-02 13:24:15 2019-11-02 12:24:15         0.0   \n",
       "471 2019-11-02 13:24:01 2019-11-02 12:24:01         0.0   \n",
       "799 2019-12-30 09:30:29 2019-12-30 08:30:29         0.0   \n",
       "\n",
       "                                                  guid menu_order   post_type  \\\n",
       "470  https://www.bottle-neck.fr/?post_type=product&...        0.0     product   \n",
       "471  https://www.bottle-neck.fr/?post_type=product&...        0.0     product   \n",
       "799  https://www.bottle-neck.fr/wp-content/uploads/...        0.0  attachment   \n",
       "\n",
       "     post_mime_type comment_count  \n",
       "470             NaN           0.0  \n",
       "471             NaN           0.0  \n",
       "799      image/jpeg           0.0  \n",
       "\n",
       "[3 rows x 24 columns]"
      ]
     },
     "execution_count": 12,
     "metadata": {},
     "output_type": "execute_result"
    }
   ],
   "source": [
    "duplicates_before = web['sku'].duplicated().sum()\n",
    "print(bold + red + f\"\\nAu départ, la colonne 'sku' contient les {duplicates_before} doublons suivants :\" + end)\n",
    "web[web['sku'].duplicated()].head(3) #pour voir la liste complète des 716 doublons supprimer .head(3)"
   ]
  },
  {
   "cell_type": "code",
   "execution_count": 13,
   "id": "481e4713",
   "metadata": {
    "canvas": {
     "comments": [],
     "componentType": "CodeCell",
     "copiedOriginId": null,
     "diskcache": false,
     "headerColor": "none",
     "id": "d9370a20-c2f3-4108-adee-ef8080b18069",
     "isComponent": false,
     "name": "",
     "parents": []
    }
   },
   "outputs": [
    {
     "name": "stdout",
     "output_type": "stream",
     "text": [
      "\u001b[1m\u001b[31m\n",
      "Après nettoyage, la colonne 'sku' contient 0 doublon :\u001b[0;0m\n"
     ]
    },
    {
     "data": {
      "text/html": [
       "<div>\n",
       "<style scoped>\n",
       "    .dataframe tbody tr th:only-of-type {\n",
       "        vertical-align: middle;\n",
       "    }\n",
       "\n",
       "    .dataframe tbody tr th {\n",
       "        vertical-align: top;\n",
       "    }\n",
       "\n",
       "    .dataframe thead th {\n",
       "        text-align: right;\n",
       "    }\n",
       "</style>\n",
       "<table border=\"1\" class=\"dataframe\">\n",
       "  <thead>\n",
       "    <tr style=\"text-align: right;\">\n",
       "      <th></th>\n",
       "      <th>sku</th>\n",
       "      <th>virtual</th>\n",
       "      <th>downloadable</th>\n",
       "      <th>rating_count</th>\n",
       "      <th>average_rating</th>\n",
       "      <th>total_sales</th>\n",
       "      <th>tax_status</th>\n",
       "      <th>post_author</th>\n",
       "      <th>post_date</th>\n",
       "      <th>post_date_gmt</th>\n",
       "      <th>...</th>\n",
       "      <th>ping_status</th>\n",
       "      <th>post_name</th>\n",
       "      <th>post_modified</th>\n",
       "      <th>post_modified_gmt</th>\n",
       "      <th>post_parent</th>\n",
       "      <th>guid</th>\n",
       "      <th>menu_order</th>\n",
       "      <th>post_type</th>\n",
       "      <th>post_mime_type</th>\n",
       "      <th>comment_count</th>\n",
       "    </tr>\n",
       "  </thead>\n",
       "  <tbody>\n",
       "  </tbody>\n",
       "</table>\n",
       "<p>0 rows × 24 columns</p>\n",
       "</div>"
      ],
      "text/plain": [
       "Empty DataFrame\n",
       "Columns: [sku, virtual, downloadable, rating_count, average_rating, total_sales, tax_status, post_author, post_date, post_date_gmt, post_title, post_excerpt, post_status, comment_status, ping_status, post_name, post_modified, post_modified_gmt, post_parent, guid, menu_order, post_type, post_mime_type, comment_count]\n",
       "Index: []\n",
       "\n",
       "[0 rows x 24 columns]"
      ]
     },
     "execution_count": 13,
     "metadata": {},
     "output_type": "execute_result"
    }
   ],
   "source": [
    "web = web.drop_duplicates(subset=['sku'])\n",
    "duplicates_after = web['sku'].duplicated().sum()\n",
    "print(bold + red + f\"\\nAprès nettoyage, la colonne 'sku' contient {duplicates_after} doublon :\" + end)\n",
    "web[web['sku'].duplicated()]"
   ]
  },
  {
   "cell_type": "markdown",
   "id": "29bcdc2b",
   "metadata": {
    "canvas": {
     "comments": [],
     "componentType": "CodeCell",
     "copiedOriginId": null,
     "diskcache": false,
     "headerColor": "none",
     "id": "1653ade6-afd4-4efb-9001-c18b763da85f",
     "isComponent": false,
     "name": "",
     "parents": []
    }
   },
   "source": [
    "## Suppression de la colonne post_mime_type qui contenait uniquement des valeurs NaN"
   ]
  },
  {
   "cell_type": "code",
   "execution_count": 14,
   "id": "d72a27e5",
   "metadata": {
    "canvas": {
     "comments": [],
     "componentType": "CodeCell",
     "copiedOriginId": null,
     "diskcache": false,
     "headerColor": "none",
     "id": "683fb3cd-e181-4c3a-9a8a-2c36f4a1a742",
     "isComponent": false,
     "name": "",
     "parents": []
    }
   },
   "outputs": [
    {
     "name": "stdout",
     "output_type": "stream",
     "text": [
      "\u001b[1m\u001b[31m\n",
      "Éléments dans la colonne 'post_mime_type' :\u001b[0;0m\n"
     ]
    },
    {
     "data": {
      "text/plain": [
       "array([nan], dtype=object)"
      ]
     },
     "execution_count": 14,
     "metadata": {},
     "output_type": "execute_result"
    }
   ],
   "source": [
    "print(bold + red + f\"\\nÉléments dans la colonne 'post_mime_type' :\" + end)\n",
    "web['post_mime_type'].unique()"
   ]
  },
  {
   "cell_type": "code",
   "execution_count": 15,
   "id": "80515efd",
   "metadata": {
    "canvas": {
     "comments": [],
     "componentType": "CodeCell",
     "copiedOriginId": null,
     "diskcache": false,
     "headerColor": "none",
     "id": "b0f21693-76bb-4497-a716-b932d7d3b6e9",
     "isComponent": false,
     "name": "",
     "parents": []
    }
   },
   "outputs": [],
   "source": [
    "web = web.drop(columns='post_mime_type')"
   ]
  },
  {
   "cell_type": "markdown",
   "id": "d58e2a33",
   "metadata": {
    "canvas": {
     "comments": [],
     "componentType": "CodeCell",
     "copiedOriginId": null,
     "diskcache": false,
     "headerColor": "none",
     "id": "40f14056-06c7-4564-9f0d-ba3d29b6514b",
     "isComponent": false,
     "name": "",
     "parents": []
    }
   },
   "source": [
    "## Suppression de la ligne NaN de la colonne \"sku\""
   ]
  },
  {
   "cell_type": "code",
   "execution_count": 16,
   "id": "f3dab3ec",
   "metadata": {
    "canvas": {
     "comments": [],
     "componentType": "CodeCell",
     "copiedOriginId": null,
     "diskcache": false,
     "headerColor": "none",
     "id": "de87e4a0-6952-4f27-9bf2-4d7f8de4aeb9",
     "isComponent": false,
     "name": "",
     "parents": []
    }
   },
   "outputs": [
    {
     "name": "stdout",
     "output_type": "stream",
     "text": [
      "\u001b[1m\u001b[31m\n",
      "Les lignes de la colonne 'sku' contenant des NaN sont :\u001b[0;0m\n"
     ]
    },
    {
     "data": {
      "text/html": [
       "<div>\n",
       "<style scoped>\n",
       "    .dataframe tbody tr th:only-of-type {\n",
       "        vertical-align: middle;\n",
       "    }\n",
       "\n",
       "    .dataframe tbody tr th {\n",
       "        vertical-align: top;\n",
       "    }\n",
       "\n",
       "    .dataframe thead th {\n",
       "        text-align: right;\n",
       "    }\n",
       "</style>\n",
       "<table border=\"1\" class=\"dataframe\">\n",
       "  <thead>\n",
       "    <tr style=\"text-align: right;\">\n",
       "      <th></th>\n",
       "      <th>sku</th>\n",
       "      <th>virtual</th>\n",
       "      <th>downloadable</th>\n",
       "      <th>rating_count</th>\n",
       "      <th>average_rating</th>\n",
       "      <th>total_sales</th>\n",
       "      <th>tax_status</th>\n",
       "      <th>post_author</th>\n",
       "      <th>post_date</th>\n",
       "      <th>post_date_gmt</th>\n",
       "      <th>...</th>\n",
       "      <th>comment_status</th>\n",
       "      <th>ping_status</th>\n",
       "      <th>post_name</th>\n",
       "      <th>post_modified</th>\n",
       "      <th>post_modified_gmt</th>\n",
       "      <th>post_parent</th>\n",
       "      <th>guid</th>\n",
       "      <th>menu_order</th>\n",
       "      <th>post_type</th>\n",
       "      <th>comment_count</th>\n",
       "    </tr>\n",
       "  </thead>\n",
       "  <tbody>\n",
       "    <tr>\n",
       "      <th>178</th>\n",
       "      <td>NaN</td>\n",
       "      <td>0</td>\n",
       "      <td>0</td>\n",
       "      <td>0</td>\n",
       "      <td>NaN</td>\n",
       "      <td>NaN</td>\n",
       "      <td>NaN</td>\n",
       "      <td>NaN</td>\n",
       "      <td>NaT</td>\n",
       "      <td>NaT</td>\n",
       "      <td>...</td>\n",
       "      <td>NaN</td>\n",
       "      <td>NaN</td>\n",
       "      <td>NaN</td>\n",
       "      <td>NaT</td>\n",
       "      <td>NaT</td>\n",
       "      <td>NaN</td>\n",
       "      <td>NaN</td>\n",
       "      <td>NaN</td>\n",
       "      <td>NaN</td>\n",
       "      <td>NaN</td>\n",
       "    </tr>\n",
       "  </tbody>\n",
       "</table>\n",
       "<p>1 rows × 23 columns</p>\n",
       "</div>"
      ],
      "text/plain": [
       "     sku  virtual  downloadable  rating_count  average_rating  total_sales  \\\n",
       "178  NaN        0             0             0             NaN          NaN   \n",
       "\n",
       "    tax_status  post_author post_date post_date_gmt  ... comment_status  \\\n",
       "178        NaN          NaN       NaT           NaT  ...            NaN   \n",
       "\n",
       "    ping_status post_name post_modified post_modified_gmt post_parent guid  \\\n",
       "178         NaN       NaN           NaT               NaT         NaN  NaN   \n",
       "\n",
       "    menu_order  post_type comment_count  \n",
       "178        NaN        NaN           NaN  \n",
       "\n",
       "[1 rows x 23 columns]"
      ]
     },
     "execution_count": 16,
     "metadata": {},
     "output_type": "execute_result"
    }
   ],
   "source": [
    "print(bold + red + f\"\\nLes lignes de la colonne 'sku' contenant des NaN sont :\" + end)\n",
    "web[web.isna().any(axis=1)]"
   ]
  },
  {
   "cell_type": "code",
   "execution_count": 17,
   "id": "e0a44318",
   "metadata": {
    "canvas": {
     "comments": [],
     "componentType": "CodeCell",
     "copiedOriginId": null,
     "diskcache": false,
     "headerColor": "none",
     "id": "a0d4124b-8385-42ef-b7e4-9e18c2501731",
     "isComponent": false,
     "name": "",
     "parents": []
    }
   },
   "outputs": [
    {
     "name": "stdout",
     "output_type": "stream",
     "text": [
      "\u001b[1m\u001b[31m\n",
      "Après nettoyage, le nombre de NaN par colonne est de :\u001b[0;0m\n"
     ]
    },
    {
     "data": {
      "text/plain": [
       "sku                  0\n",
       "virtual              0\n",
       "downloadable         0\n",
       "rating_count         0\n",
       "average_rating       0\n",
       "total_sales          0\n",
       "tax_status           0\n",
       "post_author          0\n",
       "post_date            0\n",
       "post_date_gmt        0\n",
       "post_title           0\n",
       "post_excerpt         0\n",
       "post_status          0\n",
       "comment_status       0\n",
       "ping_status          0\n",
       "post_name            0\n",
       "post_modified        0\n",
       "post_modified_gmt    0\n",
       "post_parent          0\n",
       "guid                 0\n",
       "menu_order           0\n",
       "post_type            0\n",
       "comment_count        0\n",
       "dtype: int64"
      ]
     },
     "execution_count": 17,
     "metadata": {},
     "output_type": "execute_result"
    }
   ],
   "source": [
    "web = web.drop(index=178)\n",
    "web_nan = web.isna().sum()\n",
    "print(bold + red + f\"\\nAprès nettoyage, le nombre de NaN par colonne est de :\" + end)\n",
    "web_nan"
   ]
  },
  {
   "cell_type": "markdown",
   "id": "adb9d2f0",
   "metadata": {
    "canvas": {
     "comments": [],
     "componentType": "CodeCell",
     "copiedOriginId": null,
     "diskcache": false,
     "headerColor": "none",
     "id": "909f7b08-f13e-47e6-9fd1-e0fcfa2f58c7",
     "isComponent": false,
     "name": "",
     "parents": []
    }
   },
   "source": [
    "# **Jointure** entre liaison et web"
   ]
  },
  {
   "cell_type": "code",
   "execution_count": 18,
   "id": "329f2d78",
   "metadata": {
    "canvas": {
     "comments": [],
     "componentType": "CodeCell",
     "copiedOriginId": null,
     "diskcache": false,
     "headerColor": "none",
     "id": "7989ae6e-dbf2-494c-b689-d8bc8501637e",
     "isComponent": false,
     "name": "",
     "parents": []
    }
   },
   "outputs": [
    {
     "name": "stdout",
     "output_type": "stream",
     "text": [
      "La clé est unique\n"
     ]
    }
   ],
   "source": [
    "# vérification de l'unicité de la clé candidate\n",
    "test_pk(liaison, 'sku')"
   ]
  },
  {
   "cell_type": "code",
   "execution_count": 19,
   "id": "3532ef53",
   "metadata": {
    "canvas": {
     "comments": [],
     "componentType": "CodeCell",
     "copiedOriginId": null,
     "diskcache": false,
     "headerColor": "none",
     "id": "7e1ebf9d-fddc-4703-ac39-5b04107ae0c4",
     "isComponent": false,
     "name": "",
     "parents": []
    }
   },
   "outputs": [
    {
     "name": "stdout",
     "output_type": "stream",
     "text": [
      "La clé est unique\n"
     ]
    }
   ],
   "source": [
    "# vérification de l'unicité de la clé candidate\n",
    "test_pk(web, 'sku')"
   ]
  },
  {
   "cell_type": "code",
   "execution_count": 20,
   "id": "b1cccc9e",
   "metadata": {
    "canvas": {
     "comments": [],
     "componentType": "CodeCell",
     "copiedOriginId": null,
     "diskcache": false,
     "headerColor": "none",
     "id": "0cd0f4a1-b1ec-40a7-ac03-00841cc79837",
     "isComponent": false,
     "name": "",
     "parents": []
    }
   },
   "outputs": [
    {
     "name": "stdout",
     "output_type": "stream",
     "text": [
      "\u001b[1m\u001b[31m\n",
      "20 références produits de la table LIAISON n'ont pas de description dans la table WEB :\u001b[0;0m\n"
     ]
    },
    {
     "data": {
      "text/html": [
       "<div>\n",
       "<style scoped>\n",
       "    .dataframe tbody tr th:only-of-type {\n",
       "        vertical-align: middle;\n",
       "    }\n",
       "\n",
       "    .dataframe tbody tr th {\n",
       "        vertical-align: top;\n",
       "    }\n",
       "\n",
       "    .dataframe thead th {\n",
       "        text-align: right;\n",
       "    }\n",
       "</style>\n",
       "<table border=\"1\" class=\"dataframe\">\n",
       "  <thead>\n",
       "    <tr style=\"text-align: right;\">\n",
       "      <th></th>\n",
       "      <th>product_id</th>\n",
       "      <th>sku</th>\n",
       "      <th>virtual</th>\n",
       "      <th>downloadable</th>\n",
       "      <th>rating_count</th>\n",
       "      <th>average_rating</th>\n",
       "      <th>total_sales</th>\n",
       "      <th>tax_status</th>\n",
       "      <th>post_author</th>\n",
       "      <th>post_date</th>\n",
       "      <th>...</th>\n",
       "      <th>ping_status</th>\n",
       "      <th>post_name</th>\n",
       "      <th>post_modified</th>\n",
       "      <th>post_modified_gmt</th>\n",
       "      <th>post_parent</th>\n",
       "      <th>guid</th>\n",
       "      <th>menu_order</th>\n",
       "      <th>post_type</th>\n",
       "      <th>comment_count</th>\n",
       "      <th>_merge</th>\n",
       "    </tr>\n",
       "  </thead>\n",
       "  <tbody>\n",
       "    <tr>\n",
       "      <th>185</th>\n",
       "      <td>4289</td>\n",
       "      <td>13771</td>\n",
       "      <td>NaN</td>\n",
       "      <td>NaN</td>\n",
       "      <td>NaN</td>\n",
       "      <td>NaN</td>\n",
       "      <td>NaN</td>\n",
       "      <td>NaN</td>\n",
       "      <td>NaN</td>\n",
       "      <td>NaT</td>\n",
       "      <td>...</td>\n",
       "      <td>NaN</td>\n",
       "      <td>NaN</td>\n",
       "      <td>NaT</td>\n",
       "      <td>NaT</td>\n",
       "      <td>NaN</td>\n",
       "      <td>NaN</td>\n",
       "      <td>NaN</td>\n",
       "      <td>NaN</td>\n",
       "      <td>NaN</td>\n",
       "      <td>left_only</td>\n",
       "    </tr>\n",
       "    <tr>\n",
       "      <th>227</th>\n",
       "      <td>4568</td>\n",
       "      <td>15065</td>\n",
       "      <td>NaN</td>\n",
       "      <td>NaN</td>\n",
       "      <td>NaN</td>\n",
       "      <td>NaN</td>\n",
       "      <td>NaN</td>\n",
       "      <td>NaN</td>\n",
       "      <td>NaN</td>\n",
       "      <td>NaT</td>\n",
       "      <td>...</td>\n",
       "      <td>NaN</td>\n",
       "      <td>NaN</td>\n",
       "      <td>NaT</td>\n",
       "      <td>NaT</td>\n",
       "      <td>NaN</td>\n",
       "      <td>NaN</td>\n",
       "      <td>NaN</td>\n",
       "      <td>NaN</td>\n",
       "      <td>NaN</td>\n",
       "      <td>left_only</td>\n",
       "    </tr>\n",
       "    <tr>\n",
       "      <th>230</th>\n",
       "      <td>4584</td>\n",
       "      <td>14785</td>\n",
       "      <td>NaN</td>\n",
       "      <td>NaN</td>\n",
       "      <td>NaN</td>\n",
       "      <td>NaN</td>\n",
       "      <td>NaN</td>\n",
       "      <td>NaN</td>\n",
       "      <td>NaN</td>\n",
       "      <td>NaT</td>\n",
       "      <td>...</td>\n",
       "      <td>NaN</td>\n",
       "      <td>NaN</td>\n",
       "      <td>NaT</td>\n",
       "      <td>NaT</td>\n",
       "      <td>NaN</td>\n",
       "      <td>NaN</td>\n",
       "      <td>NaN</td>\n",
       "      <td>NaN</td>\n",
       "      <td>NaN</td>\n",
       "      <td>left_only</td>\n",
       "    </tr>\n",
       "    <tr>\n",
       "      <th>334</th>\n",
       "      <td>4741</td>\n",
       "      <td>12601</td>\n",
       "      <td>NaN</td>\n",
       "      <td>NaN</td>\n",
       "      <td>NaN</td>\n",
       "      <td>NaN</td>\n",
       "      <td>NaN</td>\n",
       "      <td>NaN</td>\n",
       "      <td>NaN</td>\n",
       "      <td>NaT</td>\n",
       "      <td>...</td>\n",
       "      <td>NaN</td>\n",
       "      <td>NaN</td>\n",
       "      <td>NaT</td>\n",
       "      <td>NaT</td>\n",
       "      <td>NaN</td>\n",
       "      <td>NaN</td>\n",
       "      <td>NaN</td>\n",
       "      <td>NaN</td>\n",
       "      <td>NaN</td>\n",
       "      <td>left_only</td>\n",
       "    </tr>\n",
       "    <tr>\n",
       "      <th>368</th>\n",
       "      <td>4864</td>\n",
       "      <td>15154</td>\n",
       "      <td>NaN</td>\n",
       "      <td>NaN</td>\n",
       "      <td>NaN</td>\n",
       "      <td>NaN</td>\n",
       "      <td>NaN</td>\n",
       "      <td>NaN</td>\n",
       "      <td>NaN</td>\n",
       "      <td>NaT</td>\n",
       "      <td>...</td>\n",
       "      <td>NaN</td>\n",
       "      <td>NaN</td>\n",
       "      <td>NaT</td>\n",
       "      <td>NaT</td>\n",
       "      <td>NaN</td>\n",
       "      <td>NaN</td>\n",
       "      <td>NaN</td>\n",
       "      <td>NaN</td>\n",
       "      <td>NaN</td>\n",
       "      <td>left_only</td>\n",
       "    </tr>\n",
       "    <tr>\n",
       "      <th>371</th>\n",
       "      <td>4869</td>\n",
       "      <td>14360</td>\n",
       "      <td>NaN</td>\n",
       "      <td>NaN</td>\n",
       "      <td>NaN</td>\n",
       "      <td>NaN</td>\n",
       "      <td>NaN</td>\n",
       "      <td>NaN</td>\n",
       "      <td>NaN</td>\n",
       "      <td>NaT</td>\n",
       "      <td>...</td>\n",
       "      <td>NaN</td>\n",
       "      <td>NaN</td>\n",
       "      <td>NaT</td>\n",
       "      <td>NaT</td>\n",
       "      <td>NaN</td>\n",
       "      <td>NaN</td>\n",
       "      <td>NaN</td>\n",
       "      <td>NaN</td>\n",
       "      <td>NaN</td>\n",
       "      <td>left_only</td>\n",
       "    </tr>\n",
       "    <tr>\n",
       "      <th>399</th>\n",
       "      <td>4921</td>\n",
       "      <td>15608</td>\n",
       "      <td>NaN</td>\n",
       "      <td>NaN</td>\n",
       "      <td>NaN</td>\n",
       "      <td>NaN</td>\n",
       "      <td>NaN</td>\n",
       "      <td>NaN</td>\n",
       "      <td>NaN</td>\n",
       "      <td>NaT</td>\n",
       "      <td>...</td>\n",
       "      <td>NaN</td>\n",
       "      <td>NaN</td>\n",
       "      <td>NaT</td>\n",
       "      <td>NaT</td>\n",
       "      <td>NaN</td>\n",
       "      <td>NaN</td>\n",
       "      <td>NaN</td>\n",
       "      <td>NaN</td>\n",
       "      <td>NaN</td>\n",
       "      <td>left_only</td>\n",
       "    </tr>\n",
       "    <tr>\n",
       "      <th>400</th>\n",
       "      <td>4922</td>\n",
       "      <td>15586</td>\n",
       "      <td>NaN</td>\n",
       "      <td>NaN</td>\n",
       "      <td>NaN</td>\n",
       "      <td>NaN</td>\n",
       "      <td>NaN</td>\n",
       "      <td>NaN</td>\n",
       "      <td>NaN</td>\n",
       "      <td>NaT</td>\n",
       "      <td>...</td>\n",
       "      <td>NaN</td>\n",
       "      <td>NaN</td>\n",
       "      <td>NaT</td>\n",
       "      <td>NaT</td>\n",
       "      <td>NaN</td>\n",
       "      <td>NaN</td>\n",
       "      <td>NaN</td>\n",
       "      <td>NaN</td>\n",
       "      <td>NaN</td>\n",
       "      <td>left_only</td>\n",
       "    </tr>\n",
       "    <tr>\n",
       "      <th>443</th>\n",
       "      <td>5018</td>\n",
       "      <td>15272</td>\n",
       "      <td>NaN</td>\n",
       "      <td>NaN</td>\n",
       "      <td>NaN</td>\n",
       "      <td>NaN</td>\n",
       "      <td>NaN</td>\n",
       "      <td>NaN</td>\n",
       "      <td>NaN</td>\n",
       "      <td>NaT</td>\n",
       "      <td>...</td>\n",
       "      <td>NaN</td>\n",
       "      <td>NaN</td>\n",
       "      <td>NaT</td>\n",
       "      <td>NaT</td>\n",
       "      <td>NaN</td>\n",
       "      <td>NaN</td>\n",
       "      <td>NaN</td>\n",
       "      <td>NaN</td>\n",
       "      <td>NaN</td>\n",
       "      <td>left_only</td>\n",
       "    </tr>\n",
       "    <tr>\n",
       "      <th>445</th>\n",
       "      <td>5021</td>\n",
       "      <td>15630</td>\n",
       "      <td>NaN</td>\n",
       "      <td>NaN</td>\n",
       "      <td>NaN</td>\n",
       "      <td>NaN</td>\n",
       "      <td>NaN</td>\n",
       "      <td>NaN</td>\n",
       "      <td>NaN</td>\n",
       "      <td>NaT</td>\n",
       "      <td>...</td>\n",
       "      <td>NaN</td>\n",
       "      <td>NaN</td>\n",
       "      <td>NaT</td>\n",
       "      <td>NaT</td>\n",
       "      <td>NaN</td>\n",
       "      <td>NaN</td>\n",
       "      <td>NaN</td>\n",
       "      <td>NaN</td>\n",
       "      <td>NaN</td>\n",
       "      <td>left_only</td>\n",
       "    </tr>\n",
       "    <tr>\n",
       "      <th>493</th>\n",
       "      <td>5505</td>\n",
       "      <td>14648</td>\n",
       "      <td>NaN</td>\n",
       "      <td>NaN</td>\n",
       "      <td>NaN</td>\n",
       "      <td>NaN</td>\n",
       "      <td>NaN</td>\n",
       "      <td>NaN</td>\n",
       "      <td>NaN</td>\n",
       "      <td>NaT</td>\n",
       "      <td>...</td>\n",
       "      <td>NaN</td>\n",
       "      <td>NaN</td>\n",
       "      <td>NaT</td>\n",
       "      <td>NaT</td>\n",
       "      <td>NaN</td>\n",
       "      <td>NaN</td>\n",
       "      <td>NaN</td>\n",
       "      <td>NaN</td>\n",
       "      <td>NaN</td>\n",
       "      <td>left_only</td>\n",
       "    </tr>\n",
       "    <tr>\n",
       "      <th>510</th>\n",
       "      <td>5559</td>\n",
       "      <td>14715</td>\n",
       "      <td>NaN</td>\n",
       "      <td>NaN</td>\n",
       "      <td>NaN</td>\n",
       "      <td>NaN</td>\n",
       "      <td>NaN</td>\n",
       "      <td>NaN</td>\n",
       "      <td>NaN</td>\n",
       "      <td>NaT</td>\n",
       "      <td>...</td>\n",
       "      <td>NaN</td>\n",
       "      <td>NaN</td>\n",
       "      <td>NaT</td>\n",
       "      <td>NaT</td>\n",
       "      <td>NaN</td>\n",
       "      <td>NaN</td>\n",
       "      <td>NaN</td>\n",
       "      <td>NaN</td>\n",
       "      <td>NaN</td>\n",
       "      <td>left_only</td>\n",
       "    </tr>\n",
       "    <tr>\n",
       "      <th>516</th>\n",
       "      <td>5570</td>\n",
       "      <td>14730</td>\n",
       "      <td>NaN</td>\n",
       "      <td>NaN</td>\n",
       "      <td>NaN</td>\n",
       "      <td>NaN</td>\n",
       "      <td>NaN</td>\n",
       "      <td>NaN</td>\n",
       "      <td>NaN</td>\n",
       "      <td>NaT</td>\n",
       "      <td>...</td>\n",
       "      <td>NaN</td>\n",
       "      <td>NaN</td>\n",
       "      <td>NaT</td>\n",
       "      <td>NaT</td>\n",
       "      <td>NaN</td>\n",
       "      <td>NaN</td>\n",
       "      <td>NaN</td>\n",
       "      <td>NaN</td>\n",
       "      <td>NaN</td>\n",
       "      <td>left_only</td>\n",
       "    </tr>\n",
       "    <tr>\n",
       "      <th>581</th>\n",
       "      <td>5800</td>\n",
       "      <td>14689</td>\n",
       "      <td>NaN</td>\n",
       "      <td>NaN</td>\n",
       "      <td>NaN</td>\n",
       "      <td>NaN</td>\n",
       "      <td>NaN</td>\n",
       "      <td>NaN</td>\n",
       "      <td>NaN</td>\n",
       "      <td>NaT</td>\n",
       "      <td>...</td>\n",
       "      <td>NaN</td>\n",
       "      <td>NaN</td>\n",
       "      <td>NaT</td>\n",
       "      <td>NaT</td>\n",
       "      <td>NaN</td>\n",
       "      <td>NaN</td>\n",
       "      <td>NaN</td>\n",
       "      <td>NaN</td>\n",
       "      <td>NaN</td>\n",
       "      <td>left_only</td>\n",
       "    </tr>\n",
       "    <tr>\n",
       "      <th>625</th>\n",
       "      <td>5953</td>\n",
       "      <td>14379</td>\n",
       "      <td>NaN</td>\n",
       "      <td>NaN</td>\n",
       "      <td>NaN</td>\n",
       "      <td>NaN</td>\n",
       "      <td>NaN</td>\n",
       "      <td>NaN</td>\n",
       "      <td>NaN</td>\n",
       "      <td>NaT</td>\n",
       "      <td>...</td>\n",
       "      <td>NaN</td>\n",
       "      <td>NaN</td>\n",
       "      <td>NaT</td>\n",
       "      <td>NaT</td>\n",
       "      <td>NaN</td>\n",
       "      <td>NaN</td>\n",
       "      <td>NaN</td>\n",
       "      <td>NaN</td>\n",
       "      <td>NaN</td>\n",
       "      <td>left_only</td>\n",
       "    </tr>\n",
       "    <tr>\n",
       "      <th>626</th>\n",
       "      <td>5954</td>\n",
       "      <td>15609</td>\n",
       "      <td>NaN</td>\n",
       "      <td>NaN</td>\n",
       "      <td>NaN</td>\n",
       "      <td>NaN</td>\n",
       "      <td>NaN</td>\n",
       "      <td>NaN</td>\n",
       "      <td>NaN</td>\n",
       "      <td>NaT</td>\n",
       "      <td>...</td>\n",
       "      <td>NaN</td>\n",
       "      <td>NaN</td>\n",
       "      <td>NaT</td>\n",
       "      <td>NaT</td>\n",
       "      <td>NaN</td>\n",
       "      <td>NaN</td>\n",
       "      <td>NaN</td>\n",
       "      <td>NaN</td>\n",
       "      <td>NaN</td>\n",
       "      <td>left_only</td>\n",
       "    </tr>\n",
       "    <tr>\n",
       "      <th>627</th>\n",
       "      <td>5955</td>\n",
       "      <td>14377</td>\n",
       "      <td>NaN</td>\n",
       "      <td>NaN</td>\n",
       "      <td>NaN</td>\n",
       "      <td>NaN</td>\n",
       "      <td>NaN</td>\n",
       "      <td>NaN</td>\n",
       "      <td>NaN</td>\n",
       "      <td>NaT</td>\n",
       "      <td>...</td>\n",
       "      <td>NaN</td>\n",
       "      <td>NaN</td>\n",
       "      <td>NaT</td>\n",
       "      <td>NaT</td>\n",
       "      <td>NaN</td>\n",
       "      <td>NaN</td>\n",
       "      <td>NaN</td>\n",
       "      <td>NaN</td>\n",
       "      <td>NaN</td>\n",
       "      <td>left_only</td>\n",
       "    </tr>\n",
       "    <tr>\n",
       "      <th>629</th>\n",
       "      <td>5957</td>\n",
       "      <td>13577</td>\n",
       "      <td>NaN</td>\n",
       "      <td>NaN</td>\n",
       "      <td>NaN</td>\n",
       "      <td>NaN</td>\n",
       "      <td>NaN</td>\n",
       "      <td>NaN</td>\n",
       "      <td>NaN</td>\n",
       "      <td>NaT</td>\n",
       "      <td>...</td>\n",
       "      <td>NaN</td>\n",
       "      <td>NaN</td>\n",
       "      <td>NaT</td>\n",
       "      <td>NaT</td>\n",
       "      <td>NaN</td>\n",
       "      <td>NaN</td>\n",
       "      <td>NaN</td>\n",
       "      <td>NaN</td>\n",
       "      <td>NaN</td>\n",
       "      <td>left_only</td>\n",
       "    </tr>\n",
       "    <tr>\n",
       "      <th>652</th>\n",
       "      <td>6100</td>\n",
       "      <td>15529</td>\n",
       "      <td>NaN</td>\n",
       "      <td>NaN</td>\n",
       "      <td>NaN</td>\n",
       "      <td>NaN</td>\n",
       "      <td>NaN</td>\n",
       "      <td>NaN</td>\n",
       "      <td>NaN</td>\n",
       "      <td>NaT</td>\n",
       "      <td>...</td>\n",
       "      <td>NaN</td>\n",
       "      <td>NaN</td>\n",
       "      <td>NaT</td>\n",
       "      <td>NaT</td>\n",
       "      <td>NaN</td>\n",
       "      <td>NaN</td>\n",
       "      <td>NaN</td>\n",
       "      <td>NaN</td>\n",
       "      <td>NaN</td>\n",
       "      <td>left_only</td>\n",
       "    </tr>\n",
       "    <tr>\n",
       "      <th>732</th>\n",
       "      <td>7329</td>\n",
       "      <td>14680-1</td>\n",
       "      <td>NaN</td>\n",
       "      <td>NaN</td>\n",
       "      <td>NaN</td>\n",
       "      <td>NaN</td>\n",
       "      <td>NaN</td>\n",
       "      <td>NaN</td>\n",
       "      <td>NaN</td>\n",
       "      <td>NaT</td>\n",
       "      <td>...</td>\n",
       "      <td>NaN</td>\n",
       "      <td>NaN</td>\n",
       "      <td>NaT</td>\n",
       "      <td>NaT</td>\n",
       "      <td>NaN</td>\n",
       "      <td>NaN</td>\n",
       "      <td>NaN</td>\n",
       "      <td>NaN</td>\n",
       "      <td>NaN</td>\n",
       "      <td>left_only</td>\n",
       "    </tr>\n",
       "  </tbody>\n",
       "</table>\n",
       "<p>20 rows × 25 columns</p>\n",
       "</div>"
      ],
      "text/plain": [
       "     product_id      sku  virtual  downloadable  rating_count  average_rating  \\\n",
       "185        4289    13771      NaN           NaN           NaN             NaN   \n",
       "227        4568    15065      NaN           NaN           NaN             NaN   \n",
       "230        4584    14785      NaN           NaN           NaN             NaN   \n",
       "334        4741    12601      NaN           NaN           NaN             NaN   \n",
       "368        4864    15154      NaN           NaN           NaN             NaN   \n",
       "371        4869    14360      NaN           NaN           NaN             NaN   \n",
       "399        4921    15608      NaN           NaN           NaN             NaN   \n",
       "400        4922    15586      NaN           NaN           NaN             NaN   \n",
       "443        5018    15272      NaN           NaN           NaN             NaN   \n",
       "445        5021    15630      NaN           NaN           NaN             NaN   \n",
       "493        5505    14648      NaN           NaN           NaN             NaN   \n",
       "510        5559    14715      NaN           NaN           NaN             NaN   \n",
       "516        5570    14730      NaN           NaN           NaN             NaN   \n",
       "581        5800    14689      NaN           NaN           NaN             NaN   \n",
       "625        5953    14379      NaN           NaN           NaN             NaN   \n",
       "626        5954    15609      NaN           NaN           NaN             NaN   \n",
       "627        5955    14377      NaN           NaN           NaN             NaN   \n",
       "629        5957    13577      NaN           NaN           NaN             NaN   \n",
       "652        6100    15529      NaN           NaN           NaN             NaN   \n",
       "732        7329  14680-1      NaN           NaN           NaN             NaN   \n",
       "\n",
       "     total_sales tax_status  post_author post_date  ... ping_status post_name  \\\n",
       "185          NaN        NaN          NaN       NaT  ...         NaN       NaN   \n",
       "227          NaN        NaN          NaN       NaT  ...         NaN       NaN   \n",
       "230          NaN        NaN          NaN       NaT  ...         NaN       NaN   \n",
       "334          NaN        NaN          NaN       NaT  ...         NaN       NaN   \n",
       "368          NaN        NaN          NaN       NaT  ...         NaN       NaN   \n",
       "371          NaN        NaN          NaN       NaT  ...         NaN       NaN   \n",
       "399          NaN        NaN          NaN       NaT  ...         NaN       NaN   \n",
       "400          NaN        NaN          NaN       NaT  ...         NaN       NaN   \n",
       "443          NaN        NaN          NaN       NaT  ...         NaN       NaN   \n",
       "445          NaN        NaN          NaN       NaT  ...         NaN       NaN   \n",
       "493          NaN        NaN          NaN       NaT  ...         NaN       NaN   \n",
       "510          NaN        NaN          NaN       NaT  ...         NaN       NaN   \n",
       "516          NaN        NaN          NaN       NaT  ...         NaN       NaN   \n",
       "581          NaN        NaN          NaN       NaT  ...         NaN       NaN   \n",
       "625          NaN        NaN          NaN       NaT  ...         NaN       NaN   \n",
       "626          NaN        NaN          NaN       NaT  ...         NaN       NaN   \n",
       "627          NaN        NaN          NaN       NaT  ...         NaN       NaN   \n",
       "629          NaN        NaN          NaN       NaT  ...         NaN       NaN   \n",
       "652          NaN        NaN          NaN       NaT  ...         NaN       NaN   \n",
       "732          NaN        NaN          NaN       NaT  ...         NaN       NaN   \n",
       "\n",
       "    post_modified post_modified_gmt post_parent guid menu_order post_type  \\\n",
       "185           NaT               NaT         NaN  NaN        NaN       NaN   \n",
       "227           NaT               NaT         NaN  NaN        NaN       NaN   \n",
       "230           NaT               NaT         NaN  NaN        NaN       NaN   \n",
       "334           NaT               NaT         NaN  NaN        NaN       NaN   \n",
       "368           NaT               NaT         NaN  NaN        NaN       NaN   \n",
       "371           NaT               NaT         NaN  NaN        NaN       NaN   \n",
       "399           NaT               NaT         NaN  NaN        NaN       NaN   \n",
       "400           NaT               NaT         NaN  NaN        NaN       NaN   \n",
       "443           NaT               NaT         NaN  NaN        NaN       NaN   \n",
       "445           NaT               NaT         NaN  NaN        NaN       NaN   \n",
       "493           NaT               NaT         NaN  NaN        NaN       NaN   \n",
       "510           NaT               NaT         NaN  NaN        NaN       NaN   \n",
       "516           NaT               NaT         NaN  NaN        NaN       NaN   \n",
       "581           NaT               NaT         NaN  NaN        NaN       NaN   \n",
       "625           NaT               NaT         NaN  NaN        NaN       NaN   \n",
       "626           NaT               NaT         NaN  NaN        NaN       NaN   \n",
       "627           NaT               NaT         NaN  NaN        NaN       NaN   \n",
       "629           NaT               NaT         NaN  NaN        NaN       NaN   \n",
       "652           NaT               NaT         NaN  NaN        NaN       NaN   \n",
       "732           NaT               NaT         NaN  NaN        NaN       NaN   \n",
       "\n",
       "    comment_count     _merge  \n",
       "185           NaN  left_only  \n",
       "227           NaN  left_only  \n",
       "230           NaN  left_only  \n",
       "334           NaN  left_only  \n",
       "368           NaN  left_only  \n",
       "371           NaN  left_only  \n",
       "399           NaN  left_only  \n",
       "400           NaN  left_only  \n",
       "443           NaN  left_only  \n",
       "445           NaN  left_only  \n",
       "493           NaN  left_only  \n",
       "510           NaN  left_only  \n",
       "516           NaN  left_only  \n",
       "581           NaN  left_only  \n",
       "625           NaN  left_only  \n",
       "626           NaN  left_only  \n",
       "627           NaN  left_only  \n",
       "629           NaN  left_only  \n",
       "652           NaN  left_only  \n",
       "732           NaN  left_only  \n",
       "\n",
       "[20 rows x 25 columns]"
      ]
     },
     "execution_count": 20,
     "metadata": {},
     "output_type": "execute_result"
    }
   ],
   "source": [
    "# jointure avec indicateur\n",
    "liaison_web = liaison.merge(web, on='sku', how='outer', indicator=True)\n",
    "liaison_web_left = liaison_web[liaison_web['_merge'] == 'left_only']\n",
    "web_nan = web.isna().sum()\n",
    "print(bold + red + f\"\\n{len(liaison_web_left)} références produits de la table LIAISON n'ont pas de description dans la table WEB :\" + end)\n",
    "liaison_web_left"
   ]
  },
  {
   "cell_type": "code",
   "execution_count": 32,
   "id": "7e0eb10b",
   "metadata": {
    "canvas": {
     "comments": [],
     "componentType": "CodeCell",
     "copiedOriginId": null,
     "diskcache": false,
     "headerColor": "none",
     "id": "7274d4f7-5ee2-4a40-b1e4-6535f3c7a8e4",
     "isComponent": false,
     "name": "",
     "parents": []
    }
   },
   "outputs": [
    {
     "data": {
      "text/html": [
       "<div>\n",
       "<style scoped>\n",
       "    .dataframe tbody tr th:only-of-type {\n",
       "        vertical-align: middle;\n",
       "    }\n",
       "\n",
       "    .dataframe tbody tr th {\n",
       "        vertical-align: top;\n",
       "    }\n",
       "\n",
       "    .dataframe thead th {\n",
       "        text-align: right;\n",
       "    }\n",
       "</style>\n",
       "<table border=\"1\" class=\"dataframe\">\n",
       "  <thead>\n",
       "    <tr style=\"text-align: right;\">\n",
       "      <th></th>\n",
       "      <th>product_id</th>\n",
       "      <th>sku</th>\n",
       "      <th>virtual</th>\n",
       "      <th>downloadable</th>\n",
       "      <th>rating_count</th>\n",
       "      <th>average_rating</th>\n",
       "      <th>total_sales</th>\n",
       "      <th>tax_status</th>\n",
       "      <th>post_author</th>\n",
       "      <th>post_date</th>\n",
       "      <th>...</th>\n",
       "      <th>ping_status</th>\n",
       "      <th>post_name</th>\n",
       "      <th>post_modified</th>\n",
       "      <th>post_modified_gmt</th>\n",
       "      <th>post_parent</th>\n",
       "      <th>guid</th>\n",
       "      <th>menu_order</th>\n",
       "      <th>post_type</th>\n",
       "      <th>comment_count</th>\n",
       "      <th>_merge</th>\n",
       "    </tr>\n",
       "  </thead>\n",
       "  <tbody>\n",
       "    <tr>\n",
       "      <th>391</th>\n",
       "      <td>4910</td>\n",
       "      <td>13809</td>\n",
       "      <td>0.0</td>\n",
       "      <td>0.0</td>\n",
       "      <td>0.0</td>\n",
       "      <td>0.0</td>\n",
       "      <td>4.0</td>\n",
       "      <td>taxable</td>\n",
       "      <td>2.0</td>\n",
       "      <td>2018-05-15 11:11:59</td>\n",
       "      <td>...</td>\n",
       "      <td>closed</td>\n",
       "      <td>antoine-marie-arena-vin-de-france-rouge-san-gi...</td>\n",
       "      <td>2020-04-23 22:54:55</td>\n",
       "      <td>2020-04-23 20:54:55</td>\n",
       "      <td>0.0</td>\n",
       "      <td>https://www.bottle-neck.fr/?post_type=product&amp;...</td>\n",
       "      <td>0.0</td>\n",
       "      <td>product</td>\n",
       "      <td>0.0</td>\n",
       "      <td>both</td>\n",
       "    </tr>\n",
       "    <tr>\n",
       "      <th>706</th>\n",
       "      <td>6621</td>\n",
       "      <td>15204</td>\n",
       "      <td>0.0</td>\n",
       "      <td>0.0</td>\n",
       "      <td>0.0</td>\n",
       "      <td>0.0</td>\n",
       "      <td>3.0</td>\n",
       "      <td>taxable</td>\n",
       "      <td>2.0</td>\n",
       "      <td>2020-01-18 10:54:27</td>\n",
       "      <td>...</td>\n",
       "      <td>closed</td>\n",
       "      <td>thierry-germain-saumur-champigny-la-marginale-...</td>\n",
       "      <td>2020-06-18 10:45:04</td>\n",
       "      <td>2020-06-18 08:45:04</td>\n",
       "      <td>0.0</td>\n",
       "      <td>https://www.bottle-neck.fr/?post_type=product&amp;...</td>\n",
       "      <td>0.0</td>\n",
       "      <td>product</td>\n",
       "      <td>0.0</td>\n",
       "      <td>both</td>\n",
       "    </tr>\n",
       "    <tr>\n",
       "      <th>55</th>\n",
       "      <td>4101</td>\n",
       "      <td>14905</td>\n",
       "      <td>0.0</td>\n",
       "      <td>0.0</td>\n",
       "      <td>0.0</td>\n",
       "      <td>0.0</td>\n",
       "      <td>0.0</td>\n",
       "      <td>taxable</td>\n",
       "      <td>2.0</td>\n",
       "      <td>2018-02-13 10:11:16</td>\n",
       "      <td>...</td>\n",
       "      <td>closed</td>\n",
       "      <td>emile-boeckel-pinot-gris-gc-zotzenberg-2016</td>\n",
       "      <td>2020-08-25 18:45:02</td>\n",
       "      <td>2020-08-25 16:45:02</td>\n",
       "      <td>0.0</td>\n",
       "      <td>https://www.bottle-neck.fr/?post_type=product&amp;...</td>\n",
       "      <td>0.0</td>\n",
       "      <td>product</td>\n",
       "      <td>0.0</td>\n",
       "      <td>both</td>\n",
       "    </tr>\n",
       "  </tbody>\n",
       "</table>\n",
       "<p>3 rows × 25 columns</p>\n",
       "</div>"
      ],
      "text/plain": [
       "     product_id    sku  virtual  downloadable  rating_count  average_rating  \\\n",
       "391        4910  13809      0.0           0.0           0.0             0.0   \n",
       "706        6621  15204      0.0           0.0           0.0             0.0   \n",
       "55         4101  14905      0.0           0.0           0.0             0.0   \n",
       "\n",
       "     total_sales tax_status  post_author           post_date  ... ping_status  \\\n",
       "391          4.0    taxable          2.0 2018-05-15 11:11:59  ...      closed   \n",
       "706          3.0    taxable          2.0 2020-01-18 10:54:27  ...      closed   \n",
       "55           0.0    taxable          2.0 2018-02-13 10:11:16  ...      closed   \n",
       "\n",
       "                                             post_name       post_modified  \\\n",
       "391  antoine-marie-arena-vin-de-france-rouge-san-gi... 2020-04-23 22:54:55   \n",
       "706  thierry-germain-saumur-champigny-la-marginale-... 2020-06-18 10:45:04   \n",
       "55         emile-boeckel-pinot-gris-gc-zotzenberg-2016 2020-08-25 18:45:02   \n",
       "\n",
       "      post_modified_gmt post_parent  \\\n",
       "391 2020-04-23 20:54:55         0.0   \n",
       "706 2020-06-18 08:45:04         0.0   \n",
       "55  2020-08-25 16:45:02         0.0   \n",
       "\n",
       "                                                  guid menu_order post_type  \\\n",
       "391  https://www.bottle-neck.fr/?post_type=product&...        0.0   product   \n",
       "706  https://www.bottle-neck.fr/?post_type=product&...        0.0   product   \n",
       "55   https://www.bottle-neck.fr/?post_type=product&...        0.0   product   \n",
       "\n",
       "    comment_count  _merge  \n",
       "391           0.0    both  \n",
       "706           0.0    both  \n",
       "55            0.0    both  \n",
       "\n",
       "[3 rows x 25 columns]"
      ]
     },
     "execution_count": 32,
     "metadata": {},
     "output_type": "execute_result"
    }
   ],
   "source": [
    "# choix de la jointure inner pour la suite de l'analyse\n",
    "liaison_web = liaison_web[liaison_web['_merge'] == 'both']\n",
    "liaison_web.sample(3)"
   ]
  },
  {
   "cell_type": "markdown",
   "id": "bab7ac8b",
   "metadata": {
    "canvas": {
     "comments": [],
     "componentType": "CodeCell",
     "copiedOriginId": null,
     "diskcache": false,
     "headerColor": "none",
     "id": "21e840c4-0fc2-4cd4-a352-ae9aeaa22ff2",
     "isComponent": false,
     "name": "",
     "parents": []
    }
   },
   "source": [
    "# **Jointure** entre erp et liaison"
   ]
  },
  {
   "cell_type": "code",
   "execution_count": 22,
   "id": "4d8890f5",
   "metadata": {
    "canvas": {
     "comments": [],
     "componentType": "CodeCell",
     "copiedOriginId": null,
     "diskcache": false,
     "headerColor": "none",
     "id": "9fdbcc49-ba17-4cc0-8409-0998a3761130",
     "isComponent": false,
     "name": "",
     "parents": []
    }
   },
   "outputs": [
    {
     "name": "stdout",
     "output_type": "stream",
     "text": [
      "La clé est unique\n"
     ]
    }
   ],
   "source": [
    "# vérification de l'unicité de la clé candidate\n",
    "test_pk(erp, 'product_id')"
   ]
  },
  {
   "cell_type": "code",
   "execution_count": 23,
   "id": "177fb0c9",
   "metadata": {
    "canvas": {
     "comments": [],
     "componentType": "CodeCell",
     "copiedOriginId": null,
     "diskcache": false,
     "headerColor": "none",
     "id": "56a55eab-ff7f-4208-9567-afb85b378fee",
     "isComponent": false,
     "name": "",
     "parents": []
    }
   },
   "outputs": [
    {
     "name": "stdout",
     "output_type": "stream",
     "text": [
      "La clé est unique\n"
     ]
    }
   ],
   "source": [
    "# vérification de l'unicité de la clé candidate\n",
    "test_pk(liaison, 'product_id')"
   ]
  },
  {
   "cell_type": "code",
   "execution_count": 24,
   "id": "844404d2",
   "metadata": {
    "canvas": {
     "comments": [],
     "componentType": "CodeCell",
     "copiedOriginId": null,
     "diskcache": false,
     "headerColor": "none",
     "id": "edae83fd-c4db-4ac4-93cd-8879fc554937",
     "isComponent": false,
     "name": "",
     "parents": []
    }
   },
   "outputs": [
    {
     "data": {
      "text/html": [
       "<div>\n",
       "<style scoped>\n",
       "    .dataframe tbody tr th:only-of-type {\n",
       "        vertical-align: middle;\n",
       "    }\n",
       "\n",
       "    .dataframe tbody tr th {\n",
       "        vertical-align: top;\n",
       "    }\n",
       "\n",
       "    .dataframe thead th {\n",
       "        text-align: right;\n",
       "    }\n",
       "</style>\n",
       "<table border=\"1\" class=\"dataframe\">\n",
       "  <thead>\n",
       "    <tr style=\"text-align: right;\">\n",
       "      <th></th>\n",
       "      <th>product_id</th>\n",
       "      <th>onsale_web</th>\n",
       "      <th>price</th>\n",
       "      <th>stock_quantity</th>\n",
       "      <th>stock_status</th>\n",
       "      <th>sku</th>\n",
       "      <th>_merge</th>\n",
       "    </tr>\n",
       "  </thead>\n",
       "  <tbody>\n",
       "    <tr>\n",
       "      <th>758</th>\n",
       "      <td>6738</td>\n",
       "      <td>1</td>\n",
       "      <td>15.4</td>\n",
       "      <td>40</td>\n",
       "      <td>instock</td>\n",
       "      <td>8193</td>\n",
       "      <td>both</td>\n",
       "    </tr>\n",
       "    <tr>\n",
       "      <th>370</th>\n",
       "      <td>4782</td>\n",
       "      <td>1</td>\n",
       "      <td>9.8</td>\n",
       "      <td>22</td>\n",
       "      <td>instock</td>\n",
       "      <td>16564</td>\n",
       "      <td>both</td>\n",
       "    </tr>\n",
       "    <tr>\n",
       "      <th>453</th>\n",
       "      <td>4977</td>\n",
       "      <td>1</td>\n",
       "      <td>16.3</td>\n",
       "      <td>47</td>\n",
       "      <td>instock</td>\n",
       "      <td>14930</td>\n",
       "      <td>both</td>\n",
       "    </tr>\n",
       "    <tr>\n",
       "      <th>713</th>\n",
       "      <td>6221</td>\n",
       "      <td>1</td>\n",
       "      <td>23.5</td>\n",
       "      <td>3</td>\n",
       "      <td>instock</td>\n",
       "      <td>16096</td>\n",
       "      <td>both</td>\n",
       "    </tr>\n",
       "    <tr>\n",
       "      <th>8</th>\n",
       "      <td>4043</td>\n",
       "      <td>1</td>\n",
       "      <td>60.0</td>\n",
       "      <td>12</td>\n",
       "      <td>instock</td>\n",
       "      <td>14980</td>\n",
       "      <td>both</td>\n",
       "    </tr>\n",
       "  </tbody>\n",
       "</table>\n",
       "</div>"
      ],
      "text/plain": [
       "     product_id  onsale_web  price  stock_quantity stock_status    sku _merge\n",
       "758        6738           1   15.4              40      instock   8193   both\n",
       "370        4782           1    9.8              22      instock  16564   both\n",
       "453        4977           1   16.3              47      instock  14930   both\n",
       "713        6221           1   23.5               3      instock  16096   both\n",
       "8          4043           1   60.0              12      instock  14980   both"
      ]
     },
     "execution_count": 24,
     "metadata": {},
     "output_type": "execute_result"
    }
   ],
   "source": [
    "# jointure\n",
    "erp_liaison = erp.merge(liaison, on='product_id', how='outer', indicator=True)\n",
    "erp_liaison = erp_liaison[erp_liaison['_merge'] == 'both']\n",
    "erp_liaison.sample(5)"
   ]
  },
  {
   "cell_type": "markdown",
   "id": "7db87105",
   "metadata": {
    "canvas": {
     "comments": [],
     "componentType": "CodeCell",
     "copiedOriginId": null,
     "diskcache": false,
     "headerColor": "none",
     "id": "86bfb996-91fb-493d-81eb-6e323088f66d",
     "isComponent": false,
     "name": "",
     "parents": []
    }
   },
   "source": [
    "# **Jointure** entre les deux tables précédemment créées"
   ]
  },
  {
   "cell_type": "code",
   "execution_count": 25,
   "id": "15787106",
   "metadata": {
    "canvas": {
     "comments": [],
     "componentType": "CodeCell",
     "copiedOriginId": null,
     "diskcache": false,
     "headerColor": "none",
     "id": "a02bf9f2-298e-4c3c-89a4-07d5e06863cf",
     "isComponent": false,
     "name": "",
     "parents": []
    }
   },
   "outputs": [
    {
     "name": "stdout",
     "output_type": "stream",
     "text": [
      "La clé est unique\n"
     ]
    }
   ],
   "source": [
    "# vérification de l'unicité de la clé candidate\n",
    "test_pk(erp_liaison, 'sku')"
   ]
  },
  {
   "cell_type": "code",
   "execution_count": 26,
   "id": "a43785dc",
   "metadata": {
    "canvas": {
     "comments": [],
     "componentType": "CodeCell",
     "copiedOriginId": null,
     "diskcache": false,
     "headerColor": "none",
     "id": "f15f4828-ae26-48c3-b99d-20eb43436031",
     "isComponent": false,
     "name": "",
     "parents": []
    }
   },
   "outputs": [
    {
     "name": "stdout",
     "output_type": "stream",
     "text": [
      "La clé est unique\n"
     ]
    }
   ],
   "source": [
    "# vérification de l'unicité de la clé candidate\n",
    "test_pk(liaison_web, 'sku')"
   ]
  },
  {
   "cell_type": "code",
   "execution_count": 27,
   "id": "b6fdeed4",
   "metadata": {
    "canvas": {
     "comments": [],
     "componentType": "CodeCell",
     "copiedOriginId": null,
     "diskcache": false,
     "headerColor": "none",
     "id": "760624a9-df0a-42ae-a819-c01c013db7af",
     "isComponent": false,
     "name": "",
     "parents": []
    }
   },
   "outputs": [],
   "source": [
    "# jointure\n",
    "erp_web = erp_liaison.merge(liaison_web, on='sku', how='inner')"
   ]
  },
  {
   "cell_type": "code",
   "execution_count": 28,
   "id": "56082fe2",
   "metadata": {
    "canvas": {
     "comments": [],
     "componentType": "CodeCell",
     "copiedOriginId": null,
     "diskcache": false,
     "headerColor": "none",
     "id": "5e24792f-cfd8-4905-8649-426ec43f561c",
     "isComponent": false,
     "name": "",
     "parents": []
    }
   },
   "outputs": [
    {
     "data": {
      "text/html": [
       "<div>\n",
       "<style scoped>\n",
       "    .dataframe tbody tr th:only-of-type {\n",
       "        vertical-align: middle;\n",
       "    }\n",
       "\n",
       "    .dataframe tbody tr th {\n",
       "        vertical-align: top;\n",
       "    }\n",
       "\n",
       "    .dataframe thead th {\n",
       "        text-align: right;\n",
       "    }\n",
       "</style>\n",
       "<table border=\"1\" class=\"dataframe\">\n",
       "  <thead>\n",
       "    <tr style=\"text-align: right;\">\n",
       "      <th></th>\n",
       "      <th>product_id</th>\n",
       "      <th>onsale_web</th>\n",
       "      <th>price</th>\n",
       "      <th>stock_quantity</th>\n",
       "      <th>stock_status</th>\n",
       "      <th>sku</th>\n",
       "      <th>rating_count</th>\n",
       "      <th>average_rating</th>\n",
       "      <th>total_sales</th>\n",
       "      <th>tax_status</th>\n",
       "      <th>...</th>\n",
       "      <th>post_title</th>\n",
       "      <th>post_excerpt</th>\n",
       "      <th>post_status</th>\n",
       "      <th>comment_status</th>\n",
       "      <th>ping_status</th>\n",
       "      <th>post_name</th>\n",
       "      <th>post_modified</th>\n",
       "      <th>post_modified_gmt</th>\n",
       "      <th>guid</th>\n",
       "      <th>post_type</th>\n",
       "    </tr>\n",
       "  </thead>\n",
       "  <tbody>\n",
       "    <tr>\n",
       "      <th>323</th>\n",
       "      <td>4728</td>\n",
       "      <td>1</td>\n",
       "      <td>29.5</td>\n",
       "      <td>20</td>\n",
       "      <td>instock</td>\n",
       "      <td>15729</td>\n",
       "      <td>0.0</td>\n",
       "      <td>0.0</td>\n",
       "      <td>2.0</td>\n",
       "      <td>taxable</td>\n",
       "      <td>...</td>\n",
       "      <td>Maurice Schoech Gewurztraminer Vendanges Tardi...</td>\n",
       "      <td>La peau épaisse et rosée du gewurztraminer se ...</td>\n",
       "      <td>publish</td>\n",
       "      <td>closed</td>\n",
       "      <td>closed</td>\n",
       "      <td>schoech-gewurztraminer-vt-2017</td>\n",
       "      <td>2020-08-25 18:05:02</td>\n",
       "      <td>2020-08-25 16:05:02</td>\n",
       "      <td>https://www.bottle-neck.fr/?post_type=product&amp;...</td>\n",
       "      <td>product</td>\n",
       "    </tr>\n",
       "    <tr>\n",
       "      <th>690</th>\n",
       "      <td>6627</td>\n",
       "      <td>1</td>\n",
       "      <td>41.8</td>\n",
       "      <td>16</td>\n",
       "      <td>instock</td>\n",
       "      <td>15791</td>\n",
       "      <td>0.0</td>\n",
       "      <td>0.0</td>\n",
       "      <td>1.0</td>\n",
       "      <td>taxable</td>\n",
       "      <td>...</td>\n",
       "      <td>Weingut Besson-Strasser Zürich Fumé 2017</td>\n",
       "      <td>Assemblage équilibré entre Chardonnay et Räusc...</td>\n",
       "      <td>publish</td>\n",
       "      <td>closed</td>\n",
       "      <td>closed</td>\n",
       "      <td>weingut-besson-strasser-zurich-fume-2017</td>\n",
       "      <td>2020-08-11 11:25:02</td>\n",
       "      <td>2020-08-11 09:25:02</td>\n",
       "      <td>https://www.bottle-neck.fr/?post_type=product&amp;...</td>\n",
       "      <td>product</td>\n",
       "    </tr>\n",
       "    <tr>\n",
       "      <th>337</th>\n",
       "      <td>4757</td>\n",
       "      <td>1</td>\n",
       "      <td>26.5</td>\n",
       "      <td>1</td>\n",
       "      <td>instock</td>\n",
       "      <td>14680</td>\n",
       "      <td>0.0</td>\n",
       "      <td>0.0</td>\n",
       "      <td>6.0</td>\n",
       "      <td>taxable</td>\n",
       "      <td>...</td>\n",
       "      <td>Domaine Saint-Nicolas Fiefs Vendéens Blanc Le ...</td>\n",
       "      <td>Le Haut des Clous déploie une matière robuste,...</td>\n",
       "      <td>publish</td>\n",
       "      <td>closed</td>\n",
       "      <td>closed</td>\n",
       "      <td>domaine-saint-nicolas-fiefs-vendeens-blanc-le-...</td>\n",
       "      <td>2020-08-08 17:45:03</td>\n",
       "      <td>2020-08-08 15:45:03</td>\n",
       "      <td>https://www.bottle-neck.fr/?post_type=product&amp;...</td>\n",
       "      <td>product</td>\n",
       "    </tr>\n",
       "  </tbody>\n",
       "</table>\n",
       "<p>3 rows × 23 columns</p>\n",
       "</div>"
      ],
      "text/plain": [
       "     product_id  onsale_web  price  stock_quantity stock_status    sku  \\\n",
       "323        4728           1   29.5              20      instock  15729   \n",
       "690        6627           1   41.8              16      instock  15791   \n",
       "337        4757           1   26.5               1      instock  14680   \n",
       "\n",
       "     rating_count  average_rating  total_sales tax_status  ...  \\\n",
       "323           0.0             0.0          2.0    taxable  ...   \n",
       "690           0.0             0.0          1.0    taxable  ...   \n",
       "337           0.0             0.0          6.0    taxable  ...   \n",
       "\n",
       "                                            post_title  \\\n",
       "323  Maurice Schoech Gewurztraminer Vendanges Tardi...   \n",
       "690           Weingut Besson-Strasser Zürich Fumé 2017   \n",
       "337  Domaine Saint-Nicolas Fiefs Vendéens Blanc Le ...   \n",
       "\n",
       "                                          post_excerpt post_status  \\\n",
       "323  La peau épaisse et rosée du gewurztraminer se ...     publish   \n",
       "690  Assemblage équilibré entre Chardonnay et Räusc...     publish   \n",
       "337  Le Haut des Clous déploie une matière robuste,...     publish   \n",
       "\n",
       "    comment_status ping_status  \\\n",
       "323         closed      closed   \n",
       "690         closed      closed   \n",
       "337         closed      closed   \n",
       "\n",
       "                                             post_name       post_modified  \\\n",
       "323                     schoech-gewurztraminer-vt-2017 2020-08-25 18:05:02   \n",
       "690           weingut-besson-strasser-zurich-fume-2017 2020-08-11 11:25:02   \n",
       "337  domaine-saint-nicolas-fiefs-vendeens-blanc-le-... 2020-08-08 17:45:03   \n",
       "\n",
       "      post_modified_gmt                                               guid  \\\n",
       "323 2020-08-25 16:05:02  https://www.bottle-neck.fr/?post_type=product&...   \n",
       "690 2020-08-11 09:25:02  https://www.bottle-neck.fr/?post_type=product&...   \n",
       "337 2020-08-08 15:45:03  https://www.bottle-neck.fr/?post_type=product&...   \n",
       "\n",
       "    post_type  \n",
       "323   product  \n",
       "690   product  \n",
       "337   product  \n",
       "\n",
       "[3 rows x 23 columns]"
      ]
     },
     "execution_count": 28,
     "metadata": {},
     "output_type": "execute_result"
    }
   ],
   "source": [
    "# remodelage du DataFrame\n",
    "erp_web = erp_web.drop(columns=['_merge_x', 'product_id_y', 'virtual',\n",
    "                                'downloadable', '_merge_y', 'menu_order', \n",
    "                                'post_parent', 'comment_count'])\n",
    "erp_web.rename(columns={'product_id_x':'product_id'}, inplace=True)\n",
    "erp_web.sample(3)"
   ]
  },
  {
   "cell_type": "code",
   "execution_count": 29,
   "id": "02faf413",
   "metadata": {
    "canvas": {
     "comments": [],
     "componentType": "CodeCell",
     "copiedOriginId": null,
     "diskcache": false,
     "headerColor": "none",
     "id": "185254ae-0cc6-4ce9-8323-729626f344af",
     "isComponent": false,
     "name": "",
     "parents": []
    }
   },
   "outputs": [
    {
     "name": "stdout",
     "output_type": "stream",
     "text": [
      "(714, 23)\n"
     ]
    }
   ],
   "source": [
    "print(erp_web.shape)"
   ]
  },
  {
   "cell_type": "markdown",
   "id": "fddefa65",
   "metadata": {
    "canvas": {
     "comments": [],
     "componentType": "CodeCell",
     "copiedOriginId": null,
     "diskcache": false,
     "headerColor": "none",
     "id": "4b88bc50-ef36-480e-ae00-cd9abd05c184",
     "isComponent": false,
     "name": "",
     "parents": []
    }
   },
   "source": [
    "<span style=\"color:red\">**=> Après nettoyage et jointure des 3 tables, 714 références sont exploitables pour l'analyse**</span>"
   ]
  },
  {
   "cell_type": "markdown",
   "id": "13acf00d",
   "metadata": {
    "canvas": {
     "comments": [],
     "componentType": "CodeCell",
     "copiedOriginId": null,
     "diskcache": false,
     "headerColor": "none",
     "id": "12ff8be4-001c-4cc0-a2d4-752a13c67113",
     "isComponent": false,
     "name": "",
     "parents": []
    }
   },
   "source": [
    "# **Conclusion** sur les fichiers à l'attention des stakeholders"
   ]
  },
  {
   "cell_type": "markdown",
   "id": "0a7c5c64",
   "metadata": {
    "canvas": {
     "comments": [],
     "componentType": "CodeCell",
     "copiedOriginId": null,
     "diskcache": false,
     "headerColor": "none",
     "id": "8381603e-5dec-47cb-a226-2714f788121d",
     "isComponent": false,
     "name": "",
     "parents": []
    }
   },
   "source": [
    "## ***Résumé des tâches effectuées***"
   ]
  },
  {
   "cell_type": "markdown",
   "id": "523883f6",
   "metadata": {
    "canvas": {
     "comments": [],
     "componentType": "CodeCell",
     "copiedOriginId": null,
     "diskcache": false,
     "headerColor": "none",
     "id": "96de03cb-47aa-4889-8b5a-29ac2b8a3e67",
     "isComponent": false,
     "name": "",
     "parents": []
    }
   },
   "source": [
    "+ **ERP** => RAS, fichier prêt pour l'analyse\n",
    "\n",
    "\n",
    "+ **LIAISON** => \n",
    "            \n",
    "            1. renommage de la colonne \"id_web\" en \"sku\"\n",
    "            2. suppression des NaN dans la colonne \"sku\"\n",
    "            \n",
    "+ **WEB** => \n",
    "        \n",
    "            1. suppression des 82 doublons\n",
    "            2. suppression des colonnes vides \"tax_class\", \"post_content\", \"post_password\", \"post_content_filtered\"\n",
    "            3. suppression des lignes en double de la colonne \"sku\" (restent celles avec le post_type 'product')\n",
    "            4. suppression de la colonne post_mime_type qui contenait uniquement des valeurs NaN\n",
    "            5. suppression de la ligne NaN de la colonne \"sku\""
   ]
  },
  {
   "cell_type": "markdown",
   "id": "c07173e2",
   "metadata": {
    "canvas": {
     "comments": [],
     "componentType": "CodeCell",
     "copiedOriginId": null,
     "diskcache": false,
     "headerColor": "none",
     "id": "94e7bf40-0670-423c-95c3-b034fba1fe48",
     "isComponent": false,
     "name": "",
     "parents": []
    }
   },
   "source": [
    "## ***Données manquantes***"
   ]
  },
  {
   "cell_type": "code",
   "execution_count": 30,
   "id": "7a6c40e7",
   "metadata": {
    "canvas": {
     "comments": [],
     "componentType": "CodeCell",
     "copiedOriginId": null,
     "diskcache": false,
     "headerColor": "none",
     "id": "4603755d-6f49-4dd8-8b8d-0d0a5ce0c61b",
     "isComponent": false,
     "name": "",
     "parents": []
    }
   },
   "outputs": [
    {
     "name": "stdout",
     "output_type": "stream",
     "text": [
      " Nombres de références produits dans la table ERP : 825\n",
      " Nombres de références produits dans la table LIAISON : 734\n",
      " Nombres de références produits dans la table WEB : 714\n"
     ]
    }
   ],
   "source": [
    "print(f\" Nombres de références produits dans la table ERP : {len(erp)}\")\n",
    "print(f\" Nombres de références produits dans la table LIAISON : {len(liaison)}\")\n",
    "print(f\" Nombres de références produits dans la table WEB : {len(web)}\")"
   ]
  },
  {
   "cell_type": "markdown",
   "id": "4dcdcbf1",
   "metadata": {
    "canvas": {
     "comments": [],
     "componentType": "CodeCell",
     "copiedOriginId": null,
     "diskcache": false,
     "headerColor": "none",
     "id": "d4616f5a-373a-4286-8e82-6384c4dc449b",
     "isComponent": false,
     "name": "",
     "parents": []
    }
   },
   "source": [
    "Il manque des références et données produits, qu'il conviendrait de compléter pour affiner l'analyse : \n",
    "\n",
    "+ Fichier ERP : RAS, 825 références produits\n",
    "+ Fichier LIAISON : 91 NaN dans la colonne \"sku\", 734 références produits -> 91 correspondances de références manquantes à compléter\n",
    "+ Fichier WEB : 4 colonnes vides, 1 NaN dans colonne \"sku\" (index 178), 20 références produits dans LIAISON sans description dans WEB"
   ]
  },
  {
   "cell_type": "markdown",
   "id": "18c25fca",
   "metadata": {
    "canvas": {
     "comments": [],
     "componentType": "CodeCell",
     "copiedOriginId": null,
     "diskcache": false,
     "headerColor": "none",
     "id": "9e753fb2-8194-4553-a2cb-def7868f1441",
     "isComponent": false,
     "name": "",
     "parents": []
    }
   },
   "source": [
    "# Exportation de la jointure des trois tables vers un fichier CSV"
   ]
  },
  {
   "cell_type": "code",
   "execution_count": 31,
   "id": "2ded252e",
   "metadata": {
    "canvas": {
     "comments": [],
     "componentType": "CodeCell",
     "copiedOriginId": null,
     "diskcache": false,
     "headerColor": "none",
     "id": "08f22374-baf7-4f97-85ae-9d97b3cbd06a",
     "isComponent": false,
     "name": "",
     "parents": []
    }
   },
   "outputs": [],
   "source": [
    "erp_web.to_csv('/Users/zqldata/Documents/P5/Input/erp_web.csv', index=False) "
   ]
  }
 ],
 "metadata": {
  "canvas": {
   "colorPalette": [
    "inherit",
    "inherit",
    "inherit",
    "inherit",
    "inherit",
    "inherit",
    "inherit",
    "inherit",
    "inherit",
    "inherit"
   ],
   "parameters": [],
   "version": "1.0"
  },
  "kernelspec": {
   "display_name": "Python 3 (ipykernel)",
   "language": "python",
   "name": "python3"
  },
  "language_info": {
   "codemirror_mode": {
    "name": "ipython",
    "version": 3
   },
   "file_extension": ".py",
   "mimetype": "text/x-python",
   "name": "python",
   "nbconvert_exporter": "python",
   "pygments_lexer": "ipython3",
   "version": "3.9.13"
  },
  "toc": {
   "base_numbering": 1,
   "nav_menu": {},
   "number_sections": true,
   "sideBar": true,
   "skip_h1_title": false,
   "title_cell": "Table of Contents",
   "title_sidebar": "Contents",
   "toc_cell": false,
   "toc_position": {
    "height": "calc(100% - 180px)",
    "left": "10px",
    "top": "150px",
    "width": "409.59375px"
   },
   "toc_section_display": true,
   "toc_window_display": true
  },
  "varInspector": {
   "cols": {
    "lenName": 16,
    "lenType": 16,
    "lenVar": 40
   },
   "kernels_config": {
    "python": {
     "delete_cmd_postfix": "",
     "delete_cmd_prefix": "del ",
     "library": "var_list.py",
     "varRefreshCmd": "print(var_dic_list())"
    },
    "r": {
     "delete_cmd_postfix": ") ",
     "delete_cmd_prefix": "rm(",
     "library": "var_list.r",
     "varRefreshCmd": "cat(var_dic_list()) "
    }
   },
   "types_to_exclude": [
    "module",
    "function",
    "builtin_function_or_method",
    "instance",
    "_Feature"
   ],
   "window_display": false
  }
 },
 "nbformat": 4,
 "nbformat_minor": 5
}
