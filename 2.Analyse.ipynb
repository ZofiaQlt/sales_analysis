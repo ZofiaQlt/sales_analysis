{
 "cells": [
  {
   "cell_type": "markdown",
   "id": "4db5f63b",
   "metadata": {
    "canvas": {
     "comments": [],
     "componentType": "CodeCell",
     "copiedOriginId": null,
     "diskcache": false,
     "headerColor": "none",
     "id": "313433f7-7652-45ef-95d3-12a369efbd52",
     "isComponent": false,
     "name": "",
     "parents": []
    },
    "tags": []
   },
   "source": [
    "<img src=\"img/logo.png\">"
   ]
  },
  {
   "cell_type": "markdown",
   "id": "a018af9a-f727-43aa-ac07-296d35afbf45",
   "metadata": {
    "canvas": {
     "comments": [],
     "componentType": "CodeCell",
     "copiedOriginId": null,
     "diskcache": false,
     "headerColor": "inherit",
     "id": "816f621a-1327-4240-b041-5c561ed3a88d",
     "isComponent": false,
     "name": "",
     "parents": []
    }
   },
   "source": [
    "# Chargement des librairies"
   ]
  },
  {
   "cell_type": "code",
   "execution_count": 1,
   "id": "deefcd5d",
   "metadata": {
    "canvas": {
     "comments": [],
     "componentType": "CodeCell",
     "copiedOriginId": null,
     "diskcache": false,
     "headerColor": "none",
     "id": "8df4e702-cc8f-4f31-be16-f83031b19001",
     "isComponent": false,
     "name": "",
     "parents": []
    }
   },
   "outputs": [
    {
     "name": "stdout",
     "output_type": "stream",
     "text": [
      "Version numpy : 1.23.5\n",
      "Version pandas : 1.4.4\n"
     ]
    }
   ],
   "source": [
    "import numpy as np\n",
    "import pandas as pd\n",
    "import matplotlib.pyplot as plt\n",
    "from matplotlib.ticker import PercentFormatter\n",
    "import seaborn as sns\n",
    "import scipy.stats as stats\n",
    "import warnings\n",
    "warnings.filterwarnings('ignore')\n",
    "\n",
    "print(\"Version numpy : \" + np.__version__)\n",
    "print(\"Version pandas : \" + pd.__version__)\n",
    "\n",
    "bold = \"\\033[1m\"\n",
    "red = \"\\033[31m\"\n",
    "end = \"\\033[0;0m\"\n",
    "\n",
    "chemin_erp_web = '/Users/zqldata/Documents/P5/Input/erp_web.csv'"
   ]
  },
  {
   "cell_type": "markdown",
   "id": "2ae68c05",
   "metadata": {
    "canvas": {
     "comments": [],
     "componentType": "CodeCell",
     "copiedOriginId": null,
     "diskcache": false,
     "headerColor": "none",
     "id": "337a0093-b887-4336-9904-f639d3a6c757",
     "isComponent": false,
     "name": "",
     "parents": []
    }
   },
   "source": [
    "# Chargement du fichier .csv"
   ]
  },
  {
   "cell_type": "code",
   "execution_count": 2,
   "id": "c43547c8",
   "metadata": {
    "canvas": {
     "comments": [],
     "componentType": "CodeCell",
     "copiedOriginId": null,
     "diskcache": false,
     "headerColor": "none",
     "id": "3a7fb0e8-a450-4f83-82cc-4d7f963b2b5f",
     "isComponent": false,
     "name": "",
     "parents": []
    }
   },
   "outputs": [],
   "source": [
    "erp_web = pd.read_csv(chemin_erp_web)"
   ]
  },
  {
   "cell_type": "markdown",
   "id": "767b422d",
   "metadata": {
    "canvas": {
     "comments": [],
     "componentType": "CodeCell",
     "copiedOriginId": null,
     "diskcache": false,
     "headerColor": "none",
     "id": "6b3d9444-e437-4f70-a9ac-c97097028625",
     "isComponent": false,
     "name": "",
     "parents": []
    }
   },
   "source": [
    "# 1. Chiffre d'affaires par produit"
   ]
  },
  {
   "cell_type": "code",
   "execution_count": 3,
   "id": "44b34e6d",
   "metadata": {
    "canvas": {
     "comments": [],
     "componentType": "CodeCell",
     "copiedOriginId": null,
     "diskcache": false,
     "headerColor": "none",
     "id": "29829dff-9ed6-4435-b80a-1d5c197be8f8",
     "isComponent": false,
     "name": "",
     "parents": []
    }
   },
   "outputs": [],
   "source": [
    "pd.options.display.max_rows = None"
   ]
  },
  {
   "cell_type": "code",
   "execution_count": 35,
   "id": "225b819a",
   "metadata": {
    "canvas": {
     "comments": [],
     "componentType": "CodeCell",
     "copiedOriginId": null,
     "diskcache": false,
     "headerColor": "none",
     "id": "b0c90b5b-ffb4-4e4e-8d52-b12d574a1b87",
     "isComponent": false,
     "name": "",
     "parents": []
    }
   },
   "outputs": [
    {
     "name": "stdout",
     "output_type": "stream",
     "text": [
      "\u001b[1m\u001b[31m\n",
      "Le chiffre d'affaires par produit est de :\u001b[0;0m\n"
     ]
    },
    {
     "data": {
      "text/html": [
       "<div>\n",
       "<style scoped>\n",
       "    .dataframe tbody tr th:only-of-type {\n",
       "        vertical-align: middle;\n",
       "    }\n",
       "\n",
       "    .dataframe tbody tr th {\n",
       "        vertical-align: top;\n",
       "    }\n",
       "\n",
       "    .dataframe thead th {\n",
       "        text-align: right;\n",
       "    }\n",
       "</style>\n",
       "<table border=\"1\" class=\"dataframe\">\n",
       "  <thead>\n",
       "    <tr style=\"text-align: right;\">\n",
       "      <th></th>\n",
       "      <th>product_id</th>\n",
       "      <th>sku</th>\n",
       "      <th>post_name</th>\n",
       "      <th>price</th>\n",
       "      <th>total_sales</th>\n",
       "      <th>stock_quantity</th>\n",
       "      <th>CA par produit</th>\n",
       "    </tr>\n",
       "  </thead>\n",
       "  <tbody>\n",
       "    <tr>\n",
       "      <th>0</th>\n",
       "      <td>3847</td>\n",
       "      <td>15298</td>\n",
       "      <td>pierre-jean-villa-saint-joseph-preface-2018</td>\n",
       "      <td>24.2</td>\n",
       "      <td>6.0</td>\n",
       "      <td>0</td>\n",
       "      <td>145.2</td>\n",
       "    </tr>\n",
       "    <tr>\n",
       "      <th>1</th>\n",
       "      <td>3849</td>\n",
       "      <td>15296</td>\n",
       "      <td>pierre-jean-villa-saint-joseph-tilde-2017</td>\n",
       "      <td>34.3</td>\n",
       "      <td>0.0</td>\n",
       "      <td>0</td>\n",
       "      <td>0.0</td>\n",
       "    </tr>\n",
       "    <tr>\n",
       "      <th>2</th>\n",
       "      <td>3850</td>\n",
       "      <td>15300</td>\n",
       "      <td>pierre-jean-villa-croze-hermitage-accroche-coe...</td>\n",
       "      <td>20.8</td>\n",
       "      <td>0.0</td>\n",
       "      <td>0</td>\n",
       "      <td>0.0</td>\n",
       "    </tr>\n",
       "    <tr>\n",
       "      <th>3</th>\n",
       "      <td>4032</td>\n",
       "      <td>19814</td>\n",
       "      <td>pierre-jean-villa-igp-gamine-2018</td>\n",
       "      <td>14.1</td>\n",
       "      <td>3.0</td>\n",
       "      <td>0</td>\n",
       "      <td>42.3</td>\n",
       "    </tr>\n",
       "    <tr>\n",
       "      <th>4</th>\n",
       "      <td>4039</td>\n",
       "      <td>19815</td>\n",
       "      <td>pierre-jean-villa-cote-rotie-carmina-2017</td>\n",
       "      <td>46.0</td>\n",
       "      <td>0.0</td>\n",
       "      <td>0</td>\n",
       "      <td>0.0</td>\n",
       "    </tr>\n",
       "    <tr>\n",
       "      <th>5</th>\n",
       "      <td>4040</td>\n",
       "      <td>15303</td>\n",
       "      <td>pierre-jean-villa-saint-joseph-saut-ange-2018</td>\n",
       "      <td>34.3</td>\n",
       "      <td>0.0</td>\n",
       "      <td>0</td>\n",
       "      <td>0.0</td>\n",
       "    </tr>\n",
       "    <tr>\n",
       "      <th>6</th>\n",
       "      <td>4041</td>\n",
       "      <td>14975</td>\n",
       "      <td>pierre-gaillard-condrieu-2018</td>\n",
       "      <td>32.7</td>\n",
       "      <td>0.0</td>\n",
       "      <td>15</td>\n",
       "      <td>0.0</td>\n",
       "    </tr>\n",
       "    <tr>\n",
       "      <th>7</th>\n",
       "      <td>4042</td>\n",
       "      <td>16042</td>\n",
       "      <td>pierre-gaillard-cornas-2017</td>\n",
       "      <td>31.2</td>\n",
       "      <td>7.0</td>\n",
       "      <td>34</td>\n",
       "      <td>218.4</td>\n",
       "    </tr>\n",
       "    <tr>\n",
       "      <th>8</th>\n",
       "      <td>4043</td>\n",
       "      <td>14980</td>\n",
       "      <td>pierre-gaillard-cote-rotie-esprit-blond-2017</td>\n",
       "      <td>60.0</td>\n",
       "      <td>3.0</td>\n",
       "      <td>12</td>\n",
       "      <td>180.0</td>\n",
       "    </tr>\n",
       "    <tr>\n",
       "      <th>9</th>\n",
       "      <td>4045</td>\n",
       "      <td>16041</td>\n",
       "      <td>pierre-gaillard-cote-rotie-2018</td>\n",
       "      <td>42.6</td>\n",
       "      <td>14.0</td>\n",
       "      <td>66</td>\n",
       "      <td>596.4</td>\n",
       "    </tr>\n",
       "  </tbody>\n",
       "</table>\n",
       "</div>"
      ],
      "text/plain": [
       "   product_id    sku                                          post_name  \\\n",
       "0        3847  15298        pierre-jean-villa-saint-joseph-preface-2018   \n",
       "1        3849  15296          pierre-jean-villa-saint-joseph-tilde-2017   \n",
       "2        3850  15300  pierre-jean-villa-croze-hermitage-accroche-coe...   \n",
       "3        4032  19814                  pierre-jean-villa-igp-gamine-2018   \n",
       "4        4039  19815          pierre-jean-villa-cote-rotie-carmina-2017   \n",
       "5        4040  15303      pierre-jean-villa-saint-joseph-saut-ange-2018   \n",
       "6        4041  14975                      pierre-gaillard-condrieu-2018   \n",
       "7        4042  16042                        pierre-gaillard-cornas-2017   \n",
       "8        4043  14980       pierre-gaillard-cote-rotie-esprit-blond-2017   \n",
       "9        4045  16041                    pierre-gaillard-cote-rotie-2018   \n",
       "\n",
       "   price  total_sales  stock_quantity  CA par produit  \n",
       "0   24.2          6.0               0           145.2  \n",
       "1   34.3          0.0               0             0.0  \n",
       "2   20.8          0.0               0             0.0  \n",
       "3   14.1          3.0               0            42.3  \n",
       "4   46.0          0.0               0             0.0  \n",
       "5   34.3          0.0               0             0.0  \n",
       "6   32.7          0.0              15             0.0  \n",
       "7   31.2          7.0              34           218.4  \n",
       "8   60.0          3.0              12           180.0  \n",
       "9   42.6         14.0              66           596.4  "
      ]
     },
     "execution_count": 35,
     "metadata": {},
     "output_type": "execute_result"
    }
   ],
   "source": [
    "# feature engineering\n",
    "erp_web['CA par produit'] = erp_web['price'] * erp_web['total_sales']\n",
    "erp_web_ca = erp_web[[\"product_id\", \"sku\", \"post_name\", \"price\", \"total_sales\", \"stock_quantity\", \"CA par produit\"]]\n",
    "print(bold + red + f\"\\nLe chiffre d'affaires par produit est de :\" + end)\n",
    "erp_web_ca.head(10) #pour voir la liste complète des produits supprimer .head(10)"
   ]
  },
  {
   "cell_type": "code",
   "execution_count": 33,
   "id": "7d9efc88",
   "metadata": {
    "canvas": {
     "comments": [],
     "componentType": "CodeCell",
     "copiedOriginId": null,
     "diskcache": false,
     "headerColor": "none",
     "id": "dd509546-09a4-4876-83f1-c57a8aa8efa4",
     "isComponent": false,
     "name": "",
     "parents": []
    }
   },
   "outputs": [
    {
     "data": {
      "image/png": "[encoded data removed]",
      "text/plain": [
       "<Figure size 1200x600 with 1 Axes>"
      ]
     },
     "metadata": {},
     "output_type": "display_data"
    }
   ],
   "source": [
    "# visualisation\n",
    "erp_web_ca['CA par produit'].plot.hist(figsize=(12, 6))\n",
    "plt.title(\"Catégories de chiffre d'affaires en fonction de la somme des produits vendus\", fontsize=16)\n",
    "plt.xlabel(\"Chiffre d'affaires\", fontsize=12)\n",
    "plt.ylabel(\"Somme de produits vendus (log)\", fontsize=12)\n",
    "plt.yscale('log') #mise en log pour améliorer la lisibilité du graphique\n",
    "plt.show()"
   ]
  },
  {
   "cell_type": "code",
   "execution_count": 37,
   "id": "ca3ab962",
   "metadata": {
    "canvas": {
     "comments": [],
     "componentType": "CodeCell",
     "copiedOriginId": null,
     "diskcache": false,
     "headerColor": "none",
     "id": "d98cc868-39a5-427c-9923-7cf1ba15d408",
     "isComponent": false,
     "name": "",
     "parents": []
    }
   },
   "outputs": [
    {
     "data": {
      "image/png": "[encoded data removed]",
      "text/plain": [
       "<Figure size 1200x600 with 1 Axes>"
      ]
     },
     "metadata": {},
     "output_type": "display_data"
    }
   ],
   "source": [
    "# visualisation\n",
    "erp_web_ca.plot.scatter(x='CA par produit', y='total_sales', figsize=(12, 6))\n",
    "plt.title(\"Chiffre d'affaires en fonction des produits vendus\", fontsize=16)\n",
    "plt.xlabel(\"Chiffre d'affaires\", fontsize=12)\n",
    "plt.ylabel(\"Produits vendus\", fontsize=12)\n",
    "plt.show()"
   ]
  },
  {
   "cell_type": "code",
   "execution_count": 39,
   "id": "3724f85b",
   "metadata": {
    "canvas": {
     "comments": [],
     "componentType": "CodeCell",
     "copiedOriginId": null,
     "diskcache": false,
     "headerColor": "none",
     "id": "e37426ad-a19e-41ad-9100-9796efac8b2a",
     "isComponent": false,
     "name": "",
     "parents": []
    }
   },
   "outputs": [
    {
     "data": {
      "image/png": "[encoded data removed]",
      "text/plain": [
       "<Figure size 1200x600 with 1 Axes>"
      ]
     },
     "metadata": {},
     "output_type": "display_data"
    }
   ],
   "source": [
    "# visualisation\n",
    "erp_web_ca.plot.scatter(x='CA par produit', y='product_id', figsize=(12, 6))\n",
    "plt.title(\"Chiffre d'affaires en fonction de la référence produit\", fontsize=16)\n",
    "plt.xlabel(\"Chiffre d'affaires\", fontsize=12)\n",
    "plt.ylabel(\"Référence produit\", fontsize=12);"
   ]
  },
  {
   "cell_type": "code",
   "execution_count": 8,
   "id": "771919fb",
   "metadata": {
    "canvas": {
     "comments": [],
     "componentType": "CodeCell",
     "copiedOriginId": null,
     "diskcache": false,
     "headerColor": "none",
     "id": "abf09033-ff0a-48a9-bcee-c5a4a0fe24cf",
     "isComponent": false,
     "name": "",
     "parents": []
    }
   },
   "outputs": [
    {
     "name": "stdout",
     "output_type": "stream",
     "text": [
      "\u001b[1m\u001b[31m\n",
      "Caractéristiques du chiffre d'affaires :\u001b[0;0m\n"
     ]
    },
    {
     "data": {
      "text/plain": [
       "count     714.000000\n",
       "mean       98.835574\n",
       "std       307.685071\n",
       "min         0.000000\n",
       "25%         0.000000\n",
       "50%        15.250000\n",
       "75%        91.150000\n",
       "max      4704.000000\n",
       "Name: CA par produit, dtype: float64"
      ]
     },
     "execution_count": 8,
     "metadata": {},
     "output_type": "execute_result"
    }
   ],
   "source": [
    "# aperçu des statistiques descriptives\n",
    "print(bold + red + f\"\\nCaractéristiques du chiffre d'affaires :\" + end)\n",
    "erp_web_ca['CA par produit'].describe()"
   ]
  },
  {
   "cell_type": "markdown",
   "id": "7dcf9309",
   "metadata": {
    "canvas": {
     "comments": [],
     "componentType": "CodeCell",
     "copiedOriginId": null,
     "diskcache": false,
     "headerColor": "none",
     "id": "68d0b4f1-ddfb-4852-9978-378c4d73f594",
     "isComponent": false,
     "name": "",
     "parents": []
    }
   },
   "source": [
    "## **Six produits se détachent en terme de chiffre d'affaires**"
   ]
  },
  {
   "cell_type": "code",
   "execution_count": 43,
   "id": "7404113f",
   "metadata": {
    "canvas": {
     "comments": [],
     "componentType": "CodeCell",
     "copiedOriginId": null,
     "diskcache": false,
     "headerColor": "none",
     "id": "a08676df-0a3e-4b4f-b80c-5e6a03605786",
     "isComponent": false,
     "name": "",
     "parents": []
    }
   },
   "outputs": [
    {
     "name": "stdout",
     "output_type": "stream",
     "text": [
      "\u001b[1m\u001b[31m\n",
      "Les six produits avec le plus gros chiffre d'affaires sont :\u001b[0;0m\n"
     ]
    },
    {
     "data": {
      "text/html": [
       "<div>\n",
       "<style scoped>\n",
       "    .dataframe tbody tr th:only-of-type {\n",
       "        vertical-align: middle;\n",
       "    }\n",
       "\n",
       "    .dataframe tbody tr th {\n",
       "        vertical-align: top;\n",
       "    }\n",
       "\n",
       "    .dataframe thead th {\n",
       "        text-align: right;\n",
       "    }\n",
       "</style>\n",
       "<table border=\"1\" class=\"dataframe\">\n",
       "  <thead>\n",
       "    <tr style=\"text-align: right;\">\n",
       "      <th></th>\n",
       "      <th>product_id</th>\n",
       "      <th>sku</th>\n",
       "      <th>post_name</th>\n",
       "      <th>price</th>\n",
       "      <th>total_sales</th>\n",
       "      <th>stock_quantity</th>\n",
       "      <th>CA par produit</th>\n",
       "    </tr>\n",
       "  </thead>\n",
       "  <tbody>\n",
       "    <tr>\n",
       "      <th>194</th>\n",
       "      <td>4334</td>\n",
       "      <td>7818</td>\n",
       "      <td>champagne-gosset-grand-blanc-de-blanc</td>\n",
       "      <td>49.0</td>\n",
       "      <td>96.0</td>\n",
       "      <td>0</td>\n",
       "      <td>4704.0</td>\n",
       "    </tr>\n",
       "    <tr>\n",
       "      <th>71</th>\n",
       "      <td>4144</td>\n",
       "      <td>1662</td>\n",
       "      <td>champagne-gosset-grand-rose</td>\n",
       "      <td>49.0</td>\n",
       "      <td>87.0</td>\n",
       "      <td>11</td>\n",
       "      <td>4263.0</td>\n",
       "    </tr>\n",
       "    <tr>\n",
       "      <th>218</th>\n",
       "      <td>4402</td>\n",
       "      <td>3510</td>\n",
       "      <td>cognac-frapin-vip-xo</td>\n",
       "      <td>176.0</td>\n",
       "      <td>13.0</td>\n",
       "      <td>8</td>\n",
       "      <td>2288.0</td>\n",
       "    </tr>\n",
       "    <tr>\n",
       "      <th>70</th>\n",
       "      <td>4142</td>\n",
       "      <td>11641</td>\n",
       "      <td>champagne-gosset-grand-millesime-2006</td>\n",
       "      <td>53.0</td>\n",
       "      <td>30.0</td>\n",
       "      <td>8</td>\n",
       "      <td>1590.0</td>\n",
       "    </tr>\n",
       "    <tr>\n",
       "      <th>69</th>\n",
       "      <td>4141</td>\n",
       "      <td>304</td>\n",
       "      <td>gosset-champagne-grande-reserve</td>\n",
       "      <td>39.0</td>\n",
       "      <td>40.0</td>\n",
       "      <td>1</td>\n",
       "      <td>1560.0</td>\n",
       "    </tr>\n",
       "    <tr>\n",
       "      <th>201</th>\n",
       "      <td>4355</td>\n",
       "      <td>12589</td>\n",
       "      <td>champagne-egly-ouriet-grand-cru-brut-blanc-de-...</td>\n",
       "      <td>126.5</td>\n",
       "      <td>11.0</td>\n",
       "      <td>2</td>\n",
       "      <td>1391.5</td>\n",
       "    </tr>\n",
       "  </tbody>\n",
       "</table>\n",
       "</div>"
      ],
      "text/plain": [
       "     product_id    sku                                          post_name  \\\n",
       "194        4334   7818              champagne-gosset-grand-blanc-de-blanc   \n",
       "71         4144   1662                        champagne-gosset-grand-rose   \n",
       "218        4402   3510                               cognac-frapin-vip-xo   \n",
       "70         4142  11641              champagne-gosset-grand-millesime-2006   \n",
       "69         4141    304                    gosset-champagne-grande-reserve   \n",
       "201        4355  12589  champagne-egly-ouriet-grand-cru-brut-blanc-de-...   \n",
       "\n",
       "     price  total_sales  stock_quantity  CA par produit  \n",
       "194   49.0         96.0               0          4704.0  \n",
       "71    49.0         87.0              11          4263.0  \n",
       "218  176.0         13.0               8          2288.0  \n",
       "70    53.0         30.0               8          1590.0  \n",
       "69    39.0         40.0               1          1560.0  \n",
       "201  126.5         11.0               2          1391.5  "
      ]
     },
     "execution_count": 43,
     "metadata": {},
     "output_type": "execute_result"
    }
   ],
   "source": [
    "print(bold + red + f\"\\nLes six produits avec le plus gros chiffre d'affaires sont :\" + end)\n",
    "top_6 = erp_web_ca.sort_values(by='CA par produit', ascending=False).head(6)\n",
    "top_6"
   ]
  },
  {
   "cell_type": "markdown",
   "id": "3d65b377",
   "metadata": {
    "canvas": {
     "comments": [],
     "componentType": "CodeCell",
     "copiedOriginId": null,
     "diskcache": false,
     "headerColor": "none",
     "id": "f269ea3a-23a2-46de-85c1-b6ced4b83bd1",
     "isComponent": false,
     "name": "",
     "parents": []
    }
   },
   "source": [
    "### *Part du chiffre d'affaires*"
   ]
  },
  {
   "cell_type": "code",
   "execution_count": 44,
   "id": "db188ff5-beff-43e0-ba51-4193b164359f",
   "metadata": {
    "canvas": {
     "comments": [],
     "componentType": "CodeCell",
     "copiedOriginId": null,
     "diskcache": false,
     "headerColor": "inherit",
     "id": "8ca9c90c-3354-4da2-80d7-39e0284233c0",
     "isComponent": false,
     "name": "",
     "parents": []
    }
   },
   "outputs": [
    {
     "name": "stdout",
     "output_type": "stream",
     "text": [
      "\u001b[1m\u001b[31m\n",
      "Ces six produits représentent à eux seuls 22.38 % (15796.5 €) du chiffre d'affaires alors qu'ils ne représentent\n",
      "que 0.84 % des produits référencés et 9.67 % des ventes\u001b[0;0m\n"
     ]
    }
   ],
   "source": [
    "rate_ca = top_6['CA par produit'].sum() / erp_web_ca['CA par produit'].sum() * 100\n",
    "rate_sales = top_6['total_sales'].sum() / erp_web_ca['total_sales'].sum() * 100\n",
    "ca = top_6['CA par produit'].sum()\n",
    "print(bold + red +\n",
    "      f\"\\nCes six produits représentent à eux seuls {round(float(rate_ca), 2)} % ({ca} €) du chiffre d'affaires alors qu'ils ne représentent\\nque {round(float(6 / len(erp_web_ca) * 100), 2)} % des produits référencés et {round(float(rate_sales), 2)} % des ventes\" + end)"
   ]
  },
  {
   "cell_type": "markdown",
   "id": "30b6c739",
   "metadata": {
    "canvas": {
     "comments": [],
     "componentType": "CodeCell",
     "copiedOriginId": null,
     "diskcache": false,
     "headerColor": "none",
     "id": "4521a2cd-e2bf-4ca9-90f9-71c1b9814900",
     "isComponent": false,
     "name": "",
     "parents": []
    }
   },
   "source": [
    "### *Part des stocks*"
   ]
  },
  {
   "cell_type": "code",
   "execution_count": 45,
   "id": "8ead9604",
   "metadata": {
    "canvas": {
     "comments": [],
     "componentType": "CodeCell",
     "copiedOriginId": null,
     "diskcache": false,
     "headerColor": "none",
     "id": "a92f4892-669b-4bb6-848b-e161f804f7ae",
     "isComponent": false,
     "name": "",
     "parents": []
    }
   },
   "outputs": [
    {
     "name": "stdout",
     "output_type": "stream",
     "text": [
      "\u001b[1m\u001b[31m\n",
      "Cela représente 30 bouteilles présentes dans les stocks\n",
      "Soit 0.15 % des stocks\u001b[0;0m\n"
     ]
    }
   ],
   "source": [
    "sum_stock_erp_web = top_6['stock_quantity'].sum()\n",
    "rate_sum_stock = sum_stock_erp_web / erp_web_ca['stock_quantity'].sum() * 100\n",
    "print(bold + red +\n",
    "      f\"\\nCela représente {sum_stock_erp_web} bouteilles présentes dans les stocks\\nSoit {round(float(rate_sum_stock), 2)} % des stocks\" + end)"
   ]
  },
  {
   "cell_type": "markdown",
   "id": "4397e1f0",
   "metadata": {
    "canvas": {
     "comments": [],
     "componentType": "CodeCell",
     "copiedOriginId": null,
     "diskcache": false,
     "headerColor": "none",
     "id": "767845ca-eaae-4b9c-a14d-cefcab30a8db",
     "isComponent": false,
     "name": "",
     "parents": []
    }
   },
   "source": [
    "## **Les produits qui ne génèrent pas de chiffre d'affaires**"
   ]
  },
  {
   "cell_type": "code",
   "execution_count": 12,
   "id": "cbab52a0",
   "metadata": {
    "canvas": {
     "comments": [],
     "componentType": "CodeCell",
     "copiedOriginId": null,
     "diskcache": false,
     "headerColor": "none",
     "id": "1473c477-b1de-47ec-ac93-14c6c548d941",
     "isComponent": false,
     "name": "",
     "parents": []
    }
   },
   "outputs": [
    {
     "name": "stdout",
     "output_type": "stream",
     "text": [
      "\u001b[1m\u001b[31m\n",
      "329 produits ne genèrent pas de chiffre d'affaires :\u001b[0;0m\n"
     ]
    },
    {
     "data": {
      "text/html": [
       "<div>\n",
       "<style scoped>\n",
       "    .dataframe tbody tr th:only-of-type {\n",
       "        vertical-align: middle;\n",
       "    }\n",
       "\n",
       "    .dataframe tbody tr th {\n",
       "        vertical-align: top;\n",
       "    }\n",
       "\n",
       "    .dataframe thead th {\n",
       "        text-align: right;\n",
       "    }\n",
       "</style>\n",
       "<table border=\"1\" class=\"dataframe\">\n",
       "  <thead>\n",
       "    <tr style=\"text-align: right;\">\n",
       "      <th></th>\n",
       "      <th>product_id</th>\n",
       "      <th>sku</th>\n",
       "      <th>post_name</th>\n",
       "      <th>price</th>\n",
       "      <th>total_sales</th>\n",
       "      <th>stock_quantity</th>\n",
       "      <th>CA par produit</th>\n",
       "    </tr>\n",
       "  </thead>\n",
       "  <tbody>\n",
       "    <tr>\n",
       "      <th>671</th>\n",
       "      <td>6567</td>\n",
       "      <td>15779</td>\n",
       "      <td>decelle-villa-cote-de-nuits-aux-montagnes-2014</td>\n",
       "      <td>28.4</td>\n",
       "      <td>0.0</td>\n",
       "      <td>9</td>\n",
       "      <td>0.0</td>\n",
       "    </tr>\n",
       "    <tr>\n",
       "      <th>66</th>\n",
       "      <td>4137</td>\n",
       "      <td>13209</td>\n",
       "      <td>zind-humbrecht-muscat-gc-goldert-2015</td>\n",
       "      <td>29.8</td>\n",
       "      <td>0.0</td>\n",
       "      <td>0</td>\n",
       "      <td>0.0</td>\n",
       "    </tr>\n",
       "    <tr>\n",
       "      <th>499</th>\n",
       "      <td>5561</td>\n",
       "      <td>19820</td>\n",
       "      <td>tempier-bandol-migoua-2017</td>\n",
       "      <td>58.0</td>\n",
       "      <td>0.0</td>\n",
       "      <td>0</td>\n",
       "      <td>0.0</td>\n",
       "    </tr>\n",
       "    <tr>\n",
       "      <th>378</th>\n",
       "      <td>4901</td>\n",
       "      <td>14802</td>\n",
       "      <td>domaine-des-croix-beaune-1er-cru-les-cent-vign...</td>\n",
       "      <td>41.0</td>\n",
       "      <td>0.0</td>\n",
       "      <td>36</td>\n",
       "      <td>0.0</td>\n",
       "    </tr>\n",
       "    <tr>\n",
       "      <th>187</th>\n",
       "      <td>4299</td>\n",
       "      <td>16578</td>\n",
       "      <td>domaine-de-la-tour-du-bon-bandol-saint-ferreol...</td>\n",
       "      <td>39.1</td>\n",
       "      <td>0.0</td>\n",
       "      <td>18</td>\n",
       "      <td>0.0</td>\n",
       "    </tr>\n",
       "  </tbody>\n",
       "</table>\n",
       "</div>"
      ],
      "text/plain": [
       "     product_id    sku                                          post_name  \\\n",
       "671        6567  15779     decelle-villa-cote-de-nuits-aux-montagnes-2014   \n",
       "66         4137  13209              zind-humbrecht-muscat-gc-goldert-2015   \n",
       "499        5561  19820                         tempier-bandol-migoua-2017   \n",
       "378        4901  14802  domaine-des-croix-beaune-1er-cru-les-cent-vign...   \n",
       "187        4299  16578  domaine-de-la-tour-du-bon-bandol-saint-ferreol...   \n",
       "\n",
       "     price  total_sales  stock_quantity  CA par produit  \n",
       "671   28.4          0.0               9             0.0  \n",
       "66    29.8          0.0               0             0.0  \n",
       "499   58.0          0.0               0             0.0  \n",
       "378   41.0          0.0              36             0.0  \n",
       "187   39.1          0.0              18             0.0  "
      ]
     },
     "execution_count": 12,
     "metadata": {},
     "output_type": "execute_result"
    }
   ],
   "source": [
    "erp_web_aucun_ca = erp_web_ca[erp_web_ca['CA par produit'] == 0]\n",
    "nb_erp_web_aucun_ca = len(erp_web_aucun_ca)\n",
    "print(bold + red + f\"\\n{nb_erp_web_aucun_ca} produits ne genèrent pas de chiffre d'affaires :\" + end)\n",
    "erp_web_aucun_ca.sample(5) #pour voir la liste complète des 329 produits supprimer .sample(5)"
   ]
  },
  {
   "cell_type": "markdown",
   "id": "ba80fef3",
   "metadata": {
    "canvas": {
     "comments": [],
     "componentType": "CodeCell",
     "copiedOriginId": null,
     "diskcache": false,
     "headerColor": "none",
     "id": "3e8c6807-2569-4ea6-9797-e44839575958",
     "isComponent": false,
     "name": "",
     "parents": []
    }
   },
   "source": [
    "### *Part du chiffre d'affaires*"
   ]
  },
  {
   "cell_type": "code",
   "execution_count": 13,
   "id": "208c8d39",
   "metadata": {
    "canvas": {
     "comments": [],
     "componentType": "CodeCell",
     "copiedOriginId": null,
     "diskcache": false,
     "headerColor": "none",
     "id": "f20bf651-cf6d-4b0f-9e60-920db18e8ba6",
     "isComponent": false,
     "name": "",
     "parents": []
    }
   },
   "outputs": [
    {
     "name": "stdout",
     "output_type": "stream",
     "text": [
      "\u001b[1m\u001b[31m\n",
      "Ces produits représentent 0.0 % du chiffre d'affaires et 0.0 % des ventes alors qu'ils constituent 46.08 % des\n",
      "produits référencés \u001b[0;0m\n"
     ]
    }
   ],
   "source": [
    "rate_aucun_ca = erp_web_aucun_ca['CA par produit'].sum() / erp_web_ca['CA par produit'].sum() * 100\n",
    "rate_sales = erp_web_aucun_ca['total_sales'].sum() / erp_web_ca['total_sales'].sum() * 100\n",
    "print(bold + red + \n",
    "      f\"\\nCes produits représentent {round(float(rate_aucun_ca), 2)} % du chiffre d'affaires et {round(float(rate_sales), 2)} % des ventes alors qu'ils constituent {round(float(329 / len(erp_web_ca) * 100), 2)} % des\\nproduits référencés \" + end)"
   ]
  },
  {
   "cell_type": "markdown",
   "id": "441e83dd",
   "metadata": {
    "canvas": {
     "comments": [],
     "componentType": "CodeCell",
     "copiedOriginId": null,
     "diskcache": false,
     "headerColor": "none",
     "id": "ded3d409-18f3-4315-aba6-35ad51fef673",
     "isComponent": false,
     "name": "",
     "parents": []
    }
   },
   "source": [
    "### *Part des stocks*"
   ]
  },
  {
   "cell_type": "code",
   "execution_count": 14,
   "id": "263f15be",
   "metadata": {
    "canvas": {
     "comments": [],
     "componentType": "CodeCell",
     "copiedOriginId": null,
     "diskcache": false,
     "headerColor": "none",
     "id": "df0740c3-9251-4831-a44f-ae0366d8ffdd",
     "isComponent": false,
     "name": "",
     "parents": []
    }
   },
   "outputs": [
    {
     "name": "stdout",
     "output_type": "stream",
     "text": [
      "\u001b[1m\u001b[31m\n",
      "Cela représente 5933 bouteilles présentes dans les stocks\n",
      "Soit 28.91 % des stocks\u001b[0;0m\n"
     ]
    }
   ],
   "source": [
    "sum_stock_erp_web_aucun_ca = erp_web_aucun_ca['stock_quantity'].sum()\n",
    "rate_sum_stock_aucun_ca = sum_stock_erp_web_aucun_ca / erp_web_ca['stock_quantity'].sum() * 100\n",
    "print(bold + red + \n",
    "      f\"\\nCela représente {sum_stock_erp_web_aucun_ca} bouteilles présentes dans les stocks\\nSoit {round(float(rate_sum_stock_aucun_ca), 2)} % des stocks\" + end)"
   ]
  },
  {
   "cell_type": "markdown",
   "id": "da662a4c",
   "metadata": {
    "canvas": {
     "comments": [],
     "componentType": "CodeCell",
     "copiedOriginId": null,
     "diskcache": false,
     "headerColor": "none",
     "id": "6b0cd8e1-2ecf-41a4-990a-789d0990e026",
     "isComponent": false,
     "name": "",
     "parents": []
    }
   },
   "source": [
    "## **Produits ayant le plus grand nombre de ventes**"
   ]
  },
  {
   "cell_type": "code",
   "execution_count": 52,
   "id": "8507b97b",
   "metadata": {
    "canvas": {
     "comments": [],
     "componentType": "CodeCell",
     "copiedOriginId": null,
     "diskcache": false,
     "headerColor": "none",
     "id": "6a41934a-cf2c-41d6-8f89-fa2766ce3dd7",
     "isComponent": false,
     "name": "",
     "parents": []
    }
   },
   "outputs": [
    {
     "name": "stdout",
     "output_type": "stream",
     "text": [
      "\u001b[1m\u001b[31m\n",
      "Les produits les plus vendus :\u001b[0;0m\n"
     ]
    },
    {
     "data": {
      "text/html": [
       "<div>\n",
       "<style scoped>\n",
       "    .dataframe tbody tr th:only-of-type {\n",
       "        vertical-align: middle;\n",
       "    }\n",
       "\n",
       "    .dataframe tbody tr th {\n",
       "        vertical-align: top;\n",
       "    }\n",
       "\n",
       "    .dataframe thead th {\n",
       "        text-align: right;\n",
       "    }\n",
       "</style>\n",
       "<table border=\"1\" class=\"dataframe\">\n",
       "  <thead>\n",
       "    <tr style=\"text-align: right;\">\n",
       "      <th></th>\n",
       "      <th>product_id</th>\n",
       "      <th>sku</th>\n",
       "      <th>post_name</th>\n",
       "      <th>price</th>\n",
       "      <th>total_sales</th>\n",
       "      <th>stock_quantity</th>\n",
       "      <th>CA par produit</th>\n",
       "    </tr>\n",
       "  </thead>\n",
       "  <tbody>\n",
       "    <tr>\n",
       "      <th>30</th>\n",
       "      <td>4068</td>\n",
       "      <td>16416</td>\n",
       "      <td>gilles-robin-crozes-hermitage-papillon-2019</td>\n",
       "      <td>16.6</td>\n",
       "      <td>62.0</td>\n",
       "      <td>157</td>\n",
       "      <td>1029.2</td>\n",
       "    </tr>\n",
       "    <tr>\n",
       "      <th>71</th>\n",
       "      <td>4144</td>\n",
       "      <td>1662</td>\n",
       "      <td>champagne-gosset-grand-rose</td>\n",
       "      <td>49.0</td>\n",
       "      <td>87.0</td>\n",
       "      <td>11</td>\n",
       "      <td>4263.0</td>\n",
       "    </tr>\n",
       "    <tr>\n",
       "      <th>97</th>\n",
       "      <td>4172</td>\n",
       "      <td>16210</td>\n",
       "      <td>maurel-pays-oc-chardonnay-2019</td>\n",
       "      <td>5.7</td>\n",
       "      <td>43.0</td>\n",
       "      <td>167</td>\n",
       "      <td>245.1</td>\n",
       "    </tr>\n",
       "    <tr>\n",
       "      <th>109</th>\n",
       "      <td>4187</td>\n",
       "      <td>16189</td>\n",
       "      <td>le-pas-de-lescalette-languedoc-petits-pas-2019</td>\n",
       "      <td>13.3</td>\n",
       "      <td>42.0</td>\n",
       "      <td>90</td>\n",
       "      <td>558.6</td>\n",
       "    </tr>\n",
       "    <tr>\n",
       "      <th>119</th>\n",
       "      <td>4200</td>\n",
       "      <td>16295</td>\n",
       "      <td>moulin-de-gassac-igp-pays-dherault-guilhem-ros...</td>\n",
       "      <td>5.8</td>\n",
       "      <td>46.0</td>\n",
       "      <td>190</td>\n",
       "      <td>266.8</td>\n",
       "    </tr>\n",
       "    <tr>\n",
       "      <th>194</th>\n",
       "      <td>4334</td>\n",
       "      <td>7818</td>\n",
       "      <td>champagne-gosset-grand-blanc-de-blanc</td>\n",
       "      <td>49.0</td>\n",
       "      <td>96.0</td>\n",
       "      <td>0</td>\n",
       "      <td>4704.0</td>\n",
       "    </tr>\n",
       "    <tr>\n",
       "      <th>651</th>\n",
       "      <td>6206</td>\n",
       "      <td>16580</td>\n",
       "      <td>domaine-giudicelli-patrimonio-blanc-2019</td>\n",
       "      <td>25.2</td>\n",
       "      <td>41.0</td>\n",
       "      <td>120</td>\n",
       "      <td>1033.2</td>\n",
       "    </tr>\n",
       "  </tbody>\n",
       "</table>\n",
       "</div>"
      ],
      "text/plain": [
       "     product_id    sku                                          post_name  \\\n",
       "30         4068  16416        gilles-robin-crozes-hermitage-papillon-2019   \n",
       "71         4144   1662                        champagne-gosset-grand-rose   \n",
       "97         4172  16210                     maurel-pays-oc-chardonnay-2019   \n",
       "109        4187  16189     le-pas-de-lescalette-languedoc-petits-pas-2019   \n",
       "119        4200  16295  moulin-de-gassac-igp-pays-dherault-guilhem-ros...   \n",
       "194        4334   7818              champagne-gosset-grand-blanc-de-blanc   \n",
       "651        6206  16580           domaine-giudicelli-patrimonio-blanc-2019   \n",
       "\n",
       "     price  total_sales  stock_quantity  CA par produit  \n",
       "30    16.6         62.0             157          1029.2  \n",
       "71    49.0         87.0              11          4263.0  \n",
       "97     5.7         43.0             167           245.1  \n",
       "109   13.3         42.0              90           558.6  \n",
       "119    5.8         46.0             190           266.8  \n",
       "194   49.0         96.0               0          4704.0  \n",
       "651   25.2         41.0             120          1033.2  "
      ]
     },
     "execution_count": 52,
     "metadata": {},
     "output_type": "execute_result"
    }
   ],
   "source": [
    "print(bold + red + f\"\\nLes produits les plus vendus :\" + end)\n",
    "sales_erp_web_ca = erp_web_ca[erp_web_ca['total_sales'] > 40]\n",
    "sales_erp_web_ca"
   ]
  },
  {
   "cell_type": "markdown",
   "id": "408cd190",
   "metadata": {
    "canvas": {
     "comments": [],
     "componentType": "CodeCell",
     "copiedOriginId": null,
     "diskcache": false,
     "headerColor": "none",
     "id": "d009f209-309b-4ba8-b291-2b5a7ca06f1b",
     "isComponent": false,
     "name": "",
     "parents": []
    }
   },
   "source": [
    "### *Part du chiffre d'affaires*"
   ]
  },
  {
   "cell_type": "code",
   "execution_count": 16,
   "id": "b80df63d",
   "metadata": {
    "canvas": {
     "comments": [],
     "componentType": "CodeCell",
     "copiedOriginId": null,
     "diskcache": false,
     "headerColor": "none",
     "id": "de28e52c-0377-4efd-8325-72421932b8f6",
     "isComponent": false,
     "name": "",
     "parents": []
    }
   },
   "outputs": [
    {
     "name": "stdout",
     "output_type": "stream",
     "text": [
      "\u001b[1m\u001b[31m\n",
      "Ces produits représentent 14.55 % (12099.9 €) du chiffre d'affaires et 17.15 % des ventes alors qu'ils constituent 0.98 % des produits référencés \u001b[0;0m\n"
     ]
    }
   ],
   "source": [
    "rate_sales = sales_erp_web_ca[\"total_sales\"].sum() / erp_web_ca[\"total_sales\"].sum() * 100\n",
    "rate_ca = sales_erp_web_ca[\"CA par produit\"].sum() / erp_web_ca[\"CA par produit\"].sum() * 100\n",
    "ca = sales_erp_web_ca['CA par produit'].sum()\n",
    "print(bold + red +\n",
    "      f\"\\nCes produits représentent {round(float(rate_sales), 2)} % ({round(float(ca), 2)} €) du chiffre d'affaires et {round(float(rate_ca), 2)} % des ventes alors qu'ils constituent {round(float(7 / len(erp_web_ca) * 100), 2)} % des produits référencés \" + end)"
   ]
  },
  {
   "cell_type": "markdown",
   "id": "89076ea8",
   "metadata": {
    "canvas": {
     "comments": [],
     "componentType": "CodeCell",
     "copiedOriginId": null,
     "diskcache": false,
     "headerColor": "none",
     "id": "4526b43d-cdee-4fc7-83b6-b80b31c40a2a",
     "isComponent": false,
     "name": "",
     "parents": []
    }
   },
   "source": [
    "### *Part des stocks*"
   ]
  },
  {
   "cell_type": "code",
   "execution_count": 17,
   "id": "3e6a146d",
   "metadata": {
    "canvas": {
     "comments": [],
     "componentType": "CodeCell",
     "copiedOriginId": null,
     "diskcache": false,
     "headerColor": "none",
     "id": "3ba0a3ff-d6c2-4c26-8cc7-c66690ecdbff",
     "isComponent": false,
     "name": "",
     "parents": []
    }
   },
   "outputs": [
    {
     "name": "stdout",
     "output_type": "stream",
     "text": [
      "\u001b[1m\u001b[31m\n",
      "Cela représente 735 bouteilles présentes dans les stocks\n",
      "Soit 3.58 % des stocks\u001b[0;0m\n"
     ]
    }
   ],
   "source": [
    "sum_stock_sales = sales_erp_web_ca['stock_quantity'].sum()\n",
    "rate_sum_stock_ca = sum_stock_sales / erp_web_ca['stock_quantity'].sum() * 100\n",
    "print(bold + red + \n",
    "      f\"\\nCela représente {sum_stock_sales} bouteilles présentes dans les stocks\\nSoit {round(float(rate_sum_stock_ca), 2)} % des stocks\" + end)"
   ]
  },
  {
   "cell_type": "markdown",
   "id": "e2c4ae4e",
   "metadata": {
    "canvas": {
     "comments": [],
     "componentType": "CodeCell",
     "copiedOriginId": null,
     "diskcache": false,
     "headerColor": "none",
     "id": "48245301-683f-4b8f-82cf-65e4d1877488",
     "isComponent": false,
     "name": "",
     "parents": []
    }
   },
   "source": [
    "# 2. Chiffre d'affaires total"
   ]
  },
  {
   "cell_type": "code",
   "execution_count": 18,
   "id": "ef1369a8",
   "metadata": {
    "canvas": {
     "comments": [],
     "componentType": "CodeCell",
     "copiedOriginId": null,
     "diskcache": false,
     "headerColor": "none",
     "id": "7117e55e-4bb0-4adf-83d8-98d98a5ddab9",
     "isComponent": false,
     "name": "",
     "parents": []
    }
   },
   "outputs": [
    {
     "name": "stdout",
     "output_type": "stream",
     "text": [
      "\u001b[1m\u001b[31m\n",
      "Le chiffre d'affaires total est de 70568.6 €\u001b[0;0m\n"
     ]
    }
   ],
   "source": [
    "total_ca = erp_web['CA par produit'].sum()\n",
    "print(bold + red + f\"\\nLe chiffre d'affaires total est de {total_ca} €\" + end)"
   ]
  },
  {
   "cell_type": "markdown",
   "id": "79d452e7",
   "metadata": {
    "canvas": {
     "comments": [],
     "componentType": "CodeCell",
     "copiedOriginId": null,
     "diskcache": false,
     "headerColor": "none",
     "id": "cfe9ff91-11c3-4641-b788-fa40db05d3b7",
     "isComponent": false,
     "name": "",
     "parents": []
    }
   },
   "source": [
    "# 3. Analyse de la variable \"prix\""
   ]
  },
  {
   "cell_type": "code",
   "execution_count": 46,
   "id": "2bd65e48",
   "metadata": {
    "canvas": {
     "comments": [],
     "componentType": "CodeCell",
     "copiedOriginId": null,
     "diskcache": false,
     "headerColor": "none",
     "id": "b06a728d-31d9-4b87-a31c-8322a7db26ab",
     "isComponent": false,
     "name": "",
     "parents": []
    }
   },
   "outputs": [
    {
     "name": "stdout",
     "output_type": "stream",
     "text": [
      "\u001b[1m\u001b[31m\n",
      "Caractéristiques de la variable \"prix\" :\u001b[0;0m\n"
     ]
    },
    {
     "data": {
      "text/plain": [
       "count    714.000000\n",
       "mean      32.493137\n",
       "std       27.810525\n",
       "min        5.200000\n",
       "25%       14.100000\n",
       "50%       23.550000\n",
       "75%       42.175000\n",
       "max      225.000000\n",
       "Name: price, dtype: float64"
      ]
     },
     "execution_count": 46,
     "metadata": {},
     "output_type": "execute_result"
    }
   ],
   "source": [
    "# aperçu des statistiques descriptives\n",
    "print(bold + red + f'\\nCaractéristiques de la variable \"prix\" :' + end)\n",
    "erp_web_ca['price'].describe()"
   ]
  },
  {
   "cell_type": "code",
   "execution_count": 50,
   "id": "6b9d36c1",
   "metadata": {
    "canvas": {
     "comments": [],
     "componentType": "CodeCell",
     "copiedOriginId": null,
     "diskcache": false,
     "headerColor": "none",
     "id": "d7aff2a9-7410-4517-b35e-15eeda9f156e",
     "isComponent": false,
     "name": "",
     "parents": []
    }
   },
   "outputs": [
    {
     "data": {
      "image/png": "[encoded data removed]",
      "text/plain": [
       "<Figure size 1200x600 with 1 Axes>"
      ]
     },
     "metadata": {},
     "output_type": "display_data"
    }
   ],
   "source": [
    "# visualisation\n",
    "erp_web_ca['price'].plot.hist(density=False, bins=20, figsize=(12, 6))\n",
    "plt.xticks([10 * i for i in range(24)])\n",
    "plt.title(\"Répartition du nombre de produits en fonction du prix\", fontsize=16)\n",
    "plt.xlabel(\"Prix de vente\", fontsize=12)\n",
    "plt.ylabel(\"Nombre de produits\", fontsize=12)\n",
    "plt.axvline(x=32.22, ymin=0.05, ymax=0.95, color=\"red\", linestyle=\"--\")\n",
    "#plt.text(x=36, y=210, s=\"Prix moyen\", color=\"red\")\n",
    "plt.annotate(\"Prix moyen\", xy=(32.22, 210), xytext=(43, 210), color='black', arrowprops={\"arrowstyle\": \"->\", \"color\": \"black\", \"lw\":1.5})\n",
    "plt.grid()\n",
    "plt.show()"
   ]
  },
  {
   "cell_type": "markdown",
   "id": "7af5d170",
   "metadata": {
    "canvas": {
     "comments": [],
     "componentType": "CodeCell",
     "copiedOriginId": null,
     "diskcache": false,
     "headerColor": "none",
     "id": "d7e6da4d-808d-4b2e-9050-b2c255048066",
     "isComponent": false,
     "name": "",
     "parents": []
    }
   },
   "source": [
    "## Détection des **outliers avec z-score**"
   ]
  },
  {
   "cell_type": "markdown",
   "id": "fc1a3bf0",
   "metadata": {
    "canvas": {
     "comments": [],
     "componentType": "CodeCell",
     "copiedOriginId": null,
     "diskcache": false,
     "headerColor": "none",
     "id": "2851cf57-c582-475c-b1a7-9f443a6f1183",
     "isComponent": false,
     "name": "",
     "parents": []
    }
   },
   "source": [
    "### *Calcul sans librairie*"
   ]
  },
  {
   "cell_type": "code",
   "execution_count": 21,
   "id": "c1e2c4ae",
   "metadata": {
    "canvas": {
     "comments": [],
     "componentType": "CodeCell",
     "copiedOriginId": null,
     "diskcache": false,
     "headerColor": "none",
     "id": "e4fc3ea9-4815-493b-9ed0-87829203e99e",
     "isComponent": false,
     "name": "",
     "parents": []
    }
   },
   "outputs": [],
   "source": [
    "#erp_web_ca['zscore'] = (erp_web_ca['price'] - erp_web_ca['price'].mean()) / erp_web_ca['price'].std(ddof=0)"
   ]
  },
  {
   "cell_type": "markdown",
   "id": "6f437d79",
   "metadata": {
    "canvas": {
     "comments": [],
     "componentType": "CodeCell",
     "copiedOriginId": null,
     "diskcache": false,
     "headerColor": "none",
     "id": "f01141fe-41b2-40da-9870-339790e06440",
     "isComponent": false,
     "name": "",
     "parents": []
    }
   },
   "source": [
    "### *Calcul avec la librairie scipy.stats*"
   ]
  },
  {
   "cell_type": "code",
   "execution_count": 22,
   "id": "926ccf3f",
   "metadata": {
    "canvas": {
     "comments": [],
     "componentType": "CodeCell",
     "copiedOriginId": null,
     "diskcache": false,
     "headerColor": "none",
     "id": "7b3f7e05-cf64-4107-a57e-5404b80bd9c2",
     "isComponent": false,
     "name": "",
     "parents": []
    }
   },
   "outputs": [
    {
     "name": "stdout",
     "output_type": "stream",
     "text": [
      "\u001b[1m\u001b[31m\n",
      "Les 30 produits concernés par un z-score > 1,96 sont :\u001b[0;0m\n"
     ]
    },
    {
     "data": {
      "text/html": [
       "<div>\n",
       "<style scoped>\n",
       "    .dataframe tbody tr th:only-of-type {\n",
       "        vertical-align: middle;\n",
       "    }\n",
       "\n",
       "    .dataframe tbody tr th {\n",
       "        vertical-align: top;\n",
       "    }\n",
       "\n",
       "    .dataframe thead th {\n",
       "        text-align: right;\n",
       "    }\n",
       "</style>\n",
       "<table border=\"1\" class=\"dataframe\">\n",
       "  <thead>\n",
       "    <tr style=\"text-align: right;\">\n",
       "      <th></th>\n",
       "      <th>product_id</th>\n",
       "      <th>sku</th>\n",
       "      <th>post_name</th>\n",
       "      <th>price</th>\n",
       "      <th>total_sales</th>\n",
       "      <th>stock_quantity</th>\n",
       "      <th>CA par produit</th>\n",
       "      <th>z-score</th>\n",
       "    </tr>\n",
       "  </thead>\n",
       "  <tbody>\n",
       "    <tr>\n",
       "      <th>65</th>\n",
       "      <td>4132</td>\n",
       "      <td>11668</td>\n",
       "      <td>zind-humbrecht-pinot-gris-grand-cru-rangen-de-...</td>\n",
       "      <td>88.4</td>\n",
       "      <td>0.0</td>\n",
       "      <td>5</td>\n",
       "      <td>0.0</td>\n",
       "      <td>2.011686</td>\n",
       "    </tr>\n",
       "    <tr>\n",
       "      <th>502</th>\n",
       "      <td>5565</td>\n",
       "      <td>19822</td>\n",
       "      <td>tempier-bandol-cabassaou-2017</td>\n",
       "      <td>92.0</td>\n",
       "      <td>0.0</td>\n",
       "      <td>0</td>\n",
       "      <td>0.0</td>\n",
       "      <td>2.141225</td>\n",
       "    </tr>\n",
       "    <tr>\n",
       "      <th>602</th>\n",
       "      <td>5916</td>\n",
       "      <td>14774</td>\n",
       "      <td>wemyss-malts-single-cask-chocolate-moka-cake</td>\n",
       "      <td>93.0</td>\n",
       "      <td>0.0</td>\n",
       "      <td>3</td>\n",
       "      <td>0.0</td>\n",
       "      <td>2.177207</td>\n",
       "    </tr>\n",
       "    <tr>\n",
       "      <th>655</th>\n",
       "      <td>6214</td>\n",
       "      <td>11601</td>\n",
       "      <td>domaine-des-comtes-lafon-volnay-1er-cru-champa...</td>\n",
       "      <td>99.0</td>\n",
       "      <td>0.0</td>\n",
       "      <td>7</td>\n",
       "      <td>0.0</td>\n",
       "      <td>2.393104</td>\n",
       "    </tr>\n",
       "    <tr>\n",
       "      <th>63</th>\n",
       "      <td>4115</td>\n",
       "      <td>15382</td>\n",
       "      <td>zind-humbrecht-riesling-gc-rangen-thann-clos-s...</td>\n",
       "      <td>100.0</td>\n",
       "      <td>0.0</td>\n",
       "      <td>11</td>\n",
       "      <td>0.0</td>\n",
       "      <td>2.429087</td>\n",
       "    </tr>\n",
       "    <tr>\n",
       "      <th>380</th>\n",
       "      <td>4903</td>\n",
       "      <td>14805</td>\n",
       "      <td>domaine-des-croix-corton-grand-cru-les-greves-...</td>\n",
       "      <td>102.3</td>\n",
       "      <td>0.0</td>\n",
       "      <td>20</td>\n",
       "      <td>0.0</td>\n",
       "      <td>2.511848</td>\n",
       "    </tr>\n",
       "    <tr>\n",
       "      <th>222</th>\n",
       "      <td>4407</td>\n",
       "      <td>3509</td>\n",
       "      <td>cognac-frapin-cigar-blend</td>\n",
       "      <td>104.0</td>\n",
       "      <td>1.0</td>\n",
       "      <td>6</td>\n",
       "      <td>104.0</td>\n",
       "      <td>2.573018</td>\n",
       "    </tr>\n",
       "    <tr>\n",
       "      <th>432</th>\n",
       "      <td>5008</td>\n",
       "      <td>11602</td>\n",
       "      <td>domaine-des-comtes-lafon-volnay-1er-cru-santen...</td>\n",
       "      <td>105.0</td>\n",
       "      <td>0.0</td>\n",
       "      <td>10</td>\n",
       "      <td>0.0</td>\n",
       "      <td>2.609001</td>\n",
       "    </tr>\n",
       "    <tr>\n",
       "      <th>431</th>\n",
       "      <td>5007</td>\n",
       "      <td>12791</td>\n",
       "      <td>domaine-des-comtes-lafon-volnay-1er-cru-santen...</td>\n",
       "      <td>105.0</td>\n",
       "      <td>0.0</td>\n",
       "      <td>17</td>\n",
       "      <td>0.0</td>\n",
       "      <td>2.609001</td>\n",
       "    </tr>\n",
       "    <tr>\n",
       "      <th>647</th>\n",
       "      <td>6201</td>\n",
       "      <td>14596</td>\n",
       "      <td>david-duband-chambolle-musigny-1er-cru-les-sen...</td>\n",
       "      <td>105.6</td>\n",
       "      <td>0.0</td>\n",
       "      <td>7</td>\n",
       "      <td>0.0</td>\n",
       "      <td>2.630591</td>\n",
       "    </tr>\n",
       "    <tr>\n",
       "      <th>219</th>\n",
       "      <td>4404</td>\n",
       "      <td>3507</td>\n",
       "      <td>cognac-frapin-fontpinot-xo</td>\n",
       "      <td>108.5</td>\n",
       "      <td>2.0</td>\n",
       "      <td>2</td>\n",
       "      <td>217.0</td>\n",
       "      <td>2.734941</td>\n",
       "    </tr>\n",
       "    <tr>\n",
       "      <th>227</th>\n",
       "      <td>4582</td>\n",
       "      <td>12857</td>\n",
       "      <td>chateau-de-puligny-montrachet-1cru-champ-canet...</td>\n",
       "      <td>109.6</td>\n",
       "      <td>0.0</td>\n",
       "      <td>7</td>\n",
       "      <td>0.0</td>\n",
       "      <td>2.774522</td>\n",
       "    </tr>\n",
       "    <tr>\n",
       "      <th>437</th>\n",
       "      <td>5025</td>\n",
       "      <td>13914</td>\n",
       "      <td>champagne-agrapart-fils-lavizoise-grand-cru-20...</td>\n",
       "      <td>112.0</td>\n",
       "      <td>0.0</td>\n",
       "      <td>0</td>\n",
       "      <td>0.0</td>\n",
       "      <td>2.860881</td>\n",
       "    </tr>\n",
       "    <tr>\n",
       "      <th>604</th>\n",
       "      <td>5918</td>\n",
       "      <td>14773</td>\n",
       "      <td>wemyss-malts-single-cask-scotch-whisky-chai-ca...</td>\n",
       "      <td>114.0</td>\n",
       "      <td>0.0</td>\n",
       "      <td>8</td>\n",
       "      <td>0.0</td>\n",
       "      <td>2.932846</td>\n",
       "    </tr>\n",
       "    <tr>\n",
       "      <th>656</th>\n",
       "      <td>6215</td>\n",
       "      <td>12790</td>\n",
       "      <td>domaine-des-comtes-lafon-volnay-1er-cru-champa...</td>\n",
       "      <td>115.0</td>\n",
       "      <td>0.0</td>\n",
       "      <td>4</td>\n",
       "      <td>0.0</td>\n",
       "      <td>2.968829</td>\n",
       "    </tr>\n",
       "    <tr>\n",
       "      <th>653</th>\n",
       "      <td>6212</td>\n",
       "      <td>13996</td>\n",
       "      <td>domaine-des-comtes-lafon-volnay-1er-cru-santen...</td>\n",
       "      <td>115.0</td>\n",
       "      <td>2.0</td>\n",
       "      <td>2</td>\n",
       "      <td>230.0</td>\n",
       "      <td>2.968829</td>\n",
       "    </tr>\n",
       "    <tr>\n",
       "      <th>648</th>\n",
       "      <td>6202</td>\n",
       "      <td>15126</td>\n",
       "      <td>domaine-clerget-echezeaux-en-orveaux-2015</td>\n",
       "      <td>116.4</td>\n",
       "      <td>0.0</td>\n",
       "      <td>14</td>\n",
       "      <td>0.0</td>\n",
       "      <td>3.019205</td>\n",
       "    </tr>\n",
       "    <tr>\n",
       "      <th>657</th>\n",
       "      <td>6216</td>\n",
       "      <td>15070</td>\n",
       "      <td>domaine-des-comtes-lafon-volnay-1er-cru-champa...</td>\n",
       "      <td>121.0</td>\n",
       "      <td>0.0</td>\n",
       "      <td>6</td>\n",
       "      <td>0.0</td>\n",
       "      <td>3.184726</td>\n",
       "    </tr>\n",
       "    <tr>\n",
       "      <th>654</th>\n",
       "      <td>6213</td>\n",
       "      <td>15072</td>\n",
       "      <td>domaine-des-comtes-lafon-volnay-1er-cru-santen...</td>\n",
       "      <td>121.0</td>\n",
       "      <td>0.0</td>\n",
       "      <td>7</td>\n",
       "      <td>0.0</td>\n",
       "      <td>3.184726</td>\n",
       "    </tr>\n",
       "    <tr>\n",
       "      <th>603</th>\n",
       "      <td>5917</td>\n",
       "      <td>14775</td>\n",
       "      <td>wemyss-malts-single-cask-scotch-whisky-choc-n-...</td>\n",
       "      <td>122.0</td>\n",
       "      <td>0.0</td>\n",
       "      <td>4</td>\n",
       "      <td>0.0</td>\n",
       "      <td>3.220709</td>\n",
       "    </tr>\n",
       "    <tr>\n",
       "      <th>511</th>\n",
       "      <td>5612</td>\n",
       "      <td>14915</td>\n",
       "      <td>domaine-weinbach-gewurztraminer-gc-furstentum-...</td>\n",
       "      <td>124.8</td>\n",
       "      <td>0.0</td>\n",
       "      <td>12</td>\n",
       "      <td>0.0</td>\n",
       "      <td>3.321461</td>\n",
       "    </tr>\n",
       "    <tr>\n",
       "      <th>201</th>\n",
       "      <td>4355</td>\n",
       "      <td>12589</td>\n",
       "      <td>champagne-egly-ouriet-grand-cru-brut-blanc-de-...</td>\n",
       "      <td>126.5</td>\n",
       "      <td>11.0</td>\n",
       "      <td>2</td>\n",
       "      <td>1391.5</td>\n",
       "      <td>3.382632</td>\n",
       "    </tr>\n",
       "    <tr>\n",
       "      <th>642</th>\n",
       "      <td>6126</td>\n",
       "      <td>14923</td>\n",
       "      <td>champagne-gosset-celebris-vintage-2007</td>\n",
       "      <td>135.0</td>\n",
       "      <td>2.0</td>\n",
       "      <td>10</td>\n",
       "      <td>270.0</td>\n",
       "      <td>3.688486</td>\n",
       "    </tr>\n",
       "    <tr>\n",
       "      <th>381</th>\n",
       "      <td>4904</td>\n",
       "      <td>14220</td>\n",
       "      <td>domaine-des-croix-corton-charlemagne-grand-cru...</td>\n",
       "      <td>137.0</td>\n",
       "      <td>5.0</td>\n",
       "      <td>13</td>\n",
       "      <td>685.0</td>\n",
       "      <td>3.760451</td>\n",
       "    </tr>\n",
       "    <tr>\n",
       "      <th>221</th>\n",
       "      <td>4406</td>\n",
       "      <td>7819</td>\n",
       "      <td>cognac-frapin-chateau-de-fontpinot-1989-20-ans</td>\n",
       "      <td>157.0</td>\n",
       "      <td>0.0</td>\n",
       "      <td>3</td>\n",
       "      <td>0.0</td>\n",
       "      <td>4.480108</td>\n",
       "    </tr>\n",
       "    <tr>\n",
       "      <th>553</th>\n",
       "      <td>5767</td>\n",
       "      <td>15185</td>\n",
       "      <td>camille-giroud-clos-de-vougeot-2016</td>\n",
       "      <td>175.0</td>\n",
       "      <td>0.0</td>\n",
       "      <td>12</td>\n",
       "      <td>0.0</td>\n",
       "      <td>5.127798</td>\n",
       "    </tr>\n",
       "    <tr>\n",
       "      <th>218</th>\n",
       "      <td>4402</td>\n",
       "      <td>3510</td>\n",
       "      <td>cognac-frapin-vip-xo</td>\n",
       "      <td>176.0</td>\n",
       "      <td>13.0</td>\n",
       "      <td>8</td>\n",
       "      <td>2288.0</td>\n",
       "      <td>5.163781</td>\n",
       "    </tr>\n",
       "    <tr>\n",
       "      <th>587</th>\n",
       "      <td>5892</td>\n",
       "      <td>14983</td>\n",
       "      <td>coteaux-champenois-egly-ouriet-ambonnay-rouge-...</td>\n",
       "      <td>191.3</td>\n",
       "      <td>3.0</td>\n",
       "      <td>10</td>\n",
       "      <td>573.9</td>\n",
       "      <td>5.714318</td>\n",
       "    </tr>\n",
       "    <tr>\n",
       "      <th>426</th>\n",
       "      <td>5001</td>\n",
       "      <td>14581</td>\n",
       "      <td>david-duband-charmes-chambertin-grand-cru-2014</td>\n",
       "      <td>217.5</td>\n",
       "      <td>0.0</td>\n",
       "      <td>20</td>\n",
       "      <td>0.0</td>\n",
       "      <td>6.657068</td>\n",
       "    </tr>\n",
       "    <tr>\n",
       "      <th>199</th>\n",
       "      <td>4352</td>\n",
       "      <td>15940</td>\n",
       "      <td>champagne-egly-ouriet-grand-cru-millesime-2008</td>\n",
       "      <td>225.0</td>\n",
       "      <td>5.0</td>\n",
       "      <td>0</td>\n",
       "      <td>1125.0</td>\n",
       "      <td>6.926939</td>\n",
       "    </tr>\n",
       "  </tbody>\n",
       "</table>\n",
       "</div>"
      ],
      "text/plain": [
       "     product_id    sku                                          post_name  \\\n",
       "65         4132  11668  zind-humbrecht-pinot-gris-grand-cru-rangen-de-...   \n",
       "502        5565  19822                      tempier-bandol-cabassaou-2017   \n",
       "602        5916  14774       wemyss-malts-single-cask-chocolate-moka-cake   \n",
       "655        6214  11601  domaine-des-comtes-lafon-volnay-1er-cru-champa...   \n",
       "63         4115  15382  zind-humbrecht-riesling-gc-rangen-thann-clos-s...   \n",
       "380        4903  14805  domaine-des-croix-corton-grand-cru-les-greves-...   \n",
       "222        4407   3509                          cognac-frapin-cigar-blend   \n",
       "432        5008  11602  domaine-des-comtes-lafon-volnay-1er-cru-santen...   \n",
       "431        5007  12791  domaine-des-comtes-lafon-volnay-1er-cru-santen...   \n",
       "647        6201  14596  david-duband-chambolle-musigny-1er-cru-les-sen...   \n",
       "219        4404   3507                         cognac-frapin-fontpinot-xo   \n",
       "227        4582  12857  chateau-de-puligny-montrachet-1cru-champ-canet...   \n",
       "437        5025  13914  champagne-agrapart-fils-lavizoise-grand-cru-20...   \n",
       "604        5918  14773  wemyss-malts-single-cask-scotch-whisky-chai-ca...   \n",
       "656        6215  12790  domaine-des-comtes-lafon-volnay-1er-cru-champa...   \n",
       "653        6212  13996  domaine-des-comtes-lafon-volnay-1er-cru-santen...   \n",
       "648        6202  15126          domaine-clerget-echezeaux-en-orveaux-2015   \n",
       "657        6216  15070  domaine-des-comtes-lafon-volnay-1er-cru-champa...   \n",
       "654        6213  15072  domaine-des-comtes-lafon-volnay-1er-cru-santen...   \n",
       "603        5917  14775  wemyss-malts-single-cask-scotch-whisky-choc-n-...   \n",
       "511        5612  14915  domaine-weinbach-gewurztraminer-gc-furstentum-...   \n",
       "201        4355  12589  champagne-egly-ouriet-grand-cru-brut-blanc-de-...   \n",
       "642        6126  14923             champagne-gosset-celebris-vintage-2007   \n",
       "381        4904  14220  domaine-des-croix-corton-charlemagne-grand-cru...   \n",
       "221        4406   7819     cognac-frapin-chateau-de-fontpinot-1989-20-ans   \n",
       "553        5767  15185                camille-giroud-clos-de-vougeot-2016   \n",
       "218        4402   3510                               cognac-frapin-vip-xo   \n",
       "587        5892  14983  coteaux-champenois-egly-ouriet-ambonnay-rouge-...   \n",
       "426        5001  14581     david-duband-charmes-chambertin-grand-cru-2014   \n",
       "199        4352  15940     champagne-egly-ouriet-grand-cru-millesime-2008   \n",
       "\n",
       "     price  total_sales  stock_quantity  CA par produit   z-score  \n",
       "65    88.4          0.0               5             0.0  2.011686  \n",
       "502   92.0          0.0               0             0.0  2.141225  \n",
       "602   93.0          0.0               3             0.0  2.177207  \n",
       "655   99.0          0.0               7             0.0  2.393104  \n",
       "63   100.0          0.0              11             0.0  2.429087  \n",
       "380  102.3          0.0              20             0.0  2.511848  \n",
       "222  104.0          1.0               6           104.0  2.573018  \n",
       "432  105.0          0.0              10             0.0  2.609001  \n",
       "431  105.0          0.0              17             0.0  2.609001  \n",
       "647  105.6          0.0               7             0.0  2.630591  \n",
       "219  108.5          2.0               2           217.0  2.734941  \n",
       "227  109.6          0.0               7             0.0  2.774522  \n",
       "437  112.0          0.0               0             0.0  2.860881  \n",
       "604  114.0          0.0               8             0.0  2.932846  \n",
       "656  115.0          0.0               4             0.0  2.968829  \n",
       "653  115.0          2.0               2           230.0  2.968829  \n",
       "648  116.4          0.0              14             0.0  3.019205  \n",
       "657  121.0          0.0               6             0.0  3.184726  \n",
       "654  121.0          0.0               7             0.0  3.184726  \n",
       "603  122.0          0.0               4             0.0  3.220709  \n",
       "511  124.8          0.0              12             0.0  3.321461  \n",
       "201  126.5         11.0               2          1391.5  3.382632  \n",
       "642  135.0          2.0              10           270.0  3.688486  \n",
       "381  137.0          5.0              13           685.0  3.760451  \n",
       "221  157.0          0.0               3             0.0  4.480108  \n",
       "553  175.0          0.0              12             0.0  5.127798  \n",
       "218  176.0         13.0               8          2288.0  5.163781  \n",
       "587  191.3          3.0              10           573.9  5.714318  \n",
       "426  217.5          0.0              20             0.0  6.657068  \n",
       "199  225.0          5.0               0          1125.0  6.926939  "
      ]
     },
     "execution_count": 22,
     "metadata": {},
     "output_type": "execute_result"
    }
   ],
   "source": [
    "erp_web_ca.sort_values(by='price', inplace=True)\n",
    "erp_web_ca[\"z-score\"] = stats.zscore(erp_web_ca[\"price\"])\n",
    "outlier_z = erp_web_ca[erp_web_ca[\"z-score\"] > 1.96]\n",
    "nb_outlier_z = len(outlier_z)\n",
    "print(bold + red + f\"\\nLes {nb_outlier_z} produits concernés par un z-score > 1,96 sont :\" + end)\n",
    "outlier_z"
   ]
  },
  {
   "cell_type": "code",
   "execution_count": 23,
   "id": "97bffca3",
   "metadata": {
    "canvas": {
     "comments": [],
     "componentType": "CodeCell",
     "copiedOriginId": null,
     "diskcache": false,
     "headerColor": "none",
     "id": "78251505-9126-4654-a16a-64ff4172c7fe",
     "isComponent": false,
     "name": "",
     "parents": []
    }
   },
   "outputs": [
    {
     "data": {
      "image/png": "[encoded data removed]",
      "text/plain": [
       "<Figure size 1200x600 with 1 Axes>"
      ]
     },
     "metadata": {},
     "output_type": "display_data"
    }
   ],
   "source": [
    "# visualisation\n",
    "ax = erp_web_ca.plot.scatter(x='z-score', y='product_id', figsize=(12, 6))\n",
    "plt.title(\"Z-score en fonction du produit\", fontsize=16)\n",
    "plt.xlabel(\"Z-score\", fontsize=12)\n",
    "plt.ylabel(\"Référence produit\", fontsize=12)\n",
    "ax.axvline(x=1.96, ymin=0.05, ymax=0.95, color=\"red\", linestyle=\"--\")\n",
    "ax.text(x=2.1, y=7000, s=\"Valeurs aberrantes\\nà droite de la ligne\", color=\"red\")\n",
    "plt.show()"
   ]
  },
  {
   "cell_type": "markdown",
   "id": "3eb1b0a5",
   "metadata": {
    "canvas": {
     "comments": [],
     "componentType": "CodeCell",
     "copiedOriginId": null,
     "diskcache": false,
     "headerColor": "none",
     "id": "43f81f9a-b51e-42d6-bb54-141fb1907e26",
     "isComponent": false,
     "name": "",
     "parents": []
    }
   },
   "source": [
    "### *Part du CA*"
   ]
  },
  {
   "cell_type": "code",
   "execution_count": 24,
   "id": "00ec80d6",
   "metadata": {
    "canvas": {
     "comments": [],
     "componentType": "CodeCell",
     "copiedOriginId": null,
     "diskcache": false,
     "headerColor": "none",
     "id": "edf39792-6407-4886-b5f2-d32a4ebe3440",
     "isComponent": false,
     "name": "",
     "parents": []
    }
   },
   "outputs": [
    {
     "name": "stdout",
     "output_type": "stream",
     "text": [
      "\u001b[1m\u001b[31m\n",
      "Le chiffre d'affaires total des outliers est de 6884.4 €\u001b[0;0m\n",
      "\u001b[1m\u001b[31m\n",
      "Cela représente 9.76 % du chiffre d'affaires total\u001b[0;0m\n"
     ]
    }
   ],
   "source": [
    "outlier_z_ca = outlier_z[\"CA par produit\"].sum()\n",
    "print(bold + red + f\"\\nLe chiffre d'affaires total des outliers est de {outlier_z_ca} €\" + end)\n",
    "print(bold + red + f\"\\nCela représente {round((outlier_z_ca / total_ca) * 100, 2)} % du chiffre d'affaires total\" + end)"
   ]
  },
  {
   "cell_type": "markdown",
   "id": "399cc63b",
   "metadata": {
    "canvas": {
     "comments": [],
     "componentType": "CodeCell",
     "copiedOriginId": null,
     "diskcache": false,
     "headerColor": "none",
     "id": "4a385444-9635-4008-be7f-fd133a445e80",
     "isComponent": false,
     "name": "",
     "parents": []
    }
   },
   "source": [
    "## Détection des valeurs **outliers avec l'écart interquartile**"
   ]
  },
  {
   "cell_type": "code",
   "execution_count": 25,
   "id": "1e86eab9",
   "metadata": {
    "canvas": {
     "comments": [],
     "componentType": "CodeCell",
     "copiedOriginId": null,
     "diskcache": false,
     "headerColor": "none",
     "id": "407c7330-df78-45e4-8d90-c636f3b7951f",
     "isComponent": false,
     "name": "",
     "parents": []
    }
   },
   "outputs": [
    {
     "name": "stdout",
     "output_type": "stream",
     "text": [
      "\u001b[1m\u001b[31m\n",
      "La valeur maximale avec l'écart interquartile est de 84.29\u001b[0;0m\n",
      "\u001b[1m\u001b[31m\n",
      "Les 32 produits qui ont une valeur supérieure à la valeur maximale sont :\u001b[0;0m\n"
     ]
    },
    {
     "data": {
      "text/html": [
       "<div>\n",
       "<style scoped>\n",
       "    .dataframe tbody tr th:only-of-type {\n",
       "        vertical-align: middle;\n",
       "    }\n",
       "\n",
       "    .dataframe tbody tr th {\n",
       "        vertical-align: top;\n",
       "    }\n",
       "\n",
       "    .dataframe thead th {\n",
       "        text-align: right;\n",
       "    }\n",
       "</style>\n",
       "<table border=\"1\" class=\"dataframe\">\n",
       "  <thead>\n",
       "    <tr style=\"text-align: right;\">\n",
       "      <th></th>\n",
       "      <th>product_id</th>\n",
       "      <th>sku</th>\n",
       "      <th>post_name</th>\n",
       "      <th>price</th>\n",
       "      <th>total_sales</th>\n",
       "      <th>stock_quantity</th>\n",
       "      <th>CA par produit</th>\n",
       "      <th>z-score</th>\n",
       "    </tr>\n",
       "  </thead>\n",
       "  <tbody>\n",
       "    <tr>\n",
       "      <th>205</th>\n",
       "      <td>4359</td>\n",
       "      <td>13853</td>\n",
       "      <td>champagne-larmandier-bernier-grand-cru-vieille...</td>\n",
       "      <td>85.6</td>\n",
       "      <td>1.0</td>\n",
       "      <td>0</td>\n",
       "      <td>85.6</td>\n",
       "      <td>1.910934</td>\n",
       "    </tr>\n",
       "    <tr>\n",
       "      <th>438</th>\n",
       "      <td>5026</td>\n",
       "      <td>13913</td>\n",
       "      <td>champagne-agrapart-fils-mineral-extra-brut-bla...</td>\n",
       "      <td>86.8</td>\n",
       "      <td>0.0</td>\n",
       "      <td>2</td>\n",
       "      <td>0.0</td>\n",
       "      <td>1.954114</td>\n",
       "    </tr>\n",
       "    <tr>\n",
       "      <th>65</th>\n",
       "      <td>4132</td>\n",
       "      <td>11668</td>\n",
       "      <td>zind-humbrecht-pinot-gris-grand-cru-rangen-de-...</td>\n",
       "      <td>88.4</td>\n",
       "      <td>0.0</td>\n",
       "      <td>5</td>\n",
       "      <td>0.0</td>\n",
       "      <td>2.011686</td>\n",
       "    </tr>\n",
       "    <tr>\n",
       "      <th>502</th>\n",
       "      <td>5565</td>\n",
       "      <td>19822</td>\n",
       "      <td>tempier-bandol-cabassaou-2017</td>\n",
       "      <td>92.0</td>\n",
       "      <td>0.0</td>\n",
       "      <td>0</td>\n",
       "      <td>0.0</td>\n",
       "      <td>2.141225</td>\n",
       "    </tr>\n",
       "    <tr>\n",
       "      <th>602</th>\n",
       "      <td>5916</td>\n",
       "      <td>14774</td>\n",
       "      <td>wemyss-malts-single-cask-chocolate-moka-cake</td>\n",
       "      <td>93.0</td>\n",
       "      <td>0.0</td>\n",
       "      <td>3</td>\n",
       "      <td>0.0</td>\n",
       "      <td>2.177207</td>\n",
       "    </tr>\n",
       "    <tr>\n",
       "      <th>655</th>\n",
       "      <td>6214</td>\n",
       "      <td>11601</td>\n",
       "      <td>domaine-des-comtes-lafon-volnay-1er-cru-champa...</td>\n",
       "      <td>99.0</td>\n",
       "      <td>0.0</td>\n",
       "      <td>7</td>\n",
       "      <td>0.0</td>\n",
       "      <td>2.393104</td>\n",
       "    </tr>\n",
       "    <tr>\n",
       "      <th>63</th>\n",
       "      <td>4115</td>\n",
       "      <td>15382</td>\n",
       "      <td>zind-humbrecht-riesling-gc-rangen-thann-clos-s...</td>\n",
       "      <td>100.0</td>\n",
       "      <td>0.0</td>\n",
       "      <td>11</td>\n",
       "      <td>0.0</td>\n",
       "      <td>2.429087</td>\n",
       "    </tr>\n",
       "    <tr>\n",
       "      <th>380</th>\n",
       "      <td>4903</td>\n",
       "      <td>14805</td>\n",
       "      <td>domaine-des-croix-corton-grand-cru-les-greves-...</td>\n",
       "      <td>102.3</td>\n",
       "      <td>0.0</td>\n",
       "      <td>20</td>\n",
       "      <td>0.0</td>\n",
       "      <td>2.511848</td>\n",
       "    </tr>\n",
       "    <tr>\n",
       "      <th>222</th>\n",
       "      <td>4407</td>\n",
       "      <td>3509</td>\n",
       "      <td>cognac-frapin-cigar-blend</td>\n",
       "      <td>104.0</td>\n",
       "      <td>1.0</td>\n",
       "      <td>6</td>\n",
       "      <td>104.0</td>\n",
       "      <td>2.573018</td>\n",
       "    </tr>\n",
       "    <tr>\n",
       "      <th>432</th>\n",
       "      <td>5008</td>\n",
       "      <td>11602</td>\n",
       "      <td>domaine-des-comtes-lafon-volnay-1er-cru-santen...</td>\n",
       "      <td>105.0</td>\n",
       "      <td>0.0</td>\n",
       "      <td>10</td>\n",
       "      <td>0.0</td>\n",
       "      <td>2.609001</td>\n",
       "    </tr>\n",
       "    <tr>\n",
       "      <th>431</th>\n",
       "      <td>5007</td>\n",
       "      <td>12791</td>\n",
       "      <td>domaine-des-comtes-lafon-volnay-1er-cru-santen...</td>\n",
       "      <td>105.0</td>\n",
       "      <td>0.0</td>\n",
       "      <td>17</td>\n",
       "      <td>0.0</td>\n",
       "      <td>2.609001</td>\n",
       "    </tr>\n",
       "    <tr>\n",
       "      <th>647</th>\n",
       "      <td>6201</td>\n",
       "      <td>14596</td>\n",
       "      <td>david-duband-chambolle-musigny-1er-cru-les-sen...</td>\n",
       "      <td>105.6</td>\n",
       "      <td>0.0</td>\n",
       "      <td>7</td>\n",
       "      <td>0.0</td>\n",
       "      <td>2.630591</td>\n",
       "    </tr>\n",
       "    <tr>\n",
       "      <th>219</th>\n",
       "      <td>4404</td>\n",
       "      <td>3507</td>\n",
       "      <td>cognac-frapin-fontpinot-xo</td>\n",
       "      <td>108.5</td>\n",
       "      <td>2.0</td>\n",
       "      <td>2</td>\n",
       "      <td>217.0</td>\n",
       "      <td>2.734941</td>\n",
       "    </tr>\n",
       "    <tr>\n",
       "      <th>227</th>\n",
       "      <td>4582</td>\n",
       "      <td>12857</td>\n",
       "      <td>chateau-de-puligny-montrachet-1cru-champ-canet...</td>\n",
       "      <td>109.6</td>\n",
       "      <td>0.0</td>\n",
       "      <td>7</td>\n",
       "      <td>0.0</td>\n",
       "      <td>2.774522</td>\n",
       "    </tr>\n",
       "    <tr>\n",
       "      <th>437</th>\n",
       "      <td>5025</td>\n",
       "      <td>13914</td>\n",
       "      <td>champagne-agrapart-fils-lavizoise-grand-cru-20...</td>\n",
       "      <td>112.0</td>\n",
       "      <td>0.0</td>\n",
       "      <td>0</td>\n",
       "      <td>0.0</td>\n",
       "      <td>2.860881</td>\n",
       "    </tr>\n",
       "    <tr>\n",
       "      <th>604</th>\n",
       "      <td>5918</td>\n",
       "      <td>14773</td>\n",
       "      <td>wemyss-malts-single-cask-scotch-whisky-chai-ca...</td>\n",
       "      <td>114.0</td>\n",
       "      <td>0.0</td>\n",
       "      <td>8</td>\n",
       "      <td>0.0</td>\n",
       "      <td>2.932846</td>\n",
       "    </tr>\n",
       "    <tr>\n",
       "      <th>656</th>\n",
       "      <td>6215</td>\n",
       "      <td>12790</td>\n",
       "      <td>domaine-des-comtes-lafon-volnay-1er-cru-champa...</td>\n",
       "      <td>115.0</td>\n",
       "      <td>0.0</td>\n",
       "      <td>4</td>\n",
       "      <td>0.0</td>\n",
       "      <td>2.968829</td>\n",
       "    </tr>\n",
       "    <tr>\n",
       "      <th>653</th>\n",
       "      <td>6212</td>\n",
       "      <td>13996</td>\n",
       "      <td>domaine-des-comtes-lafon-volnay-1er-cru-santen...</td>\n",
       "      <td>115.0</td>\n",
       "      <td>2.0</td>\n",
       "      <td>2</td>\n",
       "      <td>230.0</td>\n",
       "      <td>2.968829</td>\n",
       "    </tr>\n",
       "    <tr>\n",
       "      <th>648</th>\n",
       "      <td>6202</td>\n",
       "      <td>15126</td>\n",
       "      <td>domaine-clerget-echezeaux-en-orveaux-2015</td>\n",
       "      <td>116.4</td>\n",
       "      <td>0.0</td>\n",
       "      <td>14</td>\n",
       "      <td>0.0</td>\n",
       "      <td>3.019205</td>\n",
       "    </tr>\n",
       "    <tr>\n",
       "      <th>657</th>\n",
       "      <td>6216</td>\n",
       "      <td>15070</td>\n",
       "      <td>domaine-des-comtes-lafon-volnay-1er-cru-champa...</td>\n",
       "      <td>121.0</td>\n",
       "      <td>0.0</td>\n",
       "      <td>6</td>\n",
       "      <td>0.0</td>\n",
       "      <td>3.184726</td>\n",
       "    </tr>\n",
       "    <tr>\n",
       "      <th>654</th>\n",
       "      <td>6213</td>\n",
       "      <td>15072</td>\n",
       "      <td>domaine-des-comtes-lafon-volnay-1er-cru-santen...</td>\n",
       "      <td>121.0</td>\n",
       "      <td>0.0</td>\n",
       "      <td>7</td>\n",
       "      <td>0.0</td>\n",
       "      <td>3.184726</td>\n",
       "    </tr>\n",
       "    <tr>\n",
       "      <th>603</th>\n",
       "      <td>5917</td>\n",
       "      <td>14775</td>\n",
       "      <td>wemyss-malts-single-cask-scotch-whisky-choc-n-...</td>\n",
       "      <td>122.0</td>\n",
       "      <td>0.0</td>\n",
       "      <td>4</td>\n",
       "      <td>0.0</td>\n",
       "      <td>3.220709</td>\n",
       "    </tr>\n",
       "    <tr>\n",
       "      <th>511</th>\n",
       "      <td>5612</td>\n",
       "      <td>14915</td>\n",
       "      <td>domaine-weinbach-gewurztraminer-gc-furstentum-...</td>\n",
       "      <td>124.8</td>\n",
       "      <td>0.0</td>\n",
       "      <td>12</td>\n",
       "      <td>0.0</td>\n",
       "      <td>3.321461</td>\n",
       "    </tr>\n",
       "    <tr>\n",
       "      <th>201</th>\n",
       "      <td>4355</td>\n",
       "      <td>12589</td>\n",
       "      <td>champagne-egly-ouriet-grand-cru-brut-blanc-de-...</td>\n",
       "      <td>126.5</td>\n",
       "      <td>11.0</td>\n",
       "      <td>2</td>\n",
       "      <td>1391.5</td>\n",
       "      <td>3.382632</td>\n",
       "    </tr>\n",
       "    <tr>\n",
       "      <th>642</th>\n",
       "      <td>6126</td>\n",
       "      <td>14923</td>\n",
       "      <td>champagne-gosset-celebris-vintage-2007</td>\n",
       "      <td>135.0</td>\n",
       "      <td>2.0</td>\n",
       "      <td>10</td>\n",
       "      <td>270.0</td>\n",
       "      <td>3.688486</td>\n",
       "    </tr>\n",
       "    <tr>\n",
       "      <th>381</th>\n",
       "      <td>4904</td>\n",
       "      <td>14220</td>\n",
       "      <td>domaine-des-croix-corton-charlemagne-grand-cru...</td>\n",
       "      <td>137.0</td>\n",
       "      <td>5.0</td>\n",
       "      <td>13</td>\n",
       "      <td>685.0</td>\n",
       "      <td>3.760451</td>\n",
       "    </tr>\n",
       "    <tr>\n",
       "      <th>221</th>\n",
       "      <td>4406</td>\n",
       "      <td>7819</td>\n",
       "      <td>cognac-frapin-chateau-de-fontpinot-1989-20-ans</td>\n",
       "      <td>157.0</td>\n",
       "      <td>0.0</td>\n",
       "      <td>3</td>\n",
       "      <td>0.0</td>\n",
       "      <td>4.480108</td>\n",
       "    </tr>\n",
       "    <tr>\n",
       "      <th>553</th>\n",
       "      <td>5767</td>\n",
       "      <td>15185</td>\n",
       "      <td>camille-giroud-clos-de-vougeot-2016</td>\n",
       "      <td>175.0</td>\n",
       "      <td>0.0</td>\n",
       "      <td>12</td>\n",
       "      <td>0.0</td>\n",
       "      <td>5.127798</td>\n",
       "    </tr>\n",
       "    <tr>\n",
       "      <th>218</th>\n",
       "      <td>4402</td>\n",
       "      <td>3510</td>\n",
       "      <td>cognac-frapin-vip-xo</td>\n",
       "      <td>176.0</td>\n",
       "      <td>13.0</td>\n",
       "      <td>8</td>\n",
       "      <td>2288.0</td>\n",
       "      <td>5.163781</td>\n",
       "    </tr>\n",
       "    <tr>\n",
       "      <th>587</th>\n",
       "      <td>5892</td>\n",
       "      <td>14983</td>\n",
       "      <td>coteaux-champenois-egly-ouriet-ambonnay-rouge-...</td>\n",
       "      <td>191.3</td>\n",
       "      <td>3.0</td>\n",
       "      <td>10</td>\n",
       "      <td>573.9</td>\n",
       "      <td>5.714318</td>\n",
       "    </tr>\n",
       "    <tr>\n",
       "      <th>426</th>\n",
       "      <td>5001</td>\n",
       "      <td>14581</td>\n",
       "      <td>david-duband-charmes-chambertin-grand-cru-2014</td>\n",
       "      <td>217.5</td>\n",
       "      <td>0.0</td>\n",
       "      <td>20</td>\n",
       "      <td>0.0</td>\n",
       "      <td>6.657068</td>\n",
       "    </tr>\n",
       "    <tr>\n",
       "      <th>199</th>\n",
       "      <td>4352</td>\n",
       "      <td>15940</td>\n",
       "      <td>champagne-egly-ouriet-grand-cru-millesime-2008</td>\n",
       "      <td>225.0</td>\n",
       "      <td>5.0</td>\n",
       "      <td>0</td>\n",
       "      <td>1125.0</td>\n",
       "      <td>6.926939</td>\n",
       "    </tr>\n",
       "  </tbody>\n",
       "</table>\n",
       "</div>"
      ],
      "text/plain": [
       "     product_id    sku                                          post_name  \\\n",
       "205        4359  13853  champagne-larmandier-bernier-grand-cru-vieille...   \n",
       "438        5026  13913  champagne-agrapart-fils-mineral-extra-brut-bla...   \n",
       "65         4132  11668  zind-humbrecht-pinot-gris-grand-cru-rangen-de-...   \n",
       "502        5565  19822                      tempier-bandol-cabassaou-2017   \n",
       "602        5916  14774       wemyss-malts-single-cask-chocolate-moka-cake   \n",
       "655        6214  11601  domaine-des-comtes-lafon-volnay-1er-cru-champa...   \n",
       "63         4115  15382  zind-humbrecht-riesling-gc-rangen-thann-clos-s...   \n",
       "380        4903  14805  domaine-des-croix-corton-grand-cru-les-greves-...   \n",
       "222        4407   3509                          cognac-frapin-cigar-blend   \n",
       "432        5008  11602  domaine-des-comtes-lafon-volnay-1er-cru-santen...   \n",
       "431        5007  12791  domaine-des-comtes-lafon-volnay-1er-cru-santen...   \n",
       "647        6201  14596  david-duband-chambolle-musigny-1er-cru-les-sen...   \n",
       "219        4404   3507                         cognac-frapin-fontpinot-xo   \n",
       "227        4582  12857  chateau-de-puligny-montrachet-1cru-champ-canet...   \n",
       "437        5025  13914  champagne-agrapart-fils-lavizoise-grand-cru-20...   \n",
       "604        5918  14773  wemyss-malts-single-cask-scotch-whisky-chai-ca...   \n",
       "656        6215  12790  domaine-des-comtes-lafon-volnay-1er-cru-champa...   \n",
       "653        6212  13996  domaine-des-comtes-lafon-volnay-1er-cru-santen...   \n",
       "648        6202  15126          domaine-clerget-echezeaux-en-orveaux-2015   \n",
       "657        6216  15070  domaine-des-comtes-lafon-volnay-1er-cru-champa...   \n",
       "654        6213  15072  domaine-des-comtes-lafon-volnay-1er-cru-santen...   \n",
       "603        5917  14775  wemyss-malts-single-cask-scotch-whisky-choc-n-...   \n",
       "511        5612  14915  domaine-weinbach-gewurztraminer-gc-furstentum-...   \n",
       "201        4355  12589  champagne-egly-ouriet-grand-cru-brut-blanc-de-...   \n",
       "642        6126  14923             champagne-gosset-celebris-vintage-2007   \n",
       "381        4904  14220  domaine-des-croix-corton-charlemagne-grand-cru...   \n",
       "221        4406   7819     cognac-frapin-chateau-de-fontpinot-1989-20-ans   \n",
       "553        5767  15185                camille-giroud-clos-de-vougeot-2016   \n",
       "218        4402   3510                               cognac-frapin-vip-xo   \n",
       "587        5892  14983  coteaux-champenois-egly-ouriet-ambonnay-rouge-...   \n",
       "426        5001  14581     david-duband-charmes-chambertin-grand-cru-2014   \n",
       "199        4352  15940     champagne-egly-ouriet-grand-cru-millesime-2008   \n",
       "\n",
       "     price  total_sales  stock_quantity  CA par produit   z-score  \n",
       "205   85.6          1.0               0            85.6  1.910934  \n",
       "438   86.8          0.0               2             0.0  1.954114  \n",
       "65    88.4          0.0               5             0.0  2.011686  \n",
       "502   92.0          0.0               0             0.0  2.141225  \n",
       "602   93.0          0.0               3             0.0  2.177207  \n",
       "655   99.0          0.0               7             0.0  2.393104  \n",
       "63   100.0          0.0              11             0.0  2.429087  \n",
       "380  102.3          0.0              20             0.0  2.511848  \n",
       "222  104.0          1.0               6           104.0  2.573018  \n",
       "432  105.0          0.0              10             0.0  2.609001  \n",
       "431  105.0          0.0              17             0.0  2.609001  \n",
       "647  105.6          0.0               7             0.0  2.630591  \n",
       "219  108.5          2.0               2           217.0  2.734941  \n",
       "227  109.6          0.0               7             0.0  2.774522  \n",
       "437  112.0          0.0               0             0.0  2.860881  \n",
       "604  114.0          0.0               8             0.0  2.932846  \n",
       "656  115.0          0.0               4             0.0  2.968829  \n",
       "653  115.0          2.0               2           230.0  2.968829  \n",
       "648  116.4          0.0              14             0.0  3.019205  \n",
       "657  121.0          0.0               6             0.0  3.184726  \n",
       "654  121.0          0.0               7             0.0  3.184726  \n",
       "603  122.0          0.0               4             0.0  3.220709  \n",
       "511  124.8          0.0              12             0.0  3.321461  \n",
       "201  126.5         11.0               2          1391.5  3.382632  \n",
       "642  135.0          2.0              10           270.0  3.688486  \n",
       "381  137.0          5.0              13           685.0  3.760451  \n",
       "221  157.0          0.0               3             0.0  4.480108  \n",
       "553  175.0          0.0              12             0.0  5.127798  \n",
       "218  176.0         13.0               8          2288.0  5.163781  \n",
       "587  191.3          3.0              10           573.9  5.714318  \n",
       "426  217.5          0.0              20             0.0  6.657068  \n",
       "199  225.0          5.0               0          1125.0  6.926939  "
      ]
     },
     "execution_count": 25,
     "metadata": {},
     "output_type": "execute_result"
    }
   ],
   "source": [
    "q1 = np.quantile(erp_web_ca[\"price\"], 0.25)\n",
    "q3  = np.quantile(erp_web_ca[\"price\"], 0.75)\n",
    "iqr = q3 - q1\n",
    "val_max = q3 + 1.5 * iqr\n",
    "outlier_iqr = erp_web_ca[erp_web_ca[\"price\"] > val_max]\n",
    "nb_outlier_iqr = len(outlier_iqr)\n",
    "print(bold + red + f\"\\nLa valeur maximale avec l'écart interquartile est de {round(val_max, 2)}\" + end)\n",
    "print(bold + red + f\"\\nLes {nb_outlier_iqr} produits qui ont une valeur supérieure à la valeur maximale sont :\" + end)\n",
    "outlier_iqr"
   ]
  },
  {
   "cell_type": "code",
   "execution_count": 26,
   "id": "55350a49",
   "metadata": {
    "canvas": {
     "comments": [],
     "componentType": "CodeCell",
     "copiedOriginId": null,
     "diskcache": false,
     "headerColor": "none",
     "id": "2c4085f4-876e-4f4f-9bf6-16b1daf61f58",
     "isComponent": false,
     "name": "",
     "parents": []
    }
   },
   "outputs": [
    {
     "data": {
      "image/png": "[encoded data removed]",
      "text/plain": [
       "<Figure size 1200x600 with 1 Axes>"
      ]
     },
     "metadata": {},
     "output_type": "display_data"
    }
   ],
   "source": [
    "# visualisation\n",
    "plt.figure(figsize=(12, 6))\n",
    "plt.scatter(erp_web_ca['price'], erp_web_ca['total_sales'], label='Prix normaux')\n",
    "plt.scatter(outlier_iqr['price'], outlier_iqr['total_sales'], color='red', label='Outliers')\n",
    "plt.title(\"Répartition des prix entre normaux et outliers\", fontsize=16)\n",
    "plt.xticks([10 * i for i in range(24)])\n",
    "plt.yticks([10 * i for i in range(11)])\n",
    "plt.xlabel(\"Prix de vente\", fontsize=12)\n",
    "plt.ylabel(\"Nombre de produits vendus\", fontsize=12)\n",
    "plt.legend()\n",
    "plt.show()"
   ]
  },
  {
   "cell_type": "markdown",
   "id": "b12e7b6f",
   "metadata": {
    "canvas": {
     "comments": [],
     "componentType": "CodeCell",
     "copiedOriginId": null,
     "diskcache": false,
     "headerColor": "none",
     "id": "18c3b11d-c90b-4296-a822-fb2d7649dcb5",
     "isComponent": false,
     "name": "",
     "parents": []
    }
   },
   "source": [
    "### *Part du CA*"
   ]
  },
  {
   "cell_type": "code",
   "execution_count": 27,
   "id": "8289bbca",
   "metadata": {
    "canvas": {
     "comments": [],
     "componentType": "CodeCell",
     "copiedOriginId": null,
     "diskcache": false,
     "headerColor": "none",
     "id": "76463fee-9b96-47f1-95f4-26c65ad630e8",
     "isComponent": false,
     "name": "",
     "parents": []
    }
   },
   "outputs": [
    {
     "name": "stdout",
     "output_type": "stream",
     "text": [
      "\u001b[1m\u001b[31m\n",
      "Le chiffre d'affaires total des outliers est de 6970.0 €\u001b[0;0m\n",
      "\u001b[1m\u001b[31m\n",
      "Cela représente 9.88 % du chiffre d'affaires total\u001b[0;0m\n"
     ]
    }
   ],
   "source": [
    "outlier_iqr_ca = outlier_iqr[\"CA par produit\"].sum()\n",
    "print(bold + red +\n",
    "      f\"\\nLe chiffre d'affaires total des outliers est de {outlier_iqr_ca} €\" + end)\n",
    "print(bold + red +\n",
    "      f\"\\nCela représente {round((outlier_iqr_ca / total_ca) * 100, 2)} % du chiffre d'affaires total\" + end)"
   ]
  },
  {
   "cell_type": "markdown",
   "id": "ade85580",
   "metadata": {
    "canvas": {
     "comments": [],
     "componentType": "CodeCell",
     "copiedOriginId": null,
     "diskcache": false,
     "headerColor": "none",
     "id": "b66ca54b-0530-4a84-a86b-a548ea638fa7",
     "isComponent": false,
     "name": "",
     "parents": []
    }
   },
   "source": [
    "## **Représentation graphique des outliers (boxplot)**"
   ]
  },
  {
   "cell_type": "code",
   "execution_count": 28,
   "id": "0e1ee3cd",
   "metadata": {
    "canvas": {
     "comments": [],
     "componentType": "CodeCell",
     "copiedOriginId": null,
     "diskcache": false,
     "headerColor": "none",
     "id": "f143b85f-9048-4277-bd07-6bd33713a182",
     "isComponent": false,
     "name": "",
     "parents": []
    }
   },
   "outputs": [
    {
     "data": {
      "image/png": "[encoded data removed]",
      "text/plain": [
       "<Figure size 1500x600 with 1 Axes>"
      ]
     },
     "metadata": {},
     "output_type": "display_data"
    }
   ],
   "source": [
    "# visualisation\n",
    "plt.figure(figsize=(15, 6))\n",
    "flierprops = dict(marker='o', markerfacecolor='r', markersize=6, linestyle='none', markeredgecolor='black')\n",
    "plt.boxplot(erp_web_ca[\"price\"], flierprops=flierprops, vert=False)\n",
    "plt.xticks([10 * i for i in range(24)])\n",
    "plt.xlabel('Prix', fontsize=12)\n",
    "plt.ylabel('Dispersion', fontsize=12)\n",
    "plt.title(\"Représentation graphique des outliers\", fontsize=16)\n",
    "plt.grid()\n",
    "plt.show()"
   ]
  },
  {
   "cell_type": "markdown",
   "id": "10f529c3",
   "metadata": {
    "canvas": {
     "comments": [],
     "componentType": "CodeCell",
     "copiedOriginId": null,
     "diskcache": false,
     "headerColor": "none",
     "id": "d40e8e45-2b50-4fea-8e57-5dbe51d7ef77",
     "isComponent": false,
     "name": "",
     "parents": []
    }
   },
   "source": [
    "## **Conclusion et recommandations**"
   ]
  },
  {
   "cell_type": "markdown",
   "id": "82cac334",
   "metadata": {
    "canvas": {
     "comments": [],
     "componentType": "CodeCell",
     "copiedOriginId": null,
     "diskcache": false,
     "headerColor": "none",
     "id": "2e0ee6fd-780b-45b1-9096-7fd095b15f75",
     "isComponent": false,
     "name": "",
     "parents": []
    }
   },
   "source": [
    "<span style=\"color:red\">\n",
    "    \n",
    "**Le chiffre d'affaires actuel est de 70 568.6 €**</span>\n",
    "\n",
    "**Celui-ci pourrait être amélioré en affinant la sélection de produits :**\n",
    "\n",
    "1. Nous avons remarqué que six d'entre eux constituent à eux seuls 22.38 % du chiffre d'affaires alors qu'ils ne représentent que 0.84 % des références et 9.67 % des ventes, ces produits sont à privilégier. Cela concerne un stock actuel de 30 bouteilles (0.15% des stocks).\n",
    "\n",
    "\n",
    "2. Inversement 329 produits sur 714 (46.08 % des références) n'ont généré aucun chiffre d'affaires. Cela concerne un stock actuel de 5933 bouteilles (28.91% des stocks).\n",
    "\n",
    "\n",
    "3. En terme de nombre de ventes sept produits se détachent, ils représentent à eux seuls 14.55 % du chiffre d'affaires et 17.15 % des ventes alors qu'ils constituent 0.98 % des produits référencés, ces produits sont également à privilégier. Cela concerne un stock actuel de 735 bouteilles (3.58 % des stocks).\n",
    "\n",
    "**Nous pouvons également remarquer la présence de 30 outliers, dont le chiffre d'affaires représente 9.76% du chiffre d'affaires total, au vu de ce montant non négligable ils doivent être conservés pour l'analyse.**\n",
    "\n",
    "**De plus, après vérification des références chez d'autres marchands, les montants s'avèrent bien cohérents.**\n"
   ]
  }
 ],
 "metadata": {
  "canvas": {
   "colorPalette": [
    "inherit",
    "inherit",
    "inherit",
    "inherit",
    "inherit",
    "inherit",
    "inherit",
    "inherit",
    "inherit",
    "inherit"
   ],
   "parameters": [],
   "version": "1.0"
  },
  "kernelspec": {
   "display_name": "Python 3 (ipykernel)",
   "language": "python",
   "name": "python3"
  },
  "language_info": {
   "codemirror_mode": {
    "name": "ipython",
    "version": 3
   },
   "file_extension": ".py",
   "mimetype": "text/x-python",
   "name": "python",
   "nbconvert_exporter": "python",
   "pygments_lexer": "ipython3",
   "version": "3.9.13"
  },
  "toc": {
   "base_numbering": 1,
   "nav_menu": {},
   "number_sections": true,
   "sideBar": true,
   "skip_h1_title": false,
   "title_cell": "Table of Contents",
   "title_sidebar": "Contents",
   "toc_cell": false,
   "toc_position": {
    "height": "calc(100% - 180px)",
    "left": "10px",
    "top": "150px",
    "width": "409.59375px"
   },
   "toc_section_display": true,
   "toc_window_display": true
  },
  "varInspector": {
   "cols": {
    "lenName": 16,
    "lenType": 16,
    "lenVar": 40
   },
   "kernels_config": {
    "python": {
     "delete_cmd_postfix": "",
     "delete_cmd_prefix": "del ",
     "library": "var_list.py",
     "varRefreshCmd": "print(var_dic_list())"
    },
    "r": {
     "delete_cmd_postfix": ") ",
     "delete_cmd_prefix": "rm(",
     "library": "var_list.r",
     "varRefreshCmd": "cat(var_dic_list()) "
    }
   },
   "position": {
    "height": "300px",
    "left": "1677px",
    "right": "20px",
    "top": "120px",
    "width": "350px"
   },
   "types_to_exclude": [
    "module",
    "function",
    "builtin_function_or_method",
    "instance",
    "_Feature"
   ],
   "window_display": true
  }
 },
 "nbformat": 4,
 "nbformat_minor": 5
}
